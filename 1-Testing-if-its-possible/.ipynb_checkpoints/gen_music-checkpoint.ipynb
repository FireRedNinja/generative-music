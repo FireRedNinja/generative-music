{
 "cells": [
  {
   "cell_type": "markdown",
   "metadata": {
    "colab_type": "text",
    "id": "VLQQ1WPS1zhN"
   },
   "source": [
    "# Use example code to try out LSTM\n",
    "\n",
    "Code from [Github](https://github.com/Skuldur/Classical-Piano-Composer)"
   ]
  },
  {
   "cell_type": "code",
   "execution_count": 0,
   "metadata": {
    "colab": {},
    "colab_type": "code",
    "id": "2Vvu1ixZBjRp"
   },
   "outputs": [],
   "source": [
    "# install libraries\n",
    "!pip3 install --upgrade music21"
   ]
  },
  {
   "cell_type": "code",
   "execution_count": 0,
   "metadata": {
    "colab": {},
    "colab_type": "code",
    "id": "YheTWtqDB00f"
   },
   "outputs": [],
   "source": [
    "# import the libaries\n",
    "from music21 import converter, instrument, note, chord, stream\n",
    "import glob\n",
    "import numpy as np\n",
    "import pickle\n",
    "import keras\n",
    "import socket\n",
    "from keras.models import Sequential\n",
    "from keras.layers import Dense\n",
    "from keras.layers import Dropout\n",
    "from keras.layers import LSTM\n",
    "from keras.layers import Activation\n",
    "from keras.utils import np_utils\n",
    "from keras.callbacks import ModelCheckpoint"
   ]
  },
  {
   "cell_type": "code",
   "execution_count": 0,
   "metadata": {
    "colab": {},
    "colab_type": "code",
    "id": "c_P3uurz_OCt"
   },
   "outputs": [],
   "source": [
    "# import data\n",
    "from google.colab import drive\n",
    "\n",
    "drive.mount('/content/gdrive')"
   ]
  },
  {
   "cell_type": "code",
   "execution_count": 0,
   "metadata": {
    "colab": {},
    "colab_type": "code",
    "id": "NoamvGLVB604"
   },
   "outputs": [],
   "source": [
    "!ls /content/gdrive/My\\ Drive/training_data/zelda_flute/single\n",
    "!ls /content/gdrive/My\\ Drive/training_data/data/\n",
    "!rm *.hdf5\n",
    "!rm *.mid"
   ]
  },
  {
   "cell_type": "markdown",
   "metadata": {
    "colab_type": "text",
    "id": "8srbQlhPftkh"
   },
   "source": [
    "# Training"
   ]
  },
  {
   "cell_type": "code",
   "execution_count": 0,
   "metadata": {
    "colab": {},
    "colab_type": "code",
    "id": "EL8e8YyiJlvq"
   },
   "outputs": [],
   "source": [
    "\"\"\" Get all the notes and chords from the midi files in the ./midi_songs directory \"\"\"\n",
    "notes = []\n",
    "\n",
    "for file in glob.glob(\"/content/gdrive/My Drive/training_data/zelda_flute/single/*.mid\"):\n",
    "    midi = converter.parse(file)\n",
    "    \n",
    "    print(\"Parsing %s\" % file)\n",
    "\n",
    "    notes_to_parse = None\n",
    "    \n",
    "    # file has instrument parts\n",
    "    try:\n",
    "        s2 = instrument.partitionByInstrument(midi)\n",
    "        notes_to_parse = s2.parts[0].recurse()\n",
    "    # file has instrument parts\n",
    "    except:\n",
    "        notes_to_parse = midi.flat.notes\n",
    "\n",
    "    for element in notes_to_parse:\n",
    "        if isinstance(element, note.Note):\n",
    "            notes.append(str(element.pitch))\n",
    "        elif isinstance(element, chord.Chord):\n",
    "            notes.append('.'.join(str(n) for n in element.normalOrder))\n",
    "\n",
    "with open('/content/gdrive/My Drive/training_data/data/notes.txt', 'wb') as filepath:\n",
    "    pickle.dump(notes, filepath)\n"
   ]
  },
  {
   "cell_type": "code",
   "execution_count": 0,
   "metadata": {
    "colab": {},
    "colab_type": "code",
    "id": "C5oZEkW2O88w"
   },
   "outputs": [],
   "source": [
    "\"\"\" Prepare the sequences used by the Neural Network \"\"\"\n",
    "sequence_length = 4\n",
    "\n",
    "# get all pitch names\n",
    "pitchnames = sorted(set(item for item in notes))\n",
    "\n",
    " # create a dictionary to map pitches to integers\n",
    "note_to_int = dict((note, number) for number, note in enumerate(pitchnames))\n",
    "\n",
    "network_input = []\n",
    "network_output = []\n",
    "\n",
    "\n",
    "print(\"param:\\tlen(notes): \" + str(len(notes)) + \"\\t\" + \"sequence_length: \" + str(sequence_length))\n",
    "# create input sequences and the corresponding outputs\n",
    "for i in range(0, len(notes) - sequence_length, 1):\n",
    "    sequence_in = notes[i:i + sequence_length]\n",
    "    sequence_out = notes[i + sequence_length]\n",
    "    network_input.append([note_to_int[char] for char in sequence_in])\n",
    "    network_output.append(note_to_int[sequence_out])\n",
    "\n",
    "\n",
    "n_patterns = len(network_input)\n",
    "\n",
    "n_vocab = len(set(notes))\n",
    "\n",
    "# reshape the input into a format compatible with LSTM layers\n",
    "network_input = np.reshape(network_input, (n_patterns, sequence_length, 1))\n",
    "# normalize input\n",
    "network_input = network_input / float(n_vocab)\n",
    "\n",
    "network_output = keras.utils.to_categorical(network_output)"
   ]
  },
  {
   "cell_type": "code",
   "execution_count": 0,
   "metadata": {
    "colab": {},
    "colab_type": "code",
    "id": "fckjGHEIRb6y"
   },
   "outputs": [],
   "source": [
    "\"\"\" create the structure of the neural network \"\"\"\n",
    "model = Sequential()\n",
    "model.add(LSTM(\n",
    "    512,\n",
    "    input_shape=(network_input.shape[1], network_input.shape[2]),\n",
    "    return_sequences=True\n",
    "))\n",
    "model.add(Dropout(0.3))\n",
    "model.add(LSTM(512, return_sequences=True))\n",
    "model.add(Dropout(0.3))\n",
    "model.add(LSTM(512))\n",
    "model.add(Dense(256))\n",
    "model.add(Dropout(0.3))\n",
    "model.add(Dense(n_vocab))\n",
    "model.add(Activation('softmax'))\n",
    "model.compile(loss='categorical_crossentropy', optimizer='rmsprop')"
   ]
  },
  {
   "cell_type": "code",
   "execution_count": 10,
   "metadata": {
    "colab": {
     "base_uri": "https://localhost:8080/",
     "height": 748
    },
    "colab_type": "code",
    "id": "f-DaCTGAX-5F",
    "outputId": "d86f1990-95f8-4e0c-db3d-6bf468805cba"
   },
   "outputs": [
    {
     "name": "stdout",
     "output_type": "stream",
     "text": [
      "input shape: (224, 4, 1)\n",
      "output shape: (224, 10)\n",
      "Epoch 1/20\n",
      "224/224 [==============================] - 1s 7ms/step - loss: 2.1586\n",
      "Epoch 2/20\n",
      "224/224 [==============================] - 1s 6ms/step - loss: 2.1211\n",
      "Epoch 3/20\n",
      "224/224 [==============================] - 2s 7ms/step - loss: 2.1157\n",
      "Epoch 4/20\n",
      "224/224 [==============================] - 1s 7ms/step - loss: 2.1049\n",
      "Epoch 5/20\n",
      "224/224 [==============================] - 1s 6ms/step - loss: 2.1211\n",
      "Epoch 6/20\n",
      "224/224 [==============================] - 1s 7ms/step - loss: 2.1202\n",
      "Epoch 7/20\n",
      "224/224 [==============================] - 1s 6ms/step - loss: 2.1158\n",
      "Epoch 8/20\n",
      "224/224 [==============================] - 1s 6ms/step - loss: 2.1175\n",
      "Epoch 9/20\n",
      "224/224 [==============================] - 1s 6ms/step - loss: 2.1045\n",
      "Epoch 10/20\n",
      "224/224 [==============================] - 2s 7ms/step - loss: 2.0964\n",
      "Epoch 11/20\n",
      "224/224 [==============================] - 1s 7ms/step - loss: 2.1110\n",
      "Epoch 12/20\n",
      "224/224 [==============================] - 1s 6ms/step - loss: 2.1012\n",
      "Epoch 13/20\n",
      "224/224 [==============================] - 1s 7ms/step - loss: 2.0991\n",
      "Epoch 14/20\n",
      "224/224 [==============================] - 1s 7ms/step - loss: 2.1140\n",
      "Epoch 15/20\n",
      "224/224 [==============================] - 1s 7ms/step - loss: 2.0920\n",
      "Epoch 16/20\n",
      "224/224 [==============================] - 1s 6ms/step - loss: 2.0998\n",
      "Epoch 17/20\n",
      "224/224 [==============================] - 1s 6ms/step - loss: 2.0681\n",
      "Epoch 18/20\n",
      "224/224 [==============================] - 2s 7ms/step - loss: 2.0547\n",
      "Epoch 19/20\n",
      "224/224 [==============================] - 1s 7ms/step - loss: 2.0658\n",
      "Epoch 20/20\n",
      "224/224 [==============================] - 1s 7ms/step - loss: 2.0436\n"
     ]
    },
    {
     "data": {
      "text/plain": [
       "<keras.callbacks.History at 0x7f0bd13f8b00>"
      ]
     },
     "execution_count": 10,
     "metadata": {
      "tags": []
     },
     "output_type": "execute_result"
    }
   ],
   "source": [
    "\"\"\" train the neural network \"\"\"\n",
    "filepath = \"weights-improvement-{epoch:02d}-{loss:.4f}-bigger.hdf5\"\n",
    "checkpoint = ModelCheckpoint(\n",
    "    filepath,\n",
    "    monitor='loss',\n",
    "    verbose=0,\n",
    "    save_best_only=True,\n",
    "    mode='min',\n",
    ")\n",
    "callbacks_list = [checkpoint]\n",
    "\n",
    "model.fit(network_input, network_output, epochs=20, batch_size=64, callbacks=callbacks_list)"
   ]
  },
  {
   "cell_type": "markdown",
   "metadata": {
    "colab_type": "text",
    "id": "hPQ9xMDigQci"
   },
   "source": [
    "# Prediction"
   ]
  },
  {
   "cell_type": "code",
   "execution_count": 0,
   "metadata": {
    "colab": {},
    "colab_type": "code",
    "id": "eZ0KDCpdW05b"
   },
   "outputs": [],
   "source": [
    "\"\"\" Generate a flute midi file \"\"\"\n",
    "#load the notes used to train the model\n",
    "with open('/content/gdrive/My Drive/training_data/data/notes.txt', 'rb') as filepath:\n",
    "  notes = pickle.load(filepath)\n",
    "\n",
    "# Get all pitch names\n",
    "pitchnames = sorted(set(item for item in notes))\n",
    "# Get all pitch names\n",
    "n_vocab = len(set(notes))\n"
   ]
  },
  {
   "cell_type": "code",
   "execution_count": 0,
   "metadata": {
    "colab": {},
    "colab_type": "code",
    "id": "z1j8cwa3XNLy"
   },
   "outputs": [],
   "source": [
    "\"\"\" Prepare the sequences used by the Neural Network \"\"\"\n",
    "# map between notes and integers and back\n",
    "note_to_int = dict((note, number) for number, note in enumerate(pitchnames))\n",
    "\n",
    "sequence_length = 4\n",
    "network_input = []\n",
    "output = []\n",
    "for i in range(0, len(notes) - sequence_length, 1):\n",
    "    sequence_in = notes[i:i + sequence_length]\n",
    "    sequence_out = notes[i + sequence_length]\n",
    "    network_input.append([note_to_int[char] for char in sequence_in])\n",
    "    output.append(note_to_int[sequence_out])\n",
    "\n",
    "n_patterns = len(network_input)\n",
    "\n",
    "# reshape the input into a format compatible with LSTM layers\n",
    "normalized_input = np.reshape(network_input, (n_patterns, sequence_length, 1))\n",
    "# normalize input\n",
    "normalized_input = normalized_input / float(n_vocab)"
   ]
  },
  {
   "cell_type": "code",
   "execution_count": 15,
   "metadata": {
    "colab": {
     "base_uri": "https://localhost:8080/",
     "height": 54
    },
    "colab_type": "code",
    "id": "By9muUJKvzQz",
    "outputId": "9de7b544-6d18-47b2-e42b-56d9c5b2f43c"
   },
   "outputs": [
    {
     "name": "stdout",
     "output_type": "stream",
     "text": [
      "[[0, 0, 0, 5], [0, 0, 5, 9], [0, 5, 9, 6], [5, 9, 6, 5], [9, 6, 5, 4], [6, 5, 4, 5], [5, 4, 5, 2], [4, 5, 2, 7], [5, 2, 7, 4], [2, 7, 4, 0], [7, 4, 0, 5], [4, 0, 5, 2], [0, 5, 2, 4], [5, 2, 4, 0], [2, 4, 0, 7], [4, 0, 7, 5], [0, 7, 5, 2], [7, 5, 2, 4], [5, 2, 4, 5], [2, 4, 5, 6], [4, 5, 6, 9], [5, 6, 9, 5], [6, 9, 5, 6], [9, 5, 6, 0], [5, 6, 0, 0], [6, 0, 0, 0], [0, 0, 0, 5], [0, 0, 5, 9], [0, 5, 9, 6], [5, 9, 6, 5], [9, 6, 5, 4], [6, 5, 4, 5], [5, 4, 5, 2], [4, 5, 2, 7], [5, 2, 7, 4], [2, 7, 4, 0], [7, 4, 0, 5], [4, 0, 5, 2], [0, 5, 2, 4], [5, 2, 4, 5], [2, 4, 5, 6], [4, 5, 6, 9], [5, 6, 9, 8], [6, 9, 8, 6], [9, 8, 6, 4], [8, 6, 4, 5], [6, 4, 5, 5], [4, 5, 5, 0], [5, 5, 0, 0], [5, 0, 0, 0], [0, 0, 0, 5], [0, 0, 5, 9], [0, 5, 9, 6], [5, 9, 6, 5], [9, 6, 5, 4], [6, 5, 4, 5], [5, 4, 5, 2], [4, 5, 2, 7], [5, 2, 7, 4], [2, 7, 4, 0], [7, 4, 0, 5], [4, 0, 5, 2], [0, 5, 2, 4], [5, 2, 4, 0], [2, 4, 0, 7], [4, 0, 7, 5], [0, 7, 5, 2], [7, 5, 2, 4], [5, 2, 4, 5], [2, 4, 5, 6], [4, 5, 6, 9], [5, 6, 9, 5], [6, 9, 5, 6], [9, 5, 6, 0], [5, 6, 0, 0], [6, 0, 0, 0], [0, 0, 0, 5], [0, 0, 5, 9], [0, 5, 9, 6], [5, 9, 6, 5], [9, 6, 5, 4], [6, 5, 4, 5], [5, 4, 5, 2], [4, 5, 2, 7], [5, 2, 7, 4], [2, 7, 4, 0], [7, 4, 0, 5], [4, 0, 5, 2], [0, 5, 2, 4], [5, 2, 4, 5], [2, 4, 5, 6], [4, 5, 6, 9], [5, 6, 9, 8], [6, 9, 8, 6], [9, 8, 6, 4], [8, 6, 4, 5], [6, 4, 5, 5], [4, 5, 5, 1], [5, 5, 1, 1], [5, 1, 1, 8], [1, 1, 8, 9], [1, 8, 9, 6], [8, 9, 6, 9], [9, 6, 9, 5], [6, 9, 5, 4], [9, 5, 4, 5], [5, 4, 5, 6], [4, 5, 6, 1], [5, 6, 1, 5], [6, 1, 5, 5], [1, 5, 5, 8], [5, 5, 8, 5], [5, 8, 5, 5], [8, 5, 5, 9], [5, 5, 9, 9], [5, 9, 9, 8], [9, 9, 8, 1], [9, 8, 1, 3], [8, 1, 3, 3], [1, 3, 3, 8], [3, 3, 8, 6], [3, 8, 6, 1], [8, 6, 1, 1], [6, 1, 1, 8], [1, 1, 8, 9], [1, 8, 9, 5], [8, 9, 5, 6], [9, 5, 6, 9], [5, 6, 9, 6], [6, 9, 6, 6], [9, 6, 6, 6], [6, 6, 6, 5], [6, 6, 5, 4], [6, 5, 4, 5], [5, 4, 5, 5], [4, 5, 5, 5], [5, 5, 5, 1], [5, 5, 1, 6], [5, 1, 6, 4], [1, 6, 4, 8], [6, 4, 8, 5], [4, 8, 5, 5], [8, 5, 5, 9], [5, 5, 9, 9], [5, 9, 9, 6], [9, 9, 6, 4], [9, 6, 4, 6], [6, 4, 6, 5], [4, 6, 5, 2], [6, 5, 2, 5], [5, 2, 5, 8], [2, 5, 8, 1], [5, 8, 1, 3], [8, 1, 3, 9], [1, 3, 9, 5], [3, 9, 5, 9], [9, 5, 9, 6], [5, 9, 6, 6], [9, 6, 6, 9], [6, 6, 9, 6], [6, 9, 6, 1], [9, 6, 1, 1], [6, 1, 1, 8], [1, 1, 8, 9], [1, 8, 9, 6], [8, 9, 6, 9], [9, 6, 9, 5], [6, 9, 5, 4], [9, 5, 4, 5], [5, 4, 5, 6], [4, 5, 6, 1], [5, 6, 1, 5], [6, 1, 5, 5], [1, 5, 5, 8], [5, 5, 8, 5], [5, 8, 5, 5], [8, 5, 5, 9], [5, 5, 9, 9], [5, 9, 9, 8], [9, 9, 8, 1], [9, 8, 1, 3], [8, 1, 3, 3], [1, 3, 3, 8], [3, 3, 8, 6], [3, 8, 6, 1], [8, 6, 1, 1], [6, 1, 1, 8], [1, 1, 8, 9], [1, 8, 9, 5], [8, 9, 5, 6], [9, 5, 6, 9], [5, 6, 9, 6], [6, 9, 6, 6], [9, 6, 6, 6], [6, 6, 6, 5], [6, 6, 5, 4], [6, 5, 4, 5], [5, 4, 5, 5], [4, 5, 5, 5], [5, 5, 5, 1], [5, 5, 1, 6], [5, 1, 6, 4], [1, 6, 4, 8], [6, 4, 8, 5], [4, 8, 5, 5], [8, 5, 5, 9], [5, 5, 9, 9], [5, 9, 9, 6], [9, 9, 6, 4], [9, 6, 4, 6], [6, 4, 6, 5], [4, 6, 5, 2], [6, 5, 2, 5], [5, 2, 5, 8], [2, 5, 8, 1], [5, 8, 1, 3], [8, 1, 3, 9], [1, 3, 9, 5], [3, 9, 5, 9], [9, 5, 9, 6], [5, 9, 6, 6], [9, 6, 6, 1], [6, 6, 1, 0], [6, 1, 0, 0]]\n"
     ]
    }
   ],
   "source": [
    "# Generate Music\n",
    "\n",
    "\"\"\" create the structure of the neural network \"\"\"\n",
    "model = Sequential()\n",
    "model.add(LSTM(\n",
    "    512,\n",
    "    input_shape=(normalized_input.shape[1], normalized_input.shape[2]),\n",
    "    return_sequences=True\n",
    "))\n",
    "model.add(Dropout(0.3))\n",
    "model.add(LSTM(512, return_sequences=True))\n",
    "model.add(Dropout(0.3))\n",
    "model.add(LSTM(512))\n",
    "model.add(Dense(256))\n",
    "model.add(Dropout(0.3))\n",
    "model.add(Dense(n_vocab))\n",
    "model.add(Activation('softmax'))\n",
    "model.compile(loss='categorical_crossentropy', optimizer='rmsprop')\n",
    "\n",
    "# Load the weights to each node\n",
    "model.load_weights('weights-improvement-20-2.0436-bigger.hdf5')\n"
   ]
  },
  {
   "cell_type": "code",
   "execution_count": 0,
   "metadata": {
    "colab": {},
    "colab_type": "code",
    "id": "zjpfY9szzqQx"
   },
   "outputs": [],
   "source": [
    "\"\"\" Generate notes from the neural network based on a sequence of notes \"\"\"\n",
    "# pick a random sequence from the input as a starting point for the prediction\n",
    "start = np.random.randint(0, len(network_input)-1)\n",
    "\n",
    "int_to_note = dict((number, note) for number, note in enumerate(pitchnames))\n",
    "\n",
    "pattern = network_input[start]\n",
    "prediction_output = []\n",
    "\n",
    "# generate 10 notes\n",
    "for note_index in range(10):\n",
    "    prediction_input = np.reshape(pattern, (1, len(pattern), 1))\n",
    "    prediciton_input = prediction_input / float(n_vocab)\n",
    "    \n",
    "    prediction = model.predict(prediction_input, verbose=0)\n",
    "    \n",
    "    index = np.argmax(prediction)\n",
    "    result = int_to_note[index]\n",
    "    prediction_output.append(result)\n",
    "\n",
    "    pattern.append(index)\n",
    "    pattern = pattern[1:len(pattern)]\n"
   ]
  },
  {
   "cell_type": "code",
   "execution_count": 0,
   "metadata": {
    "colab": {},
    "colab_type": "code",
    "id": "oMZw8fyl6kvg"
   },
   "outputs": [],
   "source": [
    "\"\"\" convert the output from the prediction to notes and create a midi file\n",
    "    from the notes \"\"\"\n",
    "offset = 0\n",
    "output_notes = []\n",
    "\n",
    "# create note and chord objects based on the values generated by the model\n",
    "for pattern in prediction_output:\n",
    "    # pattern is a chord\n",
    "    if ('.' in pattern) or pattern.isdigit():\n",
    "        notes_in_chord = pattern.split('.')\n",
    "        notes = []\n",
    "        for current_note in notes_in_chord:\n",
    "            new_note = note.Note(int(current_note))\n",
    "            new_note.storedInstrument = instrument.Piano()\n",
    "            notes.append(new_note)\n",
    "        new_chord = chord.Chord(notes)\n",
    "        new_chord.offset = offset\n",
    "        output_notes.append(new_chord)\n",
    "    # pattern is a note\n",
    "    else:\n",
    "        new_note = note.Note(pattern)\n",
    "        new_note.offset = offset\n",
    "        new_note.storedInstrument = instrument.Piano()\n",
    "        output_notes.append(new_note)\n",
    "\n",
    "    # increase offset each iteration so that notes do not stack\n",
    "    offset += 0.5\n",
    "\n"
   ]
  },
  {
   "cell_type": "code",
   "execution_count": 0,
   "metadata": {
    "colab": {},
    "colab_type": "code",
    "id": "S8DN2S-H6obf"
   },
   "outputs": [],
   "source": [
    "midi_stream = stream.Stream(output_notes)\n",
    "midi_stream.write('midi', fp='zelda_flute.mid')"
   ]
  }
 ],
 "metadata": {
  "accelerator": "TPU",
  "colab": {
   "collapsed_sections": [],
   "name": "gen_music.ipynb",
   "provenance": [],
   "toc_visible": true,
   "version": "0.3.2"
  },
  "kernelspec": {
   "display_name": "Python 3",
   "language": "python",
   "name": "python3"
  },
  "language_info": {
   "codemirror_mode": {
    "name": "ipython",
    "version": 3
   },
   "file_extension": ".py",
   "mimetype": "text/x-python",
   "name": "python",
   "nbconvert_exporter": "python",
   "pygments_lexer": "ipython3",
   "version": "3.6.5"
  }
 },
 "nbformat": 4,
 "nbformat_minor": 1
}
