{
 "cells": [
  {
   "cell_type": "markdown",
   "metadata": {},
   "source": [
    "# Training the model"
   ]
  },
  {
   "cell_type": "markdown",
   "metadata": {},
   "source": [
    "### Imports"
   ]
  },
  {
   "cell_type": "code",
   "execution_count": 1,
   "metadata": {},
   "outputs": [
    {
     "name": "stderr",
     "output_type": "stream",
     "text": [
      "Using TensorFlow backend.\n"
     ]
    }
   ],
   "source": [
    "import glob\n",
    "import numpy as np\n",
    "\n",
    "from pprint import pprint\n",
    "from collections import deque\n",
    "\n",
    "from keras.models import Sequential\n",
    "from keras.layers import Dense\n",
    "from keras.layers import Dropout\n",
    "from keras.layers import LSTM\n",
    "from keras.layers import Activation\n",
    "from keras.utils import np_utils, normalize\n",
    "from keras.callbacks import ModelCheckpoint\n",
    "from keras.layers import *\n",
    "\n",
    "\n",
    "from tensorflow.keras.callbacks import TensorBoard\n",
    "import tensorflow as tf"
   ]
  },
  {
   "cell_type": "markdown",
   "metadata": {},
   "source": [
    "## Hyperparameters"
   ]
  },
  {
   "cell_type": "code",
   "execution_count": 2,
   "metadata": {},
   "outputs": [],
   "source": [
    "SEQ_LEN = 3\n",
    "FUTURE_SEQ_PREDICT = 1"
   ]
  },
  {
   "cell_type": "markdown",
   "metadata": {},
   "source": [
    "## Prepare the data"
   ]
  },
  {
   "cell_type": "markdown",
   "metadata": {},
   "source": [
    "### Function given an array, sequence length and prediction sequence length, returns an array with that structure for the network"
   ]
  },
  {
   "cell_type": "code",
   "execution_count": 3,
   "metadata": {},
   "outputs": [],
   "source": [
    "def createXY(arr, sequenceLength, predictionLength):\n",
    "    x = []\n",
    "    y = []\n",
    "    \n",
    "    i = 0\n",
    "    while i+sequenceLength+predictionLength < len(arr):\n",
    "        x.append(arr[i : i+sequenceLength])\n",
    "        y.append(arr[i+sequenceLength : i+sequenceLength+predictionLength])\n",
    "        i += sequenceLength\n",
    "        \n",
    "    return (np.array(x), np.array(y))"
   ]
  },
  {
   "cell_type": "code",
   "execution_count": 4,
   "metadata": {},
   "outputs": [],
   "source": [
    "def shuffle(arr):\n",
    "    return np.random.shuffle(arr)"
   ]
  },
  {
   "cell_type": "code",
   "execution_count": 5,
   "metadata": {},
   "outputs": [],
   "source": [
    "path = \"./numpyRepresentation/\"\n",
    "noOfInputData = 100000\n",
    "x = []\n",
    "y = []\n",
    "\n",
    "for file in glob.glob(f\"{path}*.npy\"):\n",
    "    if len(x) >= noOfInputData:\n",
    "        break\n",
    "    \n",
    "    x_data, y_data = createXY(np.load(file), 3, 1)\n",
    "#     print(x_data.ndim)\n",
    "    if x_data.ndim == 3:\n",
    "        x += list(x_data)\n",
    "        y += list(y_data)\n",
    "    \n",
    "x = np.array(x)\n",
    "y = np.array(y)"
   ]
  },
  {
   "cell_type": "code",
   "execution_count": 6,
   "metadata": {},
   "outputs": [],
   "source": [
    "# 80/20 split for training/testing dataset\n",
    "trainLength = int(round((len(x) * 4)/5))\n",
    "x_train = x[:trainLength]\n",
    "x_test = x[trainLength:]\n",
    "y_train = y[:trainLength]\n",
    "y_test = y[trainLength:]"
   ]
  },
  {
   "cell_type": "code",
   "execution_count": 7,
   "metadata": {},
   "outputs": [
    {
     "name": "stdout",
     "output_type": "stream",
     "text": [
      "(1022, 1, 2)\n"
     ]
    }
   ],
   "source": [
    "pprint(y_train.shape)"
   ]
  },
  {
   "cell_type": "code",
   "execution_count": 8,
   "metadata": {},
   "outputs": [
    {
     "name": "stdout",
     "output_type": "stream",
     "text": [
      "_________________________________________________________________\n",
      "Layer (type)                 Output Shape              Param #   \n",
      "=================================================================\n",
      "lstm_1 (LSTM)                (None, 3, 128)            67072     \n",
      "_________________________________________________________________\n",
      "dropout_1 (Dropout)          (None, 3, 128)            0         \n",
      "_________________________________________________________________\n",
      "lstm_2 (LSTM)                (None, 128)               131584    \n",
      "_________________________________________________________________\n",
      "dropout_2 (Dropout)          (None, 128)               0         \n",
      "_________________________________________________________________\n",
      "reshape_1 (Reshape)          (None, 1, 128)            0         \n",
      "_________________________________________________________________\n",
      "dense_1 (Dense)              (None, 1, 2)              258       \n",
      "=================================================================\n",
      "Total params: 198,914\n",
      "Trainable params: 198,914\n",
      "Non-trainable params: 0\n",
      "_________________________________________________________________\n",
      "Train on 1022 samples, validate on 255 samples\n",
      "Epoch 1/3\n",
      "1022/1022 [==============================] - 37s 36ms/step - loss: 0.6074 - acc: 0.1076 - val_loss: 0.5960 - val_acc: 0.0412\n",
      "Epoch 2/3\n",
      "1022/1022 [==============================] - 28s 28ms/step - loss: 0.5854 - acc: 0.1164 - val_loss: 0.5944 - val_acc: 0.0412\n",
      "Epoch 3/3\n",
      "1022/1022 [==============================] - 34s 34ms/step - loss: 0.5884 - acc: 0.1184 - val_loss: 0.5807 - val_acc: 0.0431\n"
     ]
    }
   ],
   "source": [
    "# NAME = f\"{SEQ_LEN}-SEQ-{FUTURE_PERIOD_PREDICT}-PRED-{int(time.time())}\"\n",
    "\n",
    "model = Sequential()\n",
    "model.add(LSTM(\n",
    "    128,\n",
    "    input_shape=x_train.shape[1:],\n",
    "    return_sequences=True\n",
    "))\n",
    "model.add(Dropout(0.2))\n",
    "model.add(LSTM(128))\n",
    "model.add(Dropout(0.2))\n",
    "# model.add(Dense(32))\n",
    "model.add(Reshape((1, 128)))\n",
    "model.add(Dense(2, activation='softmax'))\n",
    "model.compile(\n",
    "    loss='binary_crossentropy',\n",
    "    optimizer='rmsprop',\n",
    "    metrics=['accuracy']\n",
    ")\n",
    "model.summary()\n",
    "\n",
    "tensorboard = TensorBoard(log_dir=\"logs/{}\")\n",
    "\n",
    "filepath = \"RNN_Final-{epoch:02d}\"  # unique file name that will include the epoch and the validation acc for that epoch\n",
    "# checkpoint = ModelCheckpoint(\"models/{}.model\".format(filepath, monitor='val_acc', verbose=1, save_best_only=True, mode='max')) # saves only the best ones\n",
    "\n",
    "checkpoint = ModelCheckpoint(\n",
    "    filepath,\n",
    "    monitor='loss',\n",
    "    verbose=0,\n",
    "    save_best_only=True,\n",
    "    mode='min',\n",
    ")\n",
    "\n",
    "# Train model\n",
    "history = model.fit(\n",
    "    x_train, y_train,\n",
    "    batch_size=1,\n",
    "    epochs=3,\n",
    "    validation_data=(x_test, y_test),\n",
    "    callbacks=[checkpoint],\n",
    ")"
   ]
  },
  {
   "cell_type": "code",
   "execution_count": 9,
   "metadata": {},
   "outputs": [
    {
     "name": "stdout",
     "output_type": "stream",
     "text": [
      "Test loss: [0.580669974287351, 0.04313725478508893]\n",
      "Test accuracy: [0.580669974287351, 0.04313725478508893]\n"
     ]
    }
   ],
   "source": [
    "# Score model\n",
    "score = model.evaluate(x_test, y_test, verbose=0)\n",
    "print('Test loss:', score)\n",
    "print('Test accuracy:', score)\n",
    "# Save model\n",
    "model.save(\"models/model\")"
   ]
  },
  {
   "cell_type": "markdown",
   "metadata": {},
   "source": [
    "## Plot training and validation scores"
   ]
  },
  {
   "cell_type": "code",
   "execution_count": 11,
   "metadata": {},
   "outputs": [
    {
     "name": "stdout",
     "output_type": "stream",
     "text": [
      "{'acc': [0.10763209393346379, 0.11643835616438356, 0.11839530332681017],\n",
      " 'loss': [0.607418130376101, 0.5854044693527622, 0.5884078558089681],\n",
      " 'val_acc': [0.041176470588235294, 0.041176470588235294, 0.043137254901960784],\n",
      " 'val_loss': [0.5959736727032007, 0.5943916233146892, 0.580669990123487]}\n"
     ]
    },
    {
     "data": {
      "image/png": "[encoded data removed]",
      "text/plain": [
       "<Figure size 432x288 with 1 Axes>"
      ]
     },
     "metadata": {
      "needs_background": "light"
     },
     "output_type": "display_data"
    },
    {
     "data": {
      "image/png": "[encoded data removed]",
      "text/plain": [
       "<Figure size 432x288 with 1 Axes>"
      ]
     },
     "metadata": {
      "needs_background": "light"
     },
     "output_type": "display_data"
    }
   ],
   "source": [
    "# plotting\n",
    "import matplotlib.pyplot as plt\n",
    "\n",
    "pprint(history.history)\n",
    "\n",
    "acc = history.history['acc']\n",
    "val_acc = history.history['val_acc']\n",
    "loss = history.history['loss']\n",
    "val_loss = history.history['val_loss']\n",
    "\n",
    "epochs = range(1,len(acc) + 1)\n",
    "\n",
    "plt.plot(epochs, acc, 'bo', label='Training acc')\n",
    "plt.plot(epochs, val_acc, 'b', label='Validation acc')\n",
    "plt.title('Training and validation accuracy')\n",
    "plt.legend()\n",
    "\n",
    "plt.figure()\n",
    "\n",
    "plt.plot(epochs, loss, 'bo', label='Training loss')\n",
    "plt.plot(epochs, val_loss, 'b', label='Validation loss')\n",
    "plt.title('Training and validation loss')\n",
    "plt.legend()\n",
    "\n",
    "plt.show()"
   ]
  },
  {
   "cell_type": "code",
   "execution_count": 12,
   "metadata": {},
   "outputs": [],
   "source": [
    "data = np.load(\"./numpyRepresentation/Digimon - Butterfly (Piano Version)0.npy\")\n",
    "data = np.reshape(data, (63,3,2))\n",
    "\n",
    "prediction = model.predict(data)\n",
    "np.save(\"./prediction\", np.reshape(prediction, (63,2)))"
   ]
  },
  {
   "cell_type": "code",
   "execution_count": 13,
   "metadata": {},
   "outputs": [],
   "source": [
    "# pprint(prediction.reshape(63,2))\n",
    "def generateNotes(model, sequence):\n",
    "    return model.predict(sequence)"
   ]
  },
  {
   "cell_type": "code",
   "execution_count": null,
   "metadata": {},
   "outputs": [],
   "source": []
  },
  {
   "cell_type": "code",
   "execution_count": 90,
   "metadata": {},
   "outputs": [],
   "source": [
    "PREDICTION_LENGTH = 20\n",
    "\n",
    "prediction = np.reshape(prediction, (63,2))\n",
    "\n",
    "i = 0\n",
    "input_sequence = np.array([prediction[:SEQ_LEN]])\n",
    "output_sequence = input_sequence.copy()\n",
    "# print(input_sequence)\n",
    "while i < PREDICTION_LENGTH:\n",
    "    generated_notes = generateNotes(model, input_sequence)\n",
    "    output_sequence = np.append(output_sequence, generated_notes, axis=1)\n",
    "    input_sequence = np.append(input_sequence, generated_notes, axis=1)\n",
    "    input_sequence = np.delete(input_sequence, 0, 1)\n",
    "    i+=1"
   ]
  },
  {
   "cell_type": "code",
   "execution_count": 85,
   "metadata": {},
   "outputs": [
    {
     "name": "stdout",
     "output_type": "stream",
     "text": [
      "Shape:  (1, 3, 2) (1, 1, 2)\n",
      "array([[[0.4153938 , 0.58460623],\n",
      "        [0.40665337, 0.5933466 ],\n",
      "        [0.42563573, 0.57436424],\n",
      "        [0.34858927, 0.6514107 ]]])\n"
     ]
    },
    {
     "data": {
      "text/plain": [
       "array([[[0.40665337, 0.5933466 ],\n",
       "        [0.42563573, 0.57436424],\n",
       "        [0.34858927, 0.6514107 ]]])"
      ]
     },
     "execution_count": 85,
     "metadata": {},
     "output_type": "execute_result"
    }
   ],
   "source": [
    "arr1 = np.array([[[0.4153938, 0.58460623], [0.40665337, 0.5933466 ],[0.42563573, 0.57436424]]])\n",
    "arr2 = np.array([[[0.34858927,0.6514107 ]]])\n",
    "\n",
    "print(\"Shape: \", arr1.shape, arr2.shape)\n",
    "\n",
    "result = np.append(arr1,arr2, axis=1)\n",
    "pprint(result)\n",
    "np.delete(result, 0, 1)"
   ]
  },
  {
   "cell_type": "code",
   "execution_count": 97,
   "metadata": {},
   "outputs": [
    {
     "data": {
      "text/plain": [
       "array([0.       , 0.       , 0.       , 0.       , 0.       , 0.       ,\n",
       "       0.       , 1.       , 0.       , 0.       , 0.       , 0.       ,\n",
       "       0.       , 0.       , 0.       , 0.       , 1.3333334],\n",
       "      dtype=float32)"
      ]
     },
     "execution_count": 97,
     "metadata": {},
     "output_type": "execute_result"
    }
   ],
   "source": [
    "testArr = [0,0,0,0,0,0,0,1,0,0,0,0,0,0,0,0, 1.3333333333]\n",
    "np.array(testArr, dtype=np.float32)"
   ]
  }
 ],
 "metadata": {
  "kernelspec": {
   "display_name": "Python 3",
   "language": "python",
   "name": "python3"
  },
  "language_info": {
   "codemirror_mode": {
    "name": "ipython",
    "version": 3
   },
   "file_extension": ".py",
   "mimetype": "text/x-python",
   "name": "python",
   "nbconvert_exporter": "python",
   "pygments_lexer": "ipython3",
   "version": "3.6.6"
  }
 },
 "nbformat": 4,
 "nbformat_minor": 2
}
