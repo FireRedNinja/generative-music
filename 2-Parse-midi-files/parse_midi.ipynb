{
 "cells": [
  {
   "cell_type": "markdown",
   "metadata": {},
   "source": [
    "# Parse Input Midi Files\n",
    "\n",
    "Analyse Midi files to get the features I am looking for and get a few bars of melody"
   ]
  },
  {
   "cell_type": "code",
   "execution_count": 2,
   "metadata": {},
   "outputs": [],
   "source": [
    "from music21 import *\n",
    "from pprint import pprint\n",
    "import glob"
   ]
  },
  {
   "cell_type": "code",
   "execution_count": null,
   "metadata": {},
   "outputs": [],
   "source": [
    "import music21 as music21"
   ]
  },
  {
   "cell_type": "code",
   "execution_count": null,
   "metadata": {},
   "outputs": [],
   "source": [
    "!sudo pip install --upgrade music21"
   ]
  },
  {
   "cell_type": "code",
   "execution_count": null,
   "metadata": {},
   "outputs": [],
   "source": [
    "us = environment.UserSettings()\n",
    "for key in sorted(us.keys()):\n",
    "    if key != \"localCorpusPath\":\n",
    "        print(\"Key : \", str(key), \"\\nValue: \", str(us[key]), \"\\n\")\n",
    "\n",
    "us[\"midiPath\"] = \"/snap/bin/musescore.mscore\"\n",
    "us[\"musicxmlPath\"] = \"/snap/bin/musescore.mscore\"\n",
    "us[\"musescoreDirectPNGPath\"] = \"/snap/bin/musescore.mscore\"\n",
    "us[\"lilypondPath\"] = \"/home/fireredninja/bin/lilypond\""
   ]
  },
  {
   "cell_type": "code",
   "execution_count": null,
   "metadata": {},
   "outputs": [],
   "source": [
    "!ls ./data"
   ]
  },
  {
   "cell_type": "code",
   "execution_count": null,
   "metadata": {},
   "outputs": [],
   "source": [
    "!rm ./output/*.mid"
   ]
  },
  {
   "cell_type": "code",
   "execution_count": 40,
   "metadata": {},
   "outputs": [],
   "source": [
    "# Look at all the functions and attributes\n",
    "def printAttributesAndFunctions(object):\n",
    "#     x = True\n",
    "#     for part in object:\n",
    "#         if x:\n",
    "#     #         pprint(dir(note))\n",
    "#             x = False\n",
    "    for func in dir(object):\n",
    "        try:\n",
    "            f = getattr(object, func)\n",
    "            print(\"---------------PASS---------------\")\n",
    "            if callable(f): # is it a function\n",
    "                # call it\n",
    "                print(f\"PRINTING CALLABLE FUNCTION ----- {func}\")\n",
    "                print(eval(f'note.{func}()'), \"\\n\\n\\n\")\n",
    "                pass\n",
    "            else:\n",
    "                # just print the attribute\n",
    "                print(f\"PRINTING ATTRIBUTE ------ {func}\")\n",
    "                print(eval(f'note.{func}'), \"\\n\\n\\n\")\n",
    "                pass\n",
    "        except:\n",
    "            try:\n",
    "                print(eval(f'note.{func}'), \"\\n\\n\\n\")\n",
    "                pass\n",
    "            except:\n",
    "                print(\"---------------FAIL---------------\")\n",
    "                print(f'{func}', \"\\n\\n\\n\")\n",
    "                pass"
   ]
  },
  {
   "cell_type": "code",
   "execution_count": null,
   "metadata": {
    "scrolled": false
   },
   "outputs": [],
   "source": [
    "# part0 = midi.parts[0]\n",
    "\n",
    "# for bar in part0.measures(0, None):\n",
    "#     print(\"--------------\")\n",
    "#     try:\n",
    "#         for el in bar.flat:\n",
    "#             print(el)\n",
    "#             if isinstance(el, note.GeneralNote):\n",
    "#                 print(\"aaaaaa\")\n",
    "#                 print(el.quarterLength, el.pitch)\n",
    "#     except:\n",
    "#         print(\"failed\")\n",
    "#         pass"
   ]
  },
  {
   "cell_type": "code",
   "execution_count": null,
   "metadata": {},
   "outputs": [],
   "source": [
    "def transpose(s):\n",
    "    k = s.analyze('key')\n",
    "    print(f\"Transposing from {k} to C-major\")\n",
    "    i = interval.Interval(k.tonic, pitch.Pitch('C'))\n",
    "    sNew = s.transpose(i)\n",
    "    # do something with sNew\n",
    "    return sNew"
   ]
  },
  {
   "cell_type": "code",
   "execution_count": null,
   "metadata": {},
   "outputs": [],
   "source": [
    "# Checks if the measure meets the requirements\n",
    "def metRequirements(measure):\n",
    "    pprint(\"Checking if requirements are met\")\n",
    "    requirementsMet = False\n",
    "                    \n",
    "    # Loop through all the notes\n",
    "    for element in measure.flat:\n",
    "        if isinstance(element, note.Note):\n",
    "            requirementsMet = True\n",
    "        elif isinstance(element, chord.Chord):\n",
    "            requirementsMet = False\n",
    "            print(\"Chord found\")\n",
    "            print(\"Requirements not met\")\n",
    "            break\n",
    "            # requirementsMet = metRequirements(element)\n",
    "    \n",
    "    return requirementsMet"
   ]
  },
  {
   "cell_type": "code",
   "execution_count": null,
   "metadata": {},
   "outputs": [],
   "source": [
    "def getTimeSignature(measure):\n",
    "    if \"_elements\" in measure.__dict__:\n",
    "        for element in measure.__dict__[\"_elements\"]:\n",
    "            if isinstance(element, meter.TimeSignature):\n",
    "                return element\n",
    "    return None"
   ]
  },
  {
   "cell_type": "code",
   "execution_count": null,
   "metadata": {},
   "outputs": [],
   "source": [
    "def writeToMidi(file, part, partCounter, noOfMeasures):\n",
    "    try:\n",
    "        print(f\"generating midi file {file[:-4]}-Part{partCounter}.mid\")\n",
    "        output = stream.Score(id='mainScore')\n",
    "        filePart = stream.Part(id='part0')\n",
    "        filePart.append([part.measures(0,noOfMeasures)])\n",
    "        output.insert(0, filePart)\n",
    "        # output = transpose(output)\n",
    "        filename = file[file.rfind(\"/\"):-3].replace(\" \", \"\") + \".mid\"\n",
    "        output.write(fmt=\"midi\", fp=f\"./output/{filename}.mid\")\n",
    "    except:\n",
    "        pass"
   ]
  },
  {
   "cell_type": "code",
   "execution_count": null,
   "metadata": {},
   "outputs": [],
   "source": [
    "def createDataset(location, noOfMeasures):\n",
    "\n",
    "    # loop through all the midi files in the location\n",
    "    for file in glob.glob(f\"{location}*.mid\"):\n",
    "        \n",
    "        print(\"----------------NEW FILE----------------\")\n",
    "\n",
    "        midi = converter.parse(file)\n",
    "        print(f\"Parsing {file}\")\n",
    "\n",
    "        \n",
    "        # Loop through all the parts in the score\n",
    "        # each part is the score for an instrument\n",
    "        partCounter = 0\n",
    "        print(\"No. of parts \", len(midi.parts))\n",
    "        for part in midi.parts:\n",
    "            \n",
    "            print(\"----------------NEW PART----------------\")\n",
    "            \n",
    "            try:\n",
    "                # Loop through all the measures\n",
    "                print(\"Key: \", part.analyze('key'))\n",
    "                print(\"Currently on part \", partCounter)\n",
    "                print(\"No. of measures \", len(part.measures(0, None)))\n",
    "                partCounter+=1 # TODO: move this to end of for loop\n",
    "            except:\n",
    "                continue\n",
    "            \n",
    "            if (len(part.measures(0, None)) < noOfMeasures):\n",
    "                continue\n",
    "\n",
    "\n",
    "            # assume wrong time signature and wrong clef\n",
    "            correctTimeSignature = False\n",
    "            correctClef = False\n",
    "            \n",
    "\n",
    "            # keeps track of which measure we are on\n",
    "            measureCounter = 0\n",
    "            \n",
    "            # checks if the measures meet the requirements\n",
    "            requirementsMet = False\n",
    "            \n",
    "            # loop over all of the measures in the score\n",
    "            for measure in part.measures(0, noOfMeasures):\n",
    "                print(\"----------------------------------------\")\n",
    "                print(\"Measure number: \", measureCounter)\n",
    "                measureCounter+=1\n",
    "            \n",
    "#                 print(\"-----MEASURE--------\")\n",
    "#                 pprint(measure.__dict__)\n",
    "#                 print(\"--------------------\")\n",
    "                \n",
    "                # check if the score/measure uses the correct clef\n",
    "                if hasattr(measure, 'clef'):\n",
    "                    if hasattr(measure.clef, 'line'):\n",
    "                        if measure.clef.line == 2:\n",
    "                            print(\"Clef: TrebleClef\")\n",
    "                            correctClef = True\n",
    "                        else:\n",
    "                            print(\"Wrong Clef Found\")\n",
    "                            correctClef = False\n",
    "                            break\n",
    "                \n",
    "                # check if the score/measure uses the correct time signature\n",
    "                timeSignature = getTimeSignature(measure)\n",
    "                if timeSignature != None:\n",
    "                    if timeSignature.ratioString == '4/4':\n",
    "                        print(\"Time Signature: 4/4\")\n",
    "                        correctTimeSignature = True\n",
    "                    else:\n",
    "                        print(\"Wrong Time Signature Found\")\n",
    "                        correctTimeSignature = False\n",
    "                        break\n",
    "                else:\n",
    "                    print(\"No attribute for TimeSignature\")\n",
    "\n",
    "                # skip measure  if\n",
    "                if not correctClef or not correctTimeSignature:\n",
    "                    print(\"Incorrect Clef or TimeSignature\")\n",
    "                    continue\n",
    "\n",
    "                requirementsMet = metRequirements(measure)\n",
    "                if requirementsMet:\n",
    "                    pprint(\"Requirements met\")\n",
    "                    continue\n",
    "                else:\n",
    "                    pprint(\"Requirements not met\")\n",
    "                    break\n",
    "\n",
    "            if requirementsMet:\n",
    "                writeToMidi(file, part, partCounter, noOfMeasures)\n",
    "    print(\"Finished\")"
   ]
  },
  {
   "cell_type": "code",
   "execution_count": null,
   "metadata": {
    "scrolled": true
   },
   "outputs": [],
   "source": [
    "createDataset(\"./data/\", 3)"
   ]
  },
  {
   "cell_type": "markdown",
   "metadata": {},
   "source": [
    "# Midi to Numpy\n",
    "\n",
    "Create a numpy representation of the midi files for the Deep Learning model"
   ]
  },
  {
   "cell_type": "code",
   "execution_count": null,
   "metadata": {},
   "outputs": [],
   "source": []
  },
  {
   "cell_type": "code",
   "execution_count": 16,
   "metadata": {},
   "outputs": [
    {
     "name": "stdout",
     "output_type": "stream",
     "text": [
      "Parsing ./output/Pokemon-LugiasSong..mid.mid\n"
     ]
    }
   ],
   "source": [
    "file = \"./output/Pokemon-LugiasSong..mid.mid\"\n",
    "midi = converter.parse(file)\n",
    "print(f\"Parsing {file}\")"
   ]
  },
  {
   "cell_type": "code",
   "execution_count": 17,
   "metadata": {},
   "outputs": [
    {
     "name": "stdout",
     "output_type": "stream",
     "text": [
      "{0.0} <music21.stream.Part 0x2123d785940>\n",
      "    {0.0} <music21.instrument.Flute Flute>\n",
      "    {0.0} <music21.instrument.Flute Flute>\n",
      "    {0.0} <music21.tempo.MetronomeMark animato Quarter=120.0>\n",
      "    {0.0} <music21.tempo.MetronomeMark andantino Quarter=80.0>\n",
      "    {0.0} <music21.tempo.MetronomeMark andantino Quarter=80.0>\n",
      "    {0.0} <music21.key.Key of G major>\n",
      "    {0.0} <music21.meter.TimeSignature 4/4>\n",
      "    {0.0} <music21.note.Note E>\n",
      "    {1.0} <music21.note.Note G>\n",
      "    {2.0} <music21.tempo.MetronomeMark andantino Quarter=80.0>\n",
      "    {2.0} <music21.note.Note F#>\n",
      "    {2.3333} <music21.tempo.MetronomeMark andantino Quarter=80.0>\n",
      "    {2.6667} <music21.tempo.MetronomeMark andantino Quarter=80.0>\n",
      "    {3.0} <music21.tempo.MetronomeMark andantino Quarter=80.0>\n",
      "    {3.25} <music21.note.Note D>\n",
      "    {3.3333} <music21.tempo.MetronomeMark andantino Quarter=80.0>\n",
      "    {3.75} <music21.tempo.MetronomeMark andantino Quarter=80.0>\n",
      "    {3.75} <music21.note.Note E>\n",
      "    {4.0} <music21.tempo.MetronomeMark andantino Quarter=80.0>\n",
      "    {4.25} <music21.note.Note B>\n",
      "    {6.0} <music21.tempo.MetronomeMark andantino Quarter=80.0>\n",
      "    {6.3333} <music21.tempo.MetronomeMark andantino Quarter=80.0>\n",
      "    {6.6667} <music21.tempo.MetronomeMark andantino Quarter=80.0>\n",
      "    {7.0} <music21.tempo.MetronomeMark andantino Quarter=80.0>\n",
      "    {7.25} <music21.note.Note E>\n",
      "    {7.3333} <music21.tempo.MetronomeMark andantino Quarter=80.0>\n",
      "    {7.75} <music21.tempo.MetronomeMark andantino Quarter=80.0>\n",
      "    {8.0} <music21.tempo.MetronomeMark andantino Quarter=80.0>\n",
      "    {8.25} <music21.note.Note G>\n",
      "    {9.25} <music21.note.Note F#>\n",
      "    {10.5} <music21.note.Note B>\n",
      "    {11.0} <music21.note.Note E>\n",
      "    {11.5} <music21.note.Note G>\n"
     ]
    }
   ],
   "source": [
    "midi.show('text')"
   ]
  },
  {
   "cell_type": "code",
   "execution_count": null,
   "metadata": {},
   "outputs": [],
   "source": [
    "printAttributesAndFunctions(midi)"
   ]
  },
  {
   "cell_type": "code",
   "execution_count": 6,
   "metadata": {},
   "outputs": [
    {
     "name": "stdout",
     "output_type": "stream",
     "text": [
      "{'_activeSite': <weakref at 0x00000212375DF408; to 'Score' at 0x00000212375C4940>,\n",
      " '_activeSiteStoredOffset': 0.0,\n",
      " '_atSoundingPitch': 'unknown',\n",
      " '_cache': {'Duration': <music21.duration.Duration 11.5>,\n",
      "            'HighestTime': 11.5,\n",
      "            'elements': [<music21.instrument.Piano Piano>,\n",
      "                         <music21.instrument.Piano Piano>,\n",
      "                         <music21.key.Key of C major>,\n",
      "                         <music21.meter.TimeSignature 4/4>,\n",
      "                         <music21.note.Rest rest>,\n",
      "                         <music21.note.Note C>,\n",
      "                         <music21.note.Note A>,\n",
      "                         <music21.note.Note C>,\n",
      "                         <music21.note.Rest rest>,\n",
      "                         <music21.note.Note C>,\n",
      "                         <music21.note.Note A>,\n",
      "                         <music21.note.Note C>,\n",
      "                         <music21.note.Rest rest>,\n",
      "                         <music21.note.Note E>,\n",
      "                         <music21.note.Note C>,\n",
      "                         <music21.note.Note E>,\n",
      "                         <music21.note.Rest rest>,\n",
      "                         <music21.note.Note C>,\n",
      "                         <music21.note.Note A>,\n",
      "                         <music21.note.Note G>,\n",
      "                         <music21.note.Rest rest>,\n",
      "                         <music21.note.Note A>,\n",
      "                         <music21.note.Note F>,\n",
      "                         <music21.note.Note A>]},\n",
      " '_derivation': None,\n",
      " '_duration': None,\n",
      " '_editorial': None,\n",
      " '_elements': [<music21.instrument.Piano Piano>,\n",
      "               <music21.instrument.Piano Piano>,\n",
      "               <music21.key.Key of C major>,\n",
      "               <music21.meter.TimeSignature 4/4>,\n",
      "               <music21.note.Rest rest>,\n",
      "               <music21.note.Note C>,\n",
      "               <music21.note.Note A>,\n",
      "               <music21.note.Note C>,\n",
      "               <music21.note.Rest rest>,\n",
      "               <music21.note.Note C>,\n",
      "               <music21.note.Note A>,\n",
      "               <music21.note.Note C>,\n",
      "               <music21.note.Rest rest>,\n",
      "               <music21.note.Note E>,\n",
      "               <music21.note.Note C>,\n",
      "               <music21.note.Note E>,\n",
      "               <music21.note.Rest rest>,\n",
      "               <music21.note.Note C>,\n",
      "               <music21.note.Note A>,\n",
      "               <music21.note.Note G>,\n",
      "               <music21.note.Rest rest>,\n",
      "               <music21.note.Note A>,\n",
      "               <music21.note.Note F>,\n",
      "               <music21.note.Note A>],\n",
      " '_endElements': [],\n",
      " '_mutable': True,\n",
      " '_naiveOffset': 0.0,\n",
      " '_offsetDict': {2277222534616: (0.0, <music21.instrument.Piano Piano>),\n",
      "                 2277222687912: (0.5, <music21.note.Note C>),\n",
      "                 2277261509576: (1.0, <music21.note.Note A>),\n",
      "                 2277261509912: (1.5, <music21.note.Note C>),\n",
      "                 2277261510752: (4.0, <music21.note.Note C>),\n",
      "                 2277261510864: (2.0, <music21.note.Rest rest>),\n",
      "                 2277261511256: (4.5, <music21.note.Note A>),\n",
      "                 2277261512656: (5.0, <music21.note.Note C>),\n",
      "                 2277261537576: (7.0, <music21.note.Note E>),\n",
      "                 2277261540376: (5.5, <music21.note.Rest rest>),\n",
      "                 2277261540768: (6.0, <music21.note.Note E>),\n",
      "                 2277261540992: (6.5, <music21.note.Note C>),\n",
      "                 2277261611696: (0.0, <music21.key.Key of C major>),\n",
      "                 2277261613656: (0.0, <music21.instrument.Piano Piano>),\n",
      "                 2277261702704: (0.0, <music21.meter.TimeSignature 4/4>),\n",
      "                 2277261704720: (0.0, <music21.note.Rest rest>),\n",
      "                 2277261726048: (8.5, <music21.note.Note A>),\n",
      "                 2277261726720: (8.0, <music21.note.Note C>),\n",
      "                 2277261727336: (9.0, <music21.note.Note G>),\n",
      "                 2277261727896: (9.5, <music21.note.Rest rest>),\n",
      "                 2277261728512: (10.0, <music21.note.Note A>),\n",
      "                 2277261728960: (7.5, <music21.note.Rest rest>),\n",
      "                 2277261750904: (10.5, <music21.note.Note F>),\n",
      "                 2277261751632: (11.0, <music21.note.Note A>)},\n",
      " '_partAbbreviation': None,\n",
      " '_partName': None,\n",
      " '_priority': 0,\n",
      " '_style': None,\n",
      " '_unlinkedDuration': None,\n",
      " 'autoSort': True,\n",
      " 'definesExplicitPageBreaks': False,\n",
      " 'definesExplicitSystemBreaks': False,\n",
      " 'groups': [],\n",
      " 'id': 2277222533888,\n",
      " 'isFlat': True,\n",
      " 'isSorted': True,\n",
      " 'sites': <music21.sites.Sites object at 0x00000212375CF508>,\n",
      " 'staffLines': 5,\n",
      " 'streamStatus': <music21.stream.streamStatus.StreamStatus object at 0x0000021237587B88>}\n"
     ]
    }
   ],
   "source": [
    "pprint(midi.__dict__[\"_elements\"][0].__dict__)"
   ]
  },
  {
   "cell_type": "code",
   "execution_count": 59,
   "metadata": {},
   "outputs": [
    {
     "name": "stdout",
     "output_type": "stream",
     "text": [
      "[<music21.note.Note E>,\n",
      " <music21.note.Note G>,\n",
      " <music21.note.Note F#>,\n",
      " <music21.note.Note D>,\n",
      " <music21.note.Note E>,\n",
      " <music21.note.Note B>,\n",
      " <music21.note.Note E>,\n",
      " <music21.note.Note G>,\n",
      " <music21.note.Note F#>,\n",
      " <music21.note.Note B>,\n",
      " <music21.note.Note E>,\n",
      " <music21.note.Note G>]\n",
      "1.0\n",
      "1.0\n",
      "1.0\n",
      "1.25\n",
      "0.5\n",
      "0.5\n",
      "3.0\n",
      "1.0\n",
      "1.0\n",
      "1.25\n",
      "0.5\n",
      "0.5\n",
      "0.5\n"
     ]
    }
   ],
   "source": [
    "part = midi.__dict__[\"_elements\"][0].__dict__[\"_elements\"]\n",
    "\n",
    "listOfNotes = [element for element in part if isinstance(element, note.GeneralNote)]\n",
    "\n",
    "pprint(listOfNotes)\n",
    "# Note\n",
    "# Rest\n",
    "# SpacerRest\n",
    "# Unpitched\n",
    "# NotRest\n",
    "# GeneralNote\n",
    "\n",
    "def noteToFloat(note):\n",
    "    notes = [\"C\", \"C#\", \"D-\", \"D\", \"D#\", \"E-\", \"E\", \"F\", \"F#\", \"G-\", \"G\", \"G#\", \"A-\", \"A\", \"A#\", \"B-\", \"B\"]\n",
    "    \n",
    "    notesToFloatDict = dict(dict(zip(notes, range(1, 17, 1))))\n",
    "    \n",
    "    pass\n",
    "\n",
    "def getDuration(note):\n",
    "    pprint(note.duration.quarterLength)\n",
    "    pass\n",
    "\n",
    "\n",
    "getDuration(part[7])\n",
    "\n",
    "\n",
    "# printAttributesAndFunctions(part[7])\n",
    "\n",
    "# print(part[7])\n",
    "for element in listOfNotes:\n",
    "    if (isinstance(element, note.GeneralNote)):\n",
    "        getDuration(element)\n",
    "        \n",
    "# print(isinstance(part[4], note.GeneralNote))"
   ]
  },
  {
   "cell_type": "code",
   "execution_count": null,
   "metadata": {},
   "outputs": [],
   "source": [
    "for file in glob.glob('./output/*.mid'):\n",
    "    print(\"--------------------------------------\")\n",
    "    midi = converter.parse(file)\n",
    "    print(f\"Parsing {file}\")\n",
    "    midi.show(\"text\")"
   ]
  }
 ],
 "metadata": {
  "kernelspec": {
   "display_name": "Python 3",
   "language": "python",
   "name": "python3"
  },
  "language_info": {
   "codemirror_mode": {
    "name": "ipython",
    "version": 3
   },
   "file_extension": ".py",
   "mimetype": "text/x-python",
   "name": "python",
   "nbconvert_exporter": "python",
   "pygments_lexer": "ipython3",
   "version": "3.6.7"
  }
 },
 "nbformat": 4,
 "nbformat_minor": 2
}
