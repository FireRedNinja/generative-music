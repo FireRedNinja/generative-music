{
 "cells": [
  {
   "cell_type": "markdown",
   "metadata": {},
   "source": [
    "# Network Models"
   ]
  },
  {
   "cell_type": "markdown",
   "metadata": {},
   "source": [
    "### Imports"
   ]
  },
  {
   "cell_type": "code",
   "execution_count": 1,
   "metadata": {},
   "outputs": [
    {
     "name": "stderr",
     "output_type": "stream",
     "text": [
      "Using TensorFlow backend.\n"
     ]
    }
   ],
   "source": [
    "from keras.models import Sequential\n",
    "from keras.layers import Dense\n",
    "from keras.layers import Dropout\n",
    "from keras.layers import LSTM\n",
    "from keras.layers import Activation\n",
    "from keras.layers import BatchNormalization\n",
    "from keras.layers import RNN, SimpleRNN\n",
    "from keras.utils import np_utils, plot_model\n",
    "from keras.callbacks import ModelCheckpoint\n",
    "from IPython.display import SVG\n",
    "from keras.utils.vis_utils import model_to_dot\n",
    "\n",
    "import numpy as np\n",
    "from pprint import pprint\n",
    "import tensorflow as tf\n",
    "from keras.callbacks import TensorBoard"
   ]
  },
  {
   "cell_type": "markdown",
   "metadata": {},
   "source": [
    "# ------------------------------------------------"
   ]
  },
  {
   "cell_type": "code",
   "execution_count": 2,
   "metadata": {},
   "outputs": [],
   "source": [
    "train_x = np.random.rand(100, 3, 2)\n",
    "train_y = np.random.rand(100, 2)\n",
    "\n",
    "validation_x = np.random.rand(100, 3, 2)\n",
    "validation_y = np.random.rand(100, 2)"
   ]
  },
  {
   "cell_type": "code",
   "execution_count": 3,
   "metadata": {},
   "outputs": [
    {
     "name": "stdout",
     "output_type": "stream",
     "text": [
      "(3, 2)\n",
      "array([[[0.21411881, 0.42099752],\n",
      "        [0.7907258 , 0.20817008],\n",
      "        [0.20813525, 0.90389346]],\n",
      "\n",
      "       [[0.37756179, 0.35161355],\n",
      "        [0.13676132, 0.23829683],\n",
      "        [0.03296968, 0.29935703]],\n",
      "\n",
      "       [[0.2240737 , 0.07843529],\n",
      "        [0.96580011, 0.04144674],\n",
      "        [0.90153646, 0.6735041 ]],\n",
      "\n",
      "       [[0.61243951, 0.32993143],\n",
      "        [0.83748113, 0.50856071],\n",
      "        [0.31254578, 0.2065283 ]],\n",
      "\n",
      "       [[0.81325358, 0.40063472],\n",
      "        [0.75687328, 0.94233032],\n",
      "        [0.79021634, 0.12612998]]])\n"
     ]
    }
   ],
   "source": [
    "pprint(train_x.shape[1:])\n",
    "pprint(train_x[:5])"
   ]
  },
  {
   "cell_type": "code",
   "execution_count": 4,
   "metadata": {},
   "outputs": [
    {
     "name": "stdout",
     "output_type": "stream",
     "text": [
      "_________________________________________________________________\n",
      "Layer (type)                 Output Shape              Param #   \n",
      "=================================================================\n",
      "lstm_1 (LSTM)                (None, 3, 128)            67072     \n",
      "_________________________________________________________________\n",
      "dropout_1 (Dropout)          (None, 3, 128)            0         \n",
      "_________________________________________________________________\n",
      "lstm_2 (LSTM)                (None, 128)               131584    \n",
      "_________________________________________________________________\n",
      "dropout_2 (Dropout)          (None, 128)               0         \n",
      "_________________________________________________________________\n",
      "dense_1 (Dense)              (None, 2)                 258       \n",
      "=================================================================\n",
      "Total params: 198,914\n",
      "Trainable params: 198,914\n",
      "Non-trainable params: 0\n",
      "_________________________________________________________________\n",
      "Epoch 1/3\n",
      "100/100 [==============================] - 6s 61ms/step - loss: 0.7392 - acc: 0.4800\n",
      "Epoch 2/3\n",
      "100/100 [==============================] - 3s 30ms/step - loss: 0.7381 - acc: 0.4900\n",
      "Epoch 3/3\n",
      "100/100 [==============================] - 4s 39ms/step - loss: 0.7370 - acc: 0.4900\n"
     ]
    }
   ],
   "source": [
    "# NAME = f\"{SEQ_LEN}-SEQ-{FUTURE_PERIOD_PREDICT}-PRED-{int(time.time())}\"\n",
    "\n",
    "model = Sequential()\n",
    "model.add(LSTM(\n",
    "    128,\n",
    "    input_shape=train_x.shape[1:],\n",
    "    return_sequences=True\n",
    "))\n",
    "model.add(Dropout(0.2))\n",
    "model.add(LSTM(128))\n",
    "model.add(Dropout(0.2))\n",
    "# model.add(Dense(32))\n",
    "model.add(Dense(2, activation='softmax'))\n",
    "model.compile(\n",
    "    loss='categorical_crossentropy',\n",
    "    optimizer='rmsprop',\n",
    "    metrics=['accuracy']\n",
    ")\n",
    "model.summary()\n",
    "\n",
    "tensorboard = TensorBoard(log_dir=\"logs/{}\")\n",
    "\n",
    "filepath = \"RNN_Final-{epoch:02d}\"  # unique file name that will include the epoch and the validation acc for that epoch\n",
    "# checkpoint = ModelCheckpoint(\"models/{}.model\".format(filepath, monitor='val_acc', verbose=1, save_best_only=True, mode='max')) # saves only the best ones\n",
    "\n",
    "checkpoint = ModelCheckpoint(\n",
    "    filepath,\n",
    "    monitor='loss',\n",
    "    verbose=0,\n",
    "    save_best_only=True,\n",
    "    mode='min',\n",
    ")\n",
    "\n",
    "# Train model\n",
    "history = model.fit(\n",
    "    train_x, train_y,\n",
    "    batch_size=1,\n",
    "    epochs=3,\n",
    "#     validation_data=(validation_x, validation_y),\n",
    "    callbacks=[checkpoint],\n",
    ")"
   ]
  },
  {
   "cell_type": "code",
   "execution_count": 5,
   "metadata": {},
   "outputs": [
    {
     "name": "stdout",
     "output_type": "stream",
     "text": [
      "Test loss: [0.6759735202789307, 0.5]\n",
      "Test accuracy: [0.6759735202789307, 0.5]\n"
     ]
    }
   ],
   "source": [
    "# Score model\n",
    "score = model.evaluate(validation_x, validation_y, verbose=0)\n",
    "print('Test loss:', score)\n",
    "print('Test accuracy:', score)\n",
    "# Save model\n",
    "model.save(\"models/model\")"
   ]
  },
  {
   "cell_type": "code",
   "execution_count": 6,
   "metadata": {},
   "outputs": [
    {
     "name": "stdout",
     "output_type": "stream",
     "text": [
      "[[0.48275941610336304, 0.517240583896637]]\n"
     ]
    }
   ],
   "source": [
    "pred_input = np.random.rand(1,3,2)\n",
    "\n",
    "pred = model.predict(pred_input)\n",
    "\n",
    "pprint(pred.tolist())"
   ]
  },
  {
   "cell_type": "markdown",
   "metadata": {},
   "source": [
    "## LSTM -> Dropout -> LSTM -> Dropout -> Dense"
   ]
  },
  {
   "cell_type": "code",
   "execution_count": 71,
   "metadata": {},
   "outputs": [
    {
     "name": "stdout",
     "output_type": "stream",
     "text": [
      "_________________________________________________________________\n",
      "Layer (type)                 Output Shape              Param #   \n",
      "=================================================================\n",
      "lstm_41 (LSTM)               (None, 3, 128)            67072     \n",
      "_________________________________________________________________\n",
      "dropout_14 (Dropout)         (None, 3, 128)            0         \n",
      "_________________________________________________________________\n",
      "lstm_42 (LSTM)               (None, 128)               131584    \n",
      "_________________________________________________________________\n",
      "dropout_15 (Dropout)         (None, 128)               0         \n",
      "_________________________________________________________________\n",
      "dense_44 (Dense)             (None, 2)                 258       \n",
      "=================================================================\n",
      "Total params: 198,914\n",
      "Trainable params: 198,914\n",
      "Non-trainable params: 0\n",
      "_________________________________________________________________\n"
     ]
    }
   ],
   "source": [
    "model = Sequential()\n",
    "model.add(LSTM(\n",
    "    128,\n",
    "    input_shape=train_x.shape[1:],\n",
    "    return_sequences=True\n",
    "))\n",
    "model.add(Dropout(0.2))\n",
    "model.add(LSTM(128))\n",
    "model.add(Dropout(0.2))\n",
    "model.add(Dense(2, activation='softmax'))\n",
    "model.compile(\n",
    "    loss='categorical_crossentropy',\n",
    "    optimizer='rmsprop',\n",
    "    metrics=['accuracy']\n",
    ")\n",
    "model.summary()"
   ]
  },
  {
   "cell_type": "markdown",
   "metadata": {},
   "source": [
    "## LSTM -> Dense"
   ]
  },
  {
   "cell_type": "code",
   "execution_count": 8,
   "metadata": {},
   "outputs": [
    {
     "name": "stdout",
     "output_type": "stream",
     "text": [
      "_________________________________________________________________\n",
      "Layer (type)                 Output Shape              Param #   \n",
      "=================================================================\n",
      "lstm_3 (LSTM)                (None, 128)               67072     \n",
      "_________________________________________________________________\n",
      "dense_2 (Dense)              (None, 52)                6708      \n",
      "=================================================================\n",
      "Total params: 73,780\n",
      "Trainable params: 73,780\n",
      "Non-trainable params: 0\n",
      "_________________________________________________________________\n"
     ]
    }
   ],
   "source": [
    "model = Sequential()\n",
    "model.add(LSTM(\n",
    "    128,\n",
    "    input_shape=train_x.shape[1:])) ## change to (maxlen, len(notes))\n",
    "model.add(Dense(52, activation='softmax')) ## change to len(notes)\n",
    "model.summary()"
   ]
  },
  {
   "cell_type": "markdown",
   "metadata": {},
   "source": [
    "## LSTM -> Dropout -> LSTM -> Dropout -> LSTM -> Dense -> Dropout -> Dense"
   ]
  },
  {
   "cell_type": "code",
   "execution_count": null,
   "metadata": {},
   "outputs": [],
   "source": [
    "model = Sequential()\n",
    "model.add(LSTM(\n",
    "    32,\n",
    "    input_shape=(2,),\n",
    "    return_sequences=True\n",
    "))\n",
    "model.add(Dropout(0.3))\n",
    "model.add(LSTM(512, return_sequences=True))\n",
    "model.add(Dropout(0.3))\n",
    "model.add(LSTM(256))\n",
    "model.add(Dense(256))\n",
    "model.add(Dropout(0.3))\n",
    "model.add(Dense(n_vocab))\n",
    "model.summary()"
   ]
  }
 ],
 "metadata": {
  "kernelspec": {
   "display_name": "Python 3",
   "language": "python",
   "name": "python3"
  },
  "language_info": {
   "codemirror_mode": {
    "name": "ipython",
    "version": 3
   },
   "file_extension": ".py",
   "mimetype": "text/x-python",
   "name": "python",
   "nbconvert_exporter": "python",
   "pygments_lexer": "ipython3",
   "version": "3.6.6"
  }
 },
 "nbformat": 4,
 "nbformat_minor": 2
}
