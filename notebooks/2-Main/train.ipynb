{
 "cells": [
  {
   "cell_type": "markdown",
   "metadata": {},
   "source": [
    "# Training the model"
   ]
  },
  {
   "cell_type": "markdown",
   "metadata": {},
   "source": [
    "### Imports"
   ]
  },
  {
   "cell_type": "code",
   "execution_count": 1,
   "metadata": {},
   "outputs": [
    {
     "name": "stderr",
     "output_type": "stream",
     "text": [
      "Using TensorFlow backend.\n"
     ]
    }
   ],
   "source": [
    "import glob\n",
    "import numpy as np\n",
    "\n",
    "from pprint import pprint\n",
    "from collections import deque\n",
    "\n",
    "from keras.models import Sequential, Model\n",
    "from keras.layers import Dense, Dropout, LSTM, Activation, concatenate\n",
    "from keras.utils import np_utils, normalize, to_categorical\n",
    "from keras.callbacks import ModelCheckpoint, EarlyStopping\n",
    "from keras.layers import *\n",
    "\n",
    "\n",
    "from tensorflow.keras.callbacks import TensorBoard\n",
    "import tensorflow as tf"
   ]
  },
  {
   "cell_type": "markdown",
   "metadata": {},
   "source": [
    "## Hyperparameters"
   ]
  },
  {
   "cell_type": "code",
   "execution_count": 2,
   "metadata": {},
   "outputs": [],
   "source": [
    "SEQ_LEN = 3\n",
    "FUTURE_SEQ_PREDICT = 1"
   ]
  },
  {
   "cell_type": "markdown",
   "metadata": {},
   "source": [
    "## Prepare the data"
   ]
  },
  {
   "cell_type": "markdown",
   "metadata": {},
   "source": [
    "### Function given an array, sequence length and prediction sequence length, returns an array with that structure for the network"
   ]
  },
  {
   "cell_type": "code",
   "execution_count": 3,
   "metadata": {},
   "outputs": [],
   "source": [
    "def createXY(arr, sequenceLength, predictionLength):\n",
    "    x = []\n",
    "    y = []\n",
    "    \n",
    "    i = 0\n",
    "    while i+sequenceLength+predictionLength < len(arr):\n",
    "        x.append(arr[i : i+sequenceLength])\n",
    "        y.append(arr[i+sequenceLength : i+sequenceLength+predictionLength])\n",
    "        i += sequenceLength\n",
    "        \n",
    "    return (np.array(x), np.array(y))"
   ]
  },
  {
   "cell_type": "code",
   "execution_count": 4,
   "metadata": {},
   "outputs": [],
   "source": [
    "def shuffle(arr):\n",
    "    return np.random.shuffle(arr)"
   ]
  },
  {
   "cell_type": "code",
   "execution_count": 5,
   "metadata": {},
   "outputs": [],
   "source": [
    "path = \"./numpyRepresentation/\"\n",
    "noOfInputData = 100000\n",
    "x = []\n",
    "y = []\n",
    "\n",
    "for file in glob.glob(f\"{path}*.npy\"):\n",
    "    if len(x) >= noOfInputData:\n",
    "        break\n",
    "    \n",
    "    x_data, y_data = createXY(np.load(file), 3, 1)\n",
    "#     print(x_data.ndim)\n",
    "    if x_data.ndim == 3:\n",
    "        x += list(x_data)\n",
    "        y += list(y_data)\n",
    "    \n",
    "x = to_categorical(x)\n",
    "y = to_categorical(y)"
   ]
  },
  {
   "cell_type": "code",
   "execution_count": 6,
   "metadata": {},
   "outputs": [],
   "source": [
    "# 80/20 split for training/testing dataset\n",
    "trainLength = int(round((len(x) * 4)/5))\n",
    "x_train = x[:trainLength]\n",
    "x_test = x[trainLength:]\n",
    "y_train = y[:trainLength]\n",
    "y_test = y[trainLength:]"
   ]
  },
  {
   "cell_type": "code",
   "execution_count": 7,
   "metadata": {},
   "outputs": [
    {
     "name": "stdout",
     "output_type": "stream",
     "text": [
      "(1022, 3, 120)\n"
     ]
    }
   ],
   "source": [
    "pprint(x_train[:,:,1,:].shape)"
   ]
  },
  {
   "cell_type": "code",
   "execution_count": 58,
   "metadata": {},
   "outputs": [
    {
     "name": "stdout",
     "output_type": "stream",
     "text": [
      "Train on 1022 samples, validate on 255 samples\n",
      "Epoch 1/100\n",
      "1022/1022 [==============================] - 8s 8ms/step - loss: 8.4223 - output_note_loss: 4.4272 - output_length_loss: 3.9951 - output_note_acc: 0.1018 - output_length_acc: 0.4335 - val_loss: 5.1667 - val_output_note_loss: 3.2880 - val_output_length_loss: 1.8787 - val_output_note_acc: 0.1333 - val_output_length_acc: 0.5294\n",
      "Epoch 2/100\n",
      "1022/1022 [==============================] - 1s 1ms/step - loss: 5.0040 - output_note_loss: 3.1080 - output_length_loss: 1.8960 - output_note_acc: 0.1213 - output_length_acc: 0.3865 - val_loss: 4.4791 - val_output_note_loss: 2.9777 - val_output_length_loss: 1.5014 - val_output_note_acc: 0.0941 - val_output_length_acc: 0.5294\n",
      "Epoch 3/100\n",
      "1022/1022 [==============================] - 1s 1ms/step - loss: 4.5558 - output_note_loss: 2.9528 - output_length_loss: 1.6030 - output_note_acc: 0.1820 - output_length_acc: 0.4863 - val_loss: 4.4350 - val_output_note_loss: 2.9712 - val_output_length_loss: 1.4639 - val_output_note_acc: 0.1490 - val_output_length_acc: 0.6353\n",
      "Epoch 4/100\n",
      "1022/1022 [==============================] - 1s 1ms/step - loss: 4.2821 - output_note_loss: 2.8638 - output_length_loss: 1.4183 - output_note_acc: 0.1595 - output_length_acc: 0.5597 - val_loss: 4.3216 - val_output_note_loss: 2.9263 - val_output_length_loss: 1.3953 - val_output_note_acc: 0.1608 - val_output_length_acc: 0.6784\n",
      "Epoch 5/100\n",
      "1022/1022 [==============================] - 1s 1ms/step - loss: 4.1566 - output_note_loss: 2.8286 - output_length_loss: 1.3280 - output_note_acc: 0.1595 - output_length_acc: 0.6076 - val_loss: 4.1361 - val_output_note_loss: 2.8775 - val_output_length_loss: 1.2587 - val_output_note_acc: 0.1569 - val_output_length_acc: 0.6392\n",
      "Epoch 6/100\n",
      "1022/1022 [==============================] - 1s 1ms/step - loss: 4.0783 - output_note_loss: 2.7938 - output_length_loss: 1.2845 - output_note_acc: 0.1703 - output_length_acc: 0.6380 - val_loss: 4.0523 - val_output_note_loss: 2.7997 - val_output_length_loss: 1.2526 - val_output_note_acc: 0.1882 - val_output_length_acc: 0.6549\n",
      "Epoch 7/100\n",
      "1022/1022 [==============================] - 1s 1ms/step - loss: 3.9687 - output_note_loss: 2.7266 - output_length_loss: 1.2420 - output_note_acc: 0.1859 - output_length_acc: 0.6311 - val_loss: 3.9245 - val_output_note_loss: 2.7438 - val_output_length_loss: 1.1807 - val_output_note_acc: 0.1961 - val_output_length_acc: 0.6824\n",
      "Epoch 8/100\n",
      "1022/1022 [==============================] - 1s 1ms/step - loss: 3.8702 - output_note_loss: 2.6424 - output_length_loss: 1.2277 - output_note_acc: 0.1957 - output_length_acc: 0.6350 - val_loss: 3.8038 - val_output_note_loss: 2.6437 - val_output_length_loss: 1.1601 - val_output_note_acc: 0.2157 - val_output_length_acc: 0.6745\n",
      "Epoch 9/100\n",
      "1022/1022 [==============================] - 2s 2ms/step - loss: 3.7137 - output_note_loss: 2.5215 - output_length_loss: 1.1923 - output_note_acc: 0.2319 - output_length_acc: 0.6546 - val_loss: 3.6476 - val_output_note_loss: 2.4915 - val_output_length_loss: 1.1561 - val_output_note_acc: 0.2471 - val_output_length_acc: 0.6784\n",
      "Epoch 10/100\n",
      "1022/1022 [==============================] - 1s 1ms/step - loss: 3.5573 - output_note_loss: 2.3956 - output_length_loss: 1.1617 - output_note_acc: 0.2603 - output_length_acc: 0.6517 - val_loss: 3.6051 - val_output_note_loss: 2.4511 - val_output_length_loss: 1.1540 - val_output_note_acc: 0.2314 - val_output_length_acc: 0.6706\n",
      "Epoch 11/100\n",
      "1022/1022 [==============================] - 2s 2ms/step - loss: 3.4721 - output_note_loss: 2.3348 - output_length_loss: 1.1372 - output_note_acc: 0.2759 - output_length_acc: 0.6546 - val_loss: 3.5468 - val_output_note_loss: 2.4206 - val_output_length_loss: 1.1262 - val_output_note_acc: 0.2667 - val_output_length_acc: 0.6667\n",
      "Epoch 12/100\n",
      "1022/1022 [==============================] - 2s 1ms/step - loss: 3.3434 - output_note_loss: 2.2393 - output_length_loss: 1.1042 - output_note_acc: 0.2838 - output_length_acc: 0.6624 - val_loss: 3.4823 - val_output_note_loss: 2.3839 - val_output_length_loss: 1.0984 - val_output_note_acc: 0.2667 - val_output_length_acc: 0.6706\n",
      "Epoch 13/100\n",
      "1022/1022 [==============================] - 2s 2ms/step - loss: 3.2901 - output_note_loss: 2.2101 - output_length_loss: 1.0800 - output_note_acc: 0.2740 - output_length_acc: 0.6742 - val_loss: 3.4984 - val_output_note_loss: 2.3423 - val_output_length_loss: 1.1561 - val_output_note_acc: 0.2549 - val_output_length_acc: 0.6549\n"
     ]
    }
   ],
   "source": [
    "# NAME = f\"{SEQ_LEN}-SEQ-{FUTURE_PERIOD_PREDICT}-PRED-{int(time.time())}\"\n",
    "\n",
    "from keras.utils import plot_model\n",
    "from time import time\n",
    "\n",
    "\n",
    "input_notes = Input(shape=(3,120), name=\"input_notes\")\n",
    "input_length = Input(shape=(3,120), name=\"input_length\")\n",
    "inputs = concatenate([input_notes, input_length])\n",
    "\n",
    "model = LSTM(128, return_sequences=True)(inputs)\n",
    "model = Dropout(0.2)(model)\n",
    "model = LSTM(128, return_sequences=False)(model)\n",
    "model = Dropout(0.2)(model)\n",
    "\n",
    "output_note = Dense(114, activation=\"softmax\", name='output_note')(model)\n",
    "output_length = Dense(114, activation=\"softmax\", name=\"output_length\")(model)\n",
    "\n",
    "model = Model(inputs=[input_notes, input_length], outputs=[output_note, output_length])\n",
    "model.compile(loss=\"categorical_crossentropy\",optimizer=\"adam\",metrics=[\"accuracy\"])\n",
    "\n",
    "\n",
    "# model = Sequential()\n",
    "# model.add(LSTM(256, input_shape=x_train.shape[1:], return_sequences=True))\n",
    "# model.add(Dropout(0.2))\n",
    "# model.add(LSTM(256, return_sequences=False))\n",
    "# model.add(Dropout(0.2))\n",
    "# # model.add(Dense(32))\n",
    "# # model.add(Reshape((1, 128)))\n",
    "# model.add(Dense(2, activation='softmax'))\n",
    "# model.compile(\n",
    "#     loss='categorical_crossentropy',\n",
    "#     optimizer='adam',\n",
    "#     metrics=['accuracy']\n",
    "# )\n",
    "# model.summary()\n",
    "\n",
    "# plot_model(model, to_file='model.png')\n",
    "\n",
    "tensorboard = TensorBoard(log_dir=\"./logs/{}\".format(time()), histogram_freq=0, batch_size=32, write_graph=True, write_grads=True, write_images=True, embeddings_freq=0, embeddings_layer_names=None, embeddings_metadata=None, embeddings_data=None)\n",
    "earlystopping = EarlyStopping(monitor='val_loss', min_delta=0, patience=0, verbose=0, mode='auto', baseline=None, restore_best_weights=False)\n",
    "\n",
    "filepath = \"RNN_Final-{epoch:02d}\"  # unique file name that will include the epoch and the validation acc for that epoch\n",
    "# checkpoint = ModelCheckpoint(\"models/{}.model\".format(filepath, monitor='val_acc', verbose=1, save_best_only=True, mode='max')) # saves only the best ones\n",
    "\n",
    "checkpoint = ModelCheckpoint(\n",
    "    filepath,\n",
    "    monitor='loss',\n",
    "    verbose=0,\n",
    "    save_best_only=True,\n",
    "    mode='min',\n",
    ")\n",
    "\n",
    "# Train model\n",
    "history = model.fit(\n",
    "    {'input_notes': x_train[:,:,0,:], 'input_length': x_train[:,:,1,:]},\n",
    "    {'output_note': y_train[:,0,0,:], 'output_length': y_train[:,0,1,:]},\n",
    "    batch_size=32,\n",
    "    epochs=100,\n",
    "    validation_data=(\n",
    "        [x_test[:,:,0,:], x_test[:,:,1,:]],\n",
    "        [y_test[:,0,0,:], y_test[:,0,1,:]]),\n",
    "    callbacks=[tensorboard, checkpoint, earlystopping]\n",
    ")"
   ]
  },
  {
   "cell_type": "code",
   "execution_count": 59,
   "metadata": {},
   "outputs": [
    {
     "name": "stdout",
     "output_type": "stream",
     "text": [
      "255/255 [==============================] - 0s 589us/step\n",
      "loss: 3.4983808629653033\n",
      "output_note_loss: 2.3422739767560774\n",
      "output_length_loss: 1.1561068796644023\n",
      "output_note_acc: 0.25490195996621073\n",
      "output_length_acc: 0.6549019599662108\n"
     ]
    }
   ],
   "source": [
    "# Score model\n",
    "score = model.evaluate([x_test[:,:,0,:], x_test[:,:,1,:]], [y_test[:,0,0,:], y_test[:,0,1,:]], verbose=1)\n",
    "i = 0\n",
    "while i < len(model.metrics_names):\n",
    "    print(f\"{model.metrics_names[i]}:\",score[i])\n",
    "    i+=1\n",
    "# Save model\n",
    "model.save(\"models/model\")"
   ]
  },
  {
   "cell_type": "markdown",
   "metadata": {},
   "source": [
    "## Plot training and validation scores"
   ]
  },
  {
   "cell_type": "code",
   "execution_count": 60,
   "metadata": {},
   "outputs": [
    {
     "data": {
      "image/png": "[encoded data removed]",
      "text/plain": [
       "<Figure size 432x288 with 1 Axes>"
      ]
     },
     "metadata": {
      "needs_background": "light"
     },
     "output_type": "display_data"
    },
    {
     "data": {
      "image/png": "[encoded data removed]",
      "text/plain": [
       "<Figure size 432x288 with 1 Axes>"
      ]
     },
     "metadata": {
      "needs_background": "light"
     },
     "output_type": "display_data"
    }
   ],
   "source": [
    "# plotting\n",
    "import matplotlib.pyplot as plt\n",
    "\n",
    "# Plot training & validation accuracy values\n",
    "plt.plot(history.history['output_note_acc'])\n",
    "plt.plot(history.history['val_output_note_acc'])\n",
    "plt.plot(history.history['output_length_acc'])\n",
    "plt.plot(history.history['val_output_length_loss'])\n",
    "plt.title('Model accuracy')\n",
    "plt.ylabel('Accuracy')\n",
    "plt.xlabel('Epoch')\n",
    "plt.legend(['Note Train', 'Note Test', 'Length Train', 'Length Test'], loc='upper left')\n",
    "plt.show()\n",
    "\n",
    "# Plot training & validation loss values\n",
    "plt.plot(history.history['output_note_loss'])\n",
    "plt.plot(history.history['val_output_note_loss'])\n",
    "plt.plot(history.history['output_length_loss'])\n",
    "plt.plot(history.history['val_output_length_loss'])\n",
    "plt.plot(history.history['loss'])\n",
    "plt.plot(history.history['val_loss'])\n",
    "plt.title('Model loss')\n",
    "plt.ylabel('Loss')\n",
    "plt.xlabel('Epoch')\n",
    "plt.legend(['Note Train', 'Note Test', 'Length Train', 'Length Test', \"Val\", \"Val Loss\"], loc='upper left')\n",
    "plt.show()"
   ]
  },
  {
   "cell_type": "code",
   "execution_count": 13,
   "metadata": {},
   "outputs": [
    {
     "ename": "NameError",
     "evalue": "name 'model' is not defined",
     "output_type": "error",
     "traceback": [
      "\u001b[0;31m---------------------------------------------------------------------------\u001b[0m",
      "\u001b[0;31mNameError\u001b[0m                                 Traceback (most recent call last)",
      "\u001b[0;32m<ipython-input-13-c1b5b26c111b>\u001b[0m in \u001b[0;36m<module>\u001b[0;34m()\u001b[0m\n\u001b[0;32m----> 1\u001b[0;31m \u001b[0mmodel\u001b[0m \u001b[0;34m=\u001b[0m \u001b[0mmodel\u001b[0m\u001b[0;34m.\u001b[0m\u001b[0mload\u001b[0m\u001b[0;34m(\u001b[0m\u001b[0;34m\"../../models/model-2\"\u001b[0m\u001b[0;34m)\u001b[0m\u001b[0;34m\u001b[0m\u001b[0m\n\u001b[0m\u001b[1;32m      2\u001b[0m \u001b[0mdata\u001b[0m \u001b[0;34m=\u001b[0m \u001b[0mnp\u001b[0m\u001b[0;34m.\u001b[0m\u001b[0mload\u001b[0m\u001b[0;34m(\u001b[0m\u001b[0;34m\"./numpyRepresentation/Digimon - Butterfly (Piano Version)0.npy\"\u001b[0m\u001b[0;34m)\u001b[0m\u001b[0;34m\u001b[0m\u001b[0m\n\u001b[1;32m      3\u001b[0m \u001b[0mdata\u001b[0m \u001b[0;34m=\u001b[0m \u001b[0mto_categorical\u001b[0m\u001b[0;34m(\u001b[0m\u001b[0mdata\u001b[0m\u001b[0;34m)\u001b[0m\u001b[0;34m\u001b[0m\u001b[0m\n\u001b[1;32m      4\u001b[0m \u001b[0mdata_notes\u001b[0m \u001b[0;34m=\u001b[0m \u001b[0mnp\u001b[0m\u001b[0;34m.\u001b[0m\u001b[0mreshape\u001b[0m\u001b[0;34m(\u001b[0m\u001b[0mdata\u001b[0m\u001b[0;34m[\u001b[0m\u001b[0;34m:\u001b[0m\u001b[0;34m,\u001b[0m\u001b[0;36m0\u001b[0m\u001b[0;34m,\u001b[0m\u001b[0;34m:\u001b[0m\u001b[0;34m]\u001b[0m\u001b[0;34m,\u001b[0m \u001b[0;34m(\u001b[0m\u001b[0;36m63\u001b[0m\u001b[0;34m,\u001b[0m \u001b[0;36m3\u001b[0m \u001b[0;34m,\u001b[0m \u001b[0;36m103\u001b[0m\u001b[0;34m)\u001b[0m\u001b[0;34m)\u001b[0m\u001b[0;34m\u001b[0m\u001b[0m\n\u001b[1;32m      5\u001b[0m \u001b[0mdata_length\u001b[0m \u001b[0;34m=\u001b[0m \u001b[0mnp\u001b[0m\u001b[0;34m.\u001b[0m\u001b[0mreshape\u001b[0m\u001b[0;34m(\u001b[0m\u001b[0mdata\u001b[0m\u001b[0;34m[\u001b[0m\u001b[0;34m:\u001b[0m\u001b[0;34m,\u001b[0m\u001b[0;36m1\u001b[0m\u001b[0;34m,\u001b[0m\u001b[0;34m:\u001b[0m\u001b[0;34m]\u001b[0m\u001b[0;34m,\u001b[0m \u001b[0;34m(\u001b[0m\u001b[0;36m63\u001b[0m\u001b[0;34m,\u001b[0m \u001b[0;36m3\u001b[0m\u001b[0;34m,\u001b[0m \u001b[0;36m103\u001b[0m\u001b[0;34m)\u001b[0m\u001b[0;34m)\u001b[0m\u001b[0;34m\u001b[0m\u001b[0m\n",
      "\u001b[0;31mNameError\u001b[0m: name 'model' is not defined"
     ]
    }
   ],
   "source": [
    "model = model.load(\"../../models/model-2\")\n",
    "data = np.load(\"./numpyRepresentation/Digimon - Butterfly (Piano Version)0.npy\")\n",
    "data = to_categorical(data)\n",
    "data_notes = np.reshape(data[:,0,:], (63, 3 , 103))\n",
    "data_length = np.reshape(data[:,1,:], (63, 3, 103))"
   ]
  },
  {
   "cell_type": "code",
   "execution_count": 11,
   "metadata": {},
   "outputs": [
    {
     "ename": "NameError",
     "evalue": "name 'model' is not defined",
     "output_type": "error",
     "traceback": [
      "\u001b[0;31m---------------------------------------------------------------------------\u001b[0m",
      "\u001b[0;31mNameError\u001b[0m                                 Traceback (most recent call last)",
      "\u001b[0;32m<ipython-input-11-13fb6e64f1a9>\u001b[0m in \u001b[0;36m<module>\u001b[0;34m()\u001b[0m\n\u001b[0;32m----> 1\u001b[0;31m \u001b[0mprediction\u001b[0m \u001b[0;34m=\u001b[0m \u001b[0mmodel\u001b[0m\u001b[0;34m.\u001b[0m\u001b[0mpredict\u001b[0m\u001b[0;34m(\u001b[0m\u001b[0;34m[\u001b[0m\u001b[0mdata_notes\u001b[0m\u001b[0;34m,\u001b[0m \u001b[0mdata_length\u001b[0m\u001b[0;34m]\u001b[0m\u001b[0;34m)\u001b[0m\u001b[0;34m\u001b[0m\u001b[0m\n\u001b[0m\u001b[1;32m      2\u001b[0m \u001b[0mprint\u001b[0m\u001b[0;34m(\u001b[0m\u001b[0mprediction\u001b[0m\u001b[0;34m)\u001b[0m\u001b[0;34m\u001b[0m\u001b[0m\n\u001b[1;32m      3\u001b[0m \u001b[0;31m# np.save(\"./prediction\", np.reshape(prediction, (63,2)))\u001b[0m\u001b[0;34m\u001b[0m\u001b[0;34m\u001b[0m\u001b[0m\n",
      "\u001b[0;31mNameError\u001b[0m: name 'model' is not defined"
     ]
    }
   ],
   "source": [
    "prediction = model.predict([data_notes, data_length])\n",
    "print(prediction)\n",
    "# np.save(\"./prediction\", np.reshape(prediction, (63,2)))"
   ]
  },
  {
   "cell_type": "code",
   "execution_count": 13,
   "metadata": {},
   "outputs": [],
   "source": [
    "# pprint(prediction.reshape(63,2))\n",
    "def generateNotes(model, sequence):\n",
    "    return model.predict(sequence)"
   ]
  },
  {
   "cell_type": "code",
   "execution_count": null,
   "metadata": {},
   "outputs": [],
   "source": []
  },
  {
   "cell_type": "code",
   "execution_count": 90,
   "metadata": {},
   "outputs": [],
   "source": [
    "PREDICTION_LENGTH = 20\n",
    "\n",
    "prediction = np.reshape(prediction, (63,2))\n",
    "\n",
    "i = 0\n",
    "input_sequence = np.array([prediction[:SEQ_LEN]])\n",
    "output_sequence = input_sequence.copy()\n",
    "# print(input_sequence)\n",
    "while i < PREDICTION_LENGTH:\n",
    "    generated_notes = generateNotes(model, input_sequence)\n",
    "    output_sequence = np.append(output_sequence, generated_notes, axis=1)\n",
    "    input_sequence = np.append(input_sequence, generated_notes, axis=1)\n",
    "    input_sequence = np.delete(input_sequence, 0, 1)\n",
    "    i+=1"
   ]
  },
  {
   "cell_type": "code",
   "execution_count": 14,
   "metadata": {},
   "outputs": [
    {
     "name": "stdout",
     "output_type": "stream",
     "text": [
      "array([[[[0., 1., 0., 0., 0., 0., 0., 0., 0.],\n",
      "         [0., 0., 0., 0., 0., 0., 1., 0., 0.]],\n",
      "\n",
      "        [[0., 0., 1., 0., 0., 0., 0., 0., 0.],\n",
      "         [0., 0., 0., 0., 0., 0., 0., 1., 0.]],\n",
      "\n",
      "        [[0., 0., 0., 1., 0., 0., 0., 0., 0.],\n",
      "         [0., 0., 0., 0., 0., 0., 0., 0., 1.]]]], dtype=float32)\n"
     ]
    }
   ],
   "source": [
    "from keras.utils import to_categorical\n",
    "\n",
    "arr1 = np.array([[[1, 6], [2, 7 ],[3, 8]]])\n",
    "arr2 = np.array([[[0.34858927,0.6514107 ]]])\n",
    "\n",
    "# print(\"Shape: \", arr1.shape, arr2.shape)\n",
    "\n",
    "pprint(to_categorical(arr1))\n",
    "result = np.append(arr1,arr2, axis=1)\n",
    "# pprint(result)\n",
    "# np.delete(result, 0, 1)"
   ]
  },
  {
   "cell_type": "code",
   "execution_count": 109,
   "metadata": {},
   "outputs": [
    {
     "ename": "ValueError",
     "evalue": "setting an array element with a sequence.",
     "output_type": "error",
     "traceback": [
      "\u001b[0;31m---------------------------------------------------------------------------\u001b[0m",
      "\u001b[0;31mValueError\u001b[0m                                Traceback (most recent call last)",
      "\u001b[0;32m<ipython-input-109-62d450ed7c93>\u001b[0m in \u001b[0;36m<module>\u001b[0;34m()\u001b[0m\n\u001b[1;32m      1\u001b[0m testArr = [[[0,0,0,0,0,0,0,1,0,0,0,0,0,0,0,0], [0,0,0,0,0,1,0,0,0,0,0,0,0,]],\n\u001b[1;32m      2\u001b[0m           [[0,0,0,0,0,0,0,1,0,0,0,0,0,0,0,0], [0,0,0,0,0,1,0,0,0,0,0,0,0,]]]\n\u001b[0;32m----> 3\u001b[0;31m \u001b[0mnp\u001b[0m\u001b[0;34m.\u001b[0m\u001b[0marray\u001b[0m\u001b[0;34m(\u001b[0m\u001b[0mtestArr\u001b[0m\u001b[0;34m,\u001b[0m \u001b[0mdtype\u001b[0m\u001b[0;34m=\u001b[0m\u001b[0mnp\u001b[0m\u001b[0;34m.\u001b[0m\u001b[0mfloat32\u001b[0m\u001b[0;34m)\u001b[0m\u001b[0;34m\u001b[0m\u001b[0m\n\u001b[0m",
      "\u001b[0;31mValueError\u001b[0m: setting an array element with a sequence."
     ]
    }
   ],
   "source": [
    "testArr = [[[0,0,0,0,0,0,0,1,0,0,0,0,0,0,0,0], [0,0,0,0,0,1,0,0,0,0,0,0,0,]],\n",
    "          [[0,0,0,0,0,0,0,1,0,0,0,0,0,0,0,0], [0,0,0,0,0,1,0,0,0,0,0,0,0,]]]\n",
    "np.array(testArr, dtype=np.float32)"
   ]
  }
 ],
 "metadata": {
  "kernelspec": {
   "display_name": "Python 3",
   "language": "python",
   "name": "python3"
  },
  "language_info": {
   "codemirror_mode": {
    "name": "ipython",
    "version": 3
   },
   "file_extension": ".py",
   "mimetype": "text/x-python",
   "name": "python",
   "nbconvert_exporter": "python",
   "pygments_lexer": "ipython3",
   "version": "3.6.6"
  }
 },
 "nbformat": 4,
 "nbformat_minor": 2
}
