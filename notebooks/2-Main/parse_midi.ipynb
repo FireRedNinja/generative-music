{
 "cells": [
  {
   "cell_type": "markdown",
   "metadata": {},
   "source": [
    "# Parse Input Midi Files\n",
    "\n",
    "Analyse Midi files to get the features I am looking for and get a few bars of melody"
   ]
  },
  {
   "cell_type": "code",
   "execution_count": null,
   "metadata": {},
   "outputs": [],
   "source": [
    "!sudo pip install --upgrade music21"
   ]
  },
  {
   "cell_type": "code",
   "execution_count": 1,
   "metadata": {},
   "outputs": [
    {
     "name": "stderr",
     "output_type": "stream",
     "text": [
      "Using TensorFlow backend.\n"
     ]
    }
   ],
   "source": [
    "from music21 import *\n",
    "from pprint import pprint\n",
    "from fractions import Fraction\n",
    "from multiprocessing import Process, Lock, Queue\n",
    "from keras.utils import *\n",
    "\n",
    "\n",
    "import numpy as np\n",
    "import glob"
   ]
  },
  {
   "cell_type": "code",
   "execution_count": 2,
   "metadata": {},
   "outputs": [
    {
     "ename": "ModuleNotFoundError",
     "evalue": "No module named 'google.colab'",
     "output_type": "error",
     "traceback": [
      "\u001b[0;31m---------------------------------------------------------------------------\u001b[0m",
      "\u001b[0;31mModuleNotFoundError\u001b[0m                       Traceback (most recent call last)",
      "\u001b[0;32m<ipython-input-2-6d38843067a0>\u001b[0m in \u001b[0;36m<module>\u001b[0;34m()\u001b[0m\n\u001b[1;32m      1\u001b[0m \u001b[0;31m# import data\u001b[0m\u001b[0;34m\u001b[0m\u001b[0;34m\u001b[0m\u001b[0m\n\u001b[0;32m----> 2\u001b[0;31m \u001b[0;32mfrom\u001b[0m \u001b[0mgoogle\u001b[0m\u001b[0;34m.\u001b[0m\u001b[0mcolab\u001b[0m \u001b[0;32mimport\u001b[0m \u001b[0mdrive\u001b[0m\u001b[0;34m\u001b[0m\u001b[0m\n\u001b[0m\u001b[1;32m      3\u001b[0m \u001b[0;34m\u001b[0m\u001b[0m\n\u001b[1;32m      4\u001b[0m \u001b[0mdrive\u001b[0m\u001b[0;34m.\u001b[0m\u001b[0mmount\u001b[0m\u001b[0;34m(\u001b[0m\u001b[0;34m'/content/gdrive'\u001b[0m\u001b[0;34m)\u001b[0m\u001b[0;34m\u001b[0m\u001b[0m\n",
      "\u001b[0;31mModuleNotFoundError\u001b[0m: No module named 'google.colab'"
     ]
    }
   ],
   "source": [
    "# import data\n",
    "from google.colab import drive\n",
    "\n",
    "drive.mount('/content/gdrive')"
   ]
  },
  {
   "cell_type": "code",
   "execution_count": null,
   "metadata": {},
   "outputs": [],
   "source": [
    "!ls /content/gdrive/My\\ Drive/training_data/130000MIDI/130000MIDI"
   ]
  },
  {
   "cell_type": "code",
   "execution_count": null,
   "metadata": {},
   "outputs": [],
   "source": [
    "!ls /content/gdrive/My\\ Drive/training_data/data -F | grep -v / | wc -l"
   ]
  },
  {
   "cell_type": "code",
   "execution_count": null,
   "metadata": {},
   "outputs": [],
   "source": [
    "us = environment.UserSettings()\n",
    "for key in sorted(us.keys()):\n",
    "    if key != \"localCorpusPath\":\n",
    "        print(\"Key : \", str(key), \"\\nValue: \", str(us[key]), \"\\n\")\n",
    "\n",
    "us[\"midiPath\"] = \"/usr/bin/musescore\"\n",
    "us[\"musicxmlPath\"] = \"/usr/bin/musescore\"\n",
    "us[\"musescoreDirectPNGPath\"] = \"/usr/bin/musescore\"\n",
    "us[\"lilypondPath\"] = \"/home/fireredninja/bin/lilypond\""
   ]
  },
  {
   "cell_type": "code",
   "execution_count": null,
   "metadata": {},
   "outputs": [],
   "source": [
    "!ls ./data"
   ]
  },
  {
   "cell_type": "code",
   "execution_count": 2,
   "metadata": {},
   "outputs": [],
   "source": [
    "!rm ./output/*.mid"
   ]
  },
  {
   "cell_type": "code",
   "execution_count": 2,
   "metadata": {},
   "outputs": [],
   "source": [
    "# Look at all the functions and attributes\n",
    "def printAttributesAndFunctions(object):\n",
    "    for func in dir(object):\n",
    "        try:\n",
    "            f = getattr(object, func)\n",
    "            print(\"---------------PASS---------------\")\n",
    "            if callable(f): # is it a function\n",
    "                # call it\n",
    "                print(f\"PRINTING CALLABLE FUNCTION ----- {func}\")\n",
    "                pprint(eval(f'note.{func}()'), \"\\n\\n\\n\")\n",
    "                pass\n",
    "            else:\n",
    "                # just print the attribute\n",
    "                print(f\"PRINTING ATTRIBUTE ------ {func}\")\n",
    "                pprint(eval(f'note.{func}'), \"\\n\\n\\n\")\n",
    "                pass\n",
    "        except:\n",
    "            try:\n",
    "                pprint(eval(f'note.{func}'), \"\\n\\n\\n\")\n",
    "                pass\n",
    "            except:\n",
    "                print(\"---------------FAIL---------------\")\n",
    "                pprint(f'{func}', \"\\n\\n\\n\")\n",
    "                pass"
   ]
  },
  {
   "cell_type": "code",
   "execution_count": 3,
   "metadata": {},
   "outputs": [],
   "source": [
    "# transposes a score to c-major\n",
    "def transpose(s):\n",
    "    k = s.analyze('key')\n",
    "    print(f\"Transposing from {k} to C-major\")\n",
    "    i = interval.Interval(k.tonic, pitch.Pitch('C'))\n",
    "    sNew = s.transpose(i)\n",
    "    return sNew"
   ]
  },
  {
   "cell_type": "code",
   "execution_count": 4,
   "metadata": {},
   "outputs": [],
   "source": [
    "# Checks if the measure contains at least one note and no chords\n",
    "def metRequirements(measure):\n",
    "    requirementsMet = False\n",
    "    \n",
    "    # Loop through all the notes\n",
    "    for element in measure.__dict__[\"_elements\"]:\n",
    "        if isinstance(element, note.Note):\n",
    "            if checkIfNotesBetween(element, \"C4\", \"C9\"):\n",
    "                requirementsMet = True\n",
    "            else:\n",
    "                requirementsMet = False\n",
    "                break\n",
    "        elif isinstance(element, note.Rest):\n",
    "            requirementsMet = True\n",
    "        elif isinstance(element, chord.Chord):\n",
    "            requirementsMet = False\n",
    "            break\n",
    "\n",
    "    return requirementsMet\n",
    "\n",
    "def checkIfNotesBetween(element, note1, note2):\n",
    "    if element.pitch.frequency < note.Note(note1).pitch.frequency or element.pitch.frequency > note.Note(note2).pitch.frequency:\n",
    "        return False\n",
    "    return True\n",
    "    "
   ]
  },
  {
   "cell_type": "code",
   "execution_count": 5,
   "metadata": {},
   "outputs": [],
   "source": [
    "def getTimeSignature(measure):\n",
    "    if hasattr(measure, \"getElementsByClass\"):\n",
    "        return measure.getElementsByClass(meter.TimeSignature)[0]\n",
    "    else:\n",
    "        return None\n",
    "\n",
    "def checkTimeSignature(measure, tsString):\n",
    "    timeSignature = getTimeSignature(measure)\n",
    "    if timeSignature != None:\n",
    "        if timeSignature.ratioString == tsString:\n",
    "            return True\n",
    "        else:\n",
    "            return False\n",
    "    else:\n",
    "        pass"
   ]
  },
  {
   "cell_type": "code",
   "execution_count": 6,
   "metadata": {},
   "outputs": [],
   "source": [
    "def writeToMidi(file, part, partCounter, noOfMeasures):\n",
    "    try:\n",
    "        output = stream.Score(id='mainScore')\n",
    "        filePart = stream.Part(id='part0')\n",
    "        filePart.append([part.measures(0,noOfMeasures)])\n",
    "        output.insert(0, filePart)\n",
    "        # output = transpose(output)\n",
    "        filename = file[file.rfind(\"/\"):-4] + \".mid\"\n",
    "        output.write(fmt=\"midi\", fp=f\"./parsedDataset/{filename}\")\n",
    "    except:\n",
    "        pass"
   ]
  },
  {
   "cell_type": "code",
   "execution_count": 7,
   "metadata": {},
   "outputs": [
    {
     "ename": "SyntaxError",
     "evalue": "invalid syntax (<ipython-input-7-cd626f96188d>, line 8)",
     "output_type": "error",
     "traceback": [
      "\u001b[0;36m  File \u001b[0;32m\"<ipython-input-7-cd626f96188d>\"\u001b[0;36m, line \u001b[0;32m8\u001b[0m\n\u001b[0;31m    key = score.\u001b[0m\n\u001b[0m                ^\u001b[0m\n\u001b[0;31mSyntaxError\u001b[0m\u001b[0;31m:\u001b[0m invalid syntax\n"
     ]
    }
   ],
   "source": [
    "def readMidi(score, filename):\n",
    "    # Loop through all the parts in the score\n",
    "    # each part is the score for an instrument\n",
    "    \n",
    "    print(f\"Parsing {filename}\")\n",
    "    \n",
    "    try:\n",
    "        key = score.analyze('key')\n",
    "        if key.mode = 'minor':\n",
    "            return\n",
    "        score = transpose(midi)\n",
    "    except:\n",
    "        return\n",
    "    \n",
    "    try:\n",
    "        data = []\n",
    "        for part in score.parts:\n",
    "            \n",
    "            # Check for nested parts\n",
    "            if (hasattr(part, \"parts\")):\n",
    "                readMidi(part)\n",
    "            else:\n",
    "                data += readPart(part)\n",
    "\n",
    "\n",
    "        data = [x for x in data if x != []]\n",
    "        \n",
    "        \n",
    "        i = 0\n",
    "        while i < len(data):\n",
    "            npArr = np.array(data[i])\n",
    "            saveName = filename[filename.rfind(\"/\")+1:-4] + str(i)\n",
    "            print(f\"Saving {saveName}.npy\")\n",
    "            np.save(f\"./numpyRepresentation/{saveName}\", npArr)\n",
    "            print(f\" ✔️ : {saveName}.npy was saved\")\n",
    "            i+=1\n",
    "    except:\n",
    "        pass\n",
    "    return\n",
    "            \n",
    "            \n",
    "def readPart(part):    \n",
    "    # holds the measures as a list\n",
    "    score = []\n",
    "    \n",
    "    # parse the file\n",
    "    if len(part.voices) > 0:\n",
    "        for voice in part.voices:\n",
    "            score.append(readVoices(voice))\n",
    "    else:\n",
    "        # keeps track of which measure we are on\n",
    "        measureCounter = 0\n",
    "        data = []\n",
    "        for measure in part.measures(0, None):\n",
    "            \n",
    "            # go though all measures and see if the key, clef or timesignature has changed\n",
    "            # exit if it has\n",
    "            if measureCounter == 0:\n",
    "                # check if the score/measure uses the correct time signature\n",
    "                if not checkTimeSignature(measure, '4/4'):\n",
    "                    break\n",
    "            if measureCounter > 0 and (measure.__dict__[\"keyIsNew\"] or measure.__dict__[\"clefIsNew\"] or measure.__dict__[\"timeSignatureIsNew\"]):\n",
    "                break\n",
    "            \n",
    "            data += readMeasure(measure)\n",
    "            measureCounter+=1\n",
    "        score.append(data)\n",
    "    return score\n",
    "\n",
    "\n",
    "def readVoices(voice):\n",
    "    measureCounter = 0\n",
    "    data = []\n",
    "    for measure in voice.measures(0, None):\n",
    "        # go though all measures and see if the key, clef or timesignature has changed\n",
    "        # exit if it has\n",
    "        if measureCounter == 0:\n",
    "            # check if the score/measure uses the correct time signature\n",
    "            if not checkTimeSignature(measure, '4/4'):\n",
    "                break\n",
    "        elif measureCounter > 0 and (measure.__dict__[\"keyIsNew\"] or measure.__dict__[\"clefIsNew\"] or measure.__dict__[\"timeSignatureIsNew\"]):\n",
    "            break\n",
    "\n",
    "        \n",
    "        \n",
    "        data += readMeasure(measure)\n",
    "        measureCounter+=1\n",
    "    return data\n",
    "\n",
    "\n",
    "def readMeasure(measure):\n",
    "    # loop over all of the measures in the score\n",
    "\n",
    "    # check if the measure contains a note and doesn't contain chords\n",
    "    if metRequirements(measure):\n",
    "        \n",
    "        data = measureToList(measure)\n",
    "        return data\n",
    "    else:\n",
    "        return []"
   ]
  },
  {
   "cell_type": "code",
   "execution_count": 8,
   "metadata": {},
   "outputs": [],
   "source": [
    "def createDataset(location):\n",
    "    # loop through all the midi files in the location\n",
    "\n",
    "    work_queue = Queue()\n",
    "\n",
    "    work_lock = Lock()\n",
    "    for file in glob.glob(f\"{location}/**/*.mid\", recursive=True):\n",
    "        work_queue.put(file)\n",
    "\n",
    "    for i in range(4):\n",
    "        Process(target=run, args=(work_lock, work_queue)).start()\n",
    "    \n",
    "    return\n",
    "\n",
    "def run(work_lock, work_queue):\n",
    "    while True:\n",
    "        work_lock.acquire()\n",
    "\n",
    "        if work_queue.empty():\n",
    "            work_lock.release()\n",
    "            break\n",
    "\n",
    "        file = work_queue.get()\n",
    "        work_lock.release()\n",
    "        \n",
    "        try:\n",
    "            midi = converter.parse(file)\n",
    "        except:\n",
    "            break\n",
    "\n",
    "        readMidi(midi, file)\n",
    "    \n",
    "    print(\"Finished\")\n"
   ]
  },
  {
   "cell_type": "markdown",
   "metadata": {},
   "source": [
    "# Midi to Numpy\n",
    "\n",
    "Create a numpy representation of the midi files for the Deep Learning model"
   ]
  },
  {
   "cell_type": "code",
   "execution_count": 9,
   "metadata": {},
   "outputs": [],
   "source": [
    "# -------------MAIN FUNCTION--------------------\n",
    "def midiToNetworkInput(midi):\n",
    "    notes = getNotes(midi)\n",
    "    return createNetworkInput(notes)\n",
    "\n",
    "def partToNetworkInput(part):\n",
    "    notes = getNotesFromPart(part)\n",
    "    pprint(notes)\n",
    "    return createNetworkInput(notes)\n",
    "\n",
    "def measureToList(measure):\n",
    "    notes = getNotes(measure)\n",
    "    return createNetworkInput(notes)\n",
    "    \n",
    "    \n",
    "\n",
    "# -------------HELPER FUNCTIONS-----------------\n",
    "def noteToFloat(note):\n",
    "    note_to_float = {'rest': 0.0, 'C0': 0.004524886877828055, 'C#0': 0.00904977375565611, 'D-0': 0.013574660633484163, 'D0': 0.01809954751131222, 'D#0': 0.02262443438914027, 'E-0': 0.027149321266968326, 'E0': 0.03167420814479638, 'F0': 0.03619909502262444, 'F#0': 0.04072398190045249, 'G-0': 0.04524886877828054, 'G0': 0.049773755656108594, 'G#0': 0.05429864253393665, 'A-0': 0.058823529411764705, 'A0': 0.06334841628959276, 'A#0': 0.06787330316742081, 'B-0': 0.07239819004524888, 'B0': 0.07692307692307693, 'C1': 0.08144796380090498, 'C#1': 0.08597285067873303, 'D-1': 0.09049773755656108, 'D1': 0.09502262443438914, 'D#1': 0.09954751131221719, 'E-1': 0.10407239819004525, 'E1': 0.1085972850678733, 'F1': 0.11312217194570136, 'F#1': 0.11764705882352941, 'G-1': 0.12217194570135746, 'G1': 0.12669683257918551, 'G#1': 0.13122171945701358, 'A-1': 0.13574660633484162, 'A1': 0.14027149321266968, 'A#1': 0.14479638009049775, 'B-1': 0.1493212669683258, 'B1': 0.15384615384615385, 'C2': 0.1583710407239819, 'C#2': 0.16289592760180996, 'D-2': 0.167420814479638, 'D2': 0.17194570135746606, 'D#2': 0.17647058823529413, 'E-2': 0.18099547511312217, 'E2': 0.18552036199095023, 'F2': 0.19004524886877827, 'F#2': 0.19457013574660634, 'G-2': 0.19909502262443438, 'G2': 0.20361990950226244, 'G#2': 0.2081447963800905, 'A-2': 0.21266968325791855, 'A2': 0.2171945701357466, 'A#2': 0.22171945701357465, 'B-2': 0.22624434389140272, 'B2': 0.23076923076923078, 'C3': 0.23529411764705882, 'C#3': 0.2398190045248869, 'D-3': 0.24434389140271492, 'D3': 0.248868778280543, 'D#3': 0.25339366515837103, 'E-3': 0.2579185520361991, 'E3': 0.26244343891402716, 'F3': 0.2669683257918552, 'F#3': 0.27149321266968324, 'G-3': 0.27601809954751133, 'G3': 0.28054298642533937, 'G#3': 0.2850678733031674, 'A-3': 0.2895927601809955, 'A3': 0.29411764705882354, 'A#3': 0.2986425339366516, 'B-3': 0.3031674208144796, 'B3': 0.3076923076923077, 'C4': 0.31221719457013575, 'C#4': 0.3167420814479638, 'D-4': 0.3212669683257919, 'D4': 0.3257918552036199, 'D#4': 0.33031674208144796, 'E-4': 0.334841628959276, 'E4': 0.3393665158371041, 'F4': 0.3438914027149321, 'F#4': 0.34841628959276016, 'G-4': 0.35294117647058826, 'G4': 0.3574660633484163, 'G#4': 0.36199095022624433, 'A-4': 0.3665158371040724, 'A4': 0.37104072398190047, 'A#4': 0.3755656108597285, 'B-4': 0.38009049773755654, 'B4': 0.38461538461538464, 'C5': 0.3891402714932127, 'C#5': 0.3936651583710407, 'D-5': 0.39819004524886875, 'D5': 0.40271493212669685, 'D#5': 0.4072398190045249, 'E-5': 0.4117647058823529, 'E5': 0.416289592760181, 'F5': 0.42081447963800905, 'F#5': 0.4253393665158371, 'G-5': 0.4298642533936652, 'G5': 0.4343891402714932, 'G#5': 0.43891402714932126, 'A-5': 0.4434389140271493, 'A5': 0.4479638009049774, 'A#5': 0.45248868778280543, 'B-5': 0.45701357466063347, 'B5': 0.46153846153846156, 'C6': 0.4660633484162896, 'C#6': 0.47058823529411764, 'D-6': 0.4751131221719457, 'D6': 0.4796380090497738, 'D#6': 0.4841628959276018, 'E-6': 0.48868778280542985, 'E6': 0.49321266968325794, 'F6': 0.497737556561086, 'F#6': 0.502262443438914, 'G-6': 0.5067873303167421, 'G6': 0.5113122171945701, 'G#6': 0.5158371040723982, 'A-6': 0.5203619909502263, 'A6': 0.5248868778280543, 'A#6': 0.5294117647058824, 'B-6': 0.5339366515837104, 'B6': 0.5384615384615384, 'C7': 0.5429864253393665, 'C#7': 0.5475113122171946, 'D-7': 0.5520361990950227, 'D7': 0.5565610859728507, 'D#7': 0.5610859728506787, 'E-7': 0.5656108597285068, 'E7': 0.5701357466063348, 'F7': 0.5746606334841629, 'F#7': 0.579185520361991, 'G-7': 0.583710407239819, 'G7': 0.5882352941176471, 'G#7': 0.5927601809954751, 'A-7': 0.5972850678733032, 'A7': 0.6018099547511312, 'A#7': 0.6063348416289592, 'B-7': 0.6108597285067874, 'B7': 0.6153846153846154, 'C8': 0.6199095022624435, 'C#8': 0.6244343891402715, 'D-8': 0.6289592760180995, 'D8': 0.6334841628959276, 'D#8': 0.6380090497737556, 'E-8': 0.6425339366515838, 'E8': 0.6470588235294118, 'F8': 0.6515837104072398, 'F#8': 0.6561085972850679, 'G-8': 0.6606334841628959, 'G8': 0.665158371040724, 'G#8': 0.669683257918552, 'A-8': 0.6742081447963801, 'A8': 0.6787330316742082, 'A#8': 0.6832579185520362, 'B-8': 0.6877828054298643, 'B8': 0.6923076923076923, 'C9': 0.6968325791855203, 'C#9': 0.7013574660633484, 'D-9': 0.7058823529411765, 'D9': 0.7104072398190046, 'D#9': 0.7149321266968326, 'E-9': 0.7194570135746606, 'E9': 0.7239819004524887, 'F9': 0.7285067873303167, 'F#9': 0.7330316742081447, 'G-9': 0.7375565610859729, 'G9': 0.7420814479638009, 'G#9': 0.746606334841629, 'A-9': 0.751131221719457, 'A9': 0.755656108597285, 'A#9': 0.7601809954751131, 'B-9': 0.7647058823529411, 'B9': 0.7692307692307693, 'C10': 0.7737556561085973, 'C#10': 0.7782805429864253, 'D-10': 0.7828054298642534, 'D10': 0.7873303167420814, 'D#10': 0.7918552036199095, 'E-10': 0.7963800904977375, 'E10': 0.8009049773755657, 'F10': 0.8054298642533937, 'F#10': 0.8099547511312217, 'G-10': 0.8144796380090498, 'G10': 0.8190045248868778, 'G#10': 0.8235294117647058, 'A-10': 0.8280542986425339, 'A10': 0.832579185520362, 'A#10': 0.8371040723981901, 'B-10': 0.8416289592760181, 'B10': 0.8461538461538461, 'C11': 0.8506787330316742, 'C#11': 0.8552036199095022, 'D-11': 0.8597285067873304, 'D11': 0.8642533936651584, 'D#11': 0.8687782805429864, 'E-11': 0.8733031674208145, 'E11': 0.8778280542986425, 'F11': 0.8823529411764706, 'F#11': 0.8868778280542986, 'G-11': 0.8914027149321267, 'G11': 0.8959276018099548, 'G#11': 0.9004524886877828, 'A-11': 0.9049773755656109, 'A11': 0.9095022624434389, 'A#11': 0.9140271493212669, 'B-11': 0.918552036199095, 'B11': 0.9230769230769231, 'C12': 0.9276018099547512, 'C#12': 0.9321266968325792, 'D-12': 0.9366515837104072, 'D12': 0.9411764705882353, 'D#12': 0.9457013574660633, 'E-12': 0.9502262443438914, 'E12': 0.9547511312217195, 'F12': 0.9592760180995475, 'F#12': 0.9638009049773756, 'G-12': 0.9683257918552036, 'G12': 0.9728506787330317, 'G#12': 0.9773755656108597, 'A-12': 0.9819004524886877, 'A12': 0.9864253393665159, 'A#12': 0.9909502262443439, 'B-12': 0.995475113122172, 'B12': 1.0}\n",
    "    return note_to_float[note]\n",
    "\n",
    "def noteToInt(note):\n",
    "    note_to_int = ['rest', 'C6', 'C#6', 'D-6', 'D6', 'D#6', 'E-6', 'E6', 'F6', 'F#6', 'G-6', 'G6', 'G#6', 'A-6', 'A6', 'A#6', 'B-6', 'B6', 'C7', 'C#7', 'D-7', 'D7', 'D#7', 'E-7', 'E7', 'F7', 'F#7', 'G-7', 'G7', 'G#7', 'A-7', 'A7', 'A#7', 'B-7', 'B7', 'C8', 'C#8', 'D-8', 'D8', 'D#8', 'E-8', 'E8', 'F8', 'F#8', 'G-8', 'G8', 'G#8', 'A-8', 'A8', 'A#8', 'B-8', 'B8', 'C9']\n",
    "    return note_to_int.index(note)\n",
    "\n",
    "def getDuration(note):\n",
    "    duration = note.duration.quarterLength\n",
    "    if isinstance(duration, Fraction):\n",
    "        return duration.numerator/duration.denominator # used to be round(duration.numerator/duration.denominator, 3)\n",
    "    else:\n",
    "        return duration\n",
    "\n",
    "def getDurationAsInt(note):\n",
    "    duration_list = [0.0, 0.25, 0.5, 0.75, 1.0, 1.25, 1.5, 1.75, 2.0, 2.25, 2.5, 2.75, 3.0, 3.25, 3.5, 3.75, 4.0, 4.25, 4.5, 4.75, 5.0, 5.25, 5.5, 5.75, 6.0, 6.25, 6.5, 6.75, 7.0, 7.25, 7.5, 7.75, 8.0, 8.25, 8.5, 8.75, 9.0, 9.25, 9.5, 9.75, 10.0, 10.25, 10.5, 10.75, 11.0, 11.25, 11.5, 11.75, 12.0, 12.25, 12.5, 12.75, 13.0]\n",
    "    if note.duration.quarterLengthNoTuplets not in duration_list:\n",
    "        return None\n",
    "    return duration_list.index(note.duration.quarterLengthNoTuplets)\n",
    "\n",
    "def createNetworkInput(notes):\n",
    "    network_input = []\n",
    "    for element in notes:\n",
    "        durationInt = getDurationAsInt(element)\n",
    "        if durationInt == None:\n",
    "            break\n",
    "        if element.isRest:\n",
    "            network_input.append([noteToInt(element.name), durationInt])\n",
    "        elif element.isNote:\n",
    "            network_input.append([noteToInt(element.nameWithOctave), durationInt])\n",
    "    return network_input\n",
    "\n",
    "def getNotes(midi):\n",
    "    part = midi.notes\n",
    "#     part = midi.__dict__[\"_elements\"][0].__dict__[\"_elements\"]\n",
    "    return [element for element in part if isinstance(element, note.GeneralNote)]\n",
    "\n",
    "def getNotesFromPart(part):\n",
    "    partElements = midi.__dict__[\"_elements\"]\n",
    "    return [element for element in partElements if isinstance(element, note.GeneralNote)]\n",
    "\n",
    "def normalise(value):\n",
    "    return (value-0)/(221-0)"
   ]
  },
  {
   "cell_type": "markdown",
   "metadata": {},
   "source": [
    "# Numpy to Midi\n",
    "\n",
    "Using numpy arrays from the format from before passing through the model, turn it into midi"
   ]
  },
  {
   "cell_type": "code",
   "execution_count": 4,
   "metadata": {},
   "outputs": [],
   "source": [
    "# -----------------MAIN FUNCTION-----------------------\n",
    "def numpyToMidi(location):\n",
    "    for file in glob.glob(f'{location}*.npy'):\n",
    "        arr = np.load(file)\n",
    "        filename = file[file.rfind(\"/\")+1:-4]\n",
    "        numpyArrToMidi(arr, filename)\n",
    "\n",
    "# -----------------HELPER FUNCTION---------------------\n",
    "def numpyArrToMidi(npArr, filename):\n",
    "    output = stream.Score(id='mainScore')\n",
    "    filePart = stream.Part(id='part0')\n",
    "    for note in npArr:\n",
    "        noteString = arrToNoteName(note[0])\n",
    "        duration = getDurationFromArray(note[1])\n",
    "        noteObject = getNote(noteString, duratoin)\n",
    "        filePart.append(noteObject)\n",
    "    output.insert(0, filePart)\n",
    "    filename = file[file.rfind(\"/\"):-4] + \".mid\"\n",
    "    output.write(fmt=\"midi\", fp=f\"./output/{filename}\")\n",
    "\n",
    "def getNote(noteString, duration):\n",
    "    if noteString != 'rest':\n",
    "        noteObject = note.Note(noteString)\n",
    "        noteObject.duration.quarterLength = duration\n",
    "        return noteObject\n",
    "    else:\n",
    "        return note.Rest()\n",
    "    \n",
    "def floatToNoteName(value):\n",
    "    note_to_float = {'rest': 0.0, 'C0': 0.004524886877828055, 'C#0': 0.00904977375565611, 'D-0': 0.013574660633484163, 'D0': 0.01809954751131222, 'D#0': 0.02262443438914027, 'E-0': 0.027149321266968326, 'E0': 0.03167420814479638, 'F0': 0.03619909502262444, 'F#0': 0.04072398190045249, 'G-0': 0.04524886877828054, 'G0': 0.049773755656108594, 'G#0': 0.05429864253393665, 'A-0': 0.058823529411764705, 'A0': 0.06334841628959276, 'A#0': 0.06787330316742081, 'B-0': 0.07239819004524888, 'B0': 0.07692307692307693, 'C1': 0.08144796380090498, 'C#1': 0.08597285067873303, 'D-1': 0.09049773755656108, 'D1': 0.09502262443438914, 'D#1': 0.09954751131221719, 'E-1': 0.10407239819004525, 'E1': 0.1085972850678733, 'F1': 0.11312217194570136, 'F#1': 0.11764705882352941, 'G-1': 0.12217194570135746, 'G1': 0.12669683257918551, 'G#1': 0.13122171945701358, 'A-1': 0.13574660633484162, 'A1': 0.14027149321266968, 'A#1': 0.14479638009049775, 'B-1': 0.1493212669683258, 'B1': 0.15384615384615385, 'C2': 0.1583710407239819, 'C#2': 0.16289592760180996, 'D-2': 0.167420814479638, 'D2': 0.17194570135746606, 'D#2': 0.17647058823529413, 'E-2': 0.18099547511312217, 'E2': 0.18552036199095023, 'F2': 0.19004524886877827, 'F#2': 0.19457013574660634, 'G-2': 0.19909502262443438, 'G2': 0.20361990950226244, 'G#2': 0.2081447963800905, 'A-2': 0.21266968325791855, 'A2': 0.2171945701357466, 'A#2': 0.22171945701357465, 'B-2': 0.22624434389140272, 'B2': 0.23076923076923078, 'C3': 0.23529411764705882, 'C#3': 0.2398190045248869, 'D-3': 0.24434389140271492, 'D3': 0.248868778280543, 'D#3': 0.25339366515837103, 'E-3': 0.2579185520361991, 'E3': 0.26244343891402716, 'F3': 0.2669683257918552, 'F#3': 0.27149321266968324, 'G-3': 0.27601809954751133, 'G3': 0.28054298642533937, 'G#3': 0.2850678733031674, 'A-3': 0.2895927601809955, 'A3': 0.29411764705882354, 'A#3': 0.2986425339366516, 'B-3': 0.3031674208144796, 'B3': 0.3076923076923077, 'C4': 0.31221719457013575, 'C#4': 0.3167420814479638, 'D-4': 0.3212669683257919, 'D4': 0.3257918552036199, 'D#4': 0.33031674208144796, 'E-4': 0.334841628959276, 'E4': 0.3393665158371041, 'F4': 0.3438914027149321, 'F#4': 0.34841628959276016, 'G-4': 0.35294117647058826, 'G4': 0.3574660633484163, 'G#4': 0.36199095022624433, 'A-4': 0.3665158371040724, 'A4': 0.37104072398190047, 'A#4': 0.3755656108597285, 'B-4': 0.38009049773755654, 'B4': 0.38461538461538464, 'C5': 0.3891402714932127, 'C#5': 0.3936651583710407, 'D-5': 0.39819004524886875, 'D5': 0.40271493212669685, 'D#5': 0.4072398190045249, 'E-5': 0.4117647058823529, 'E5': 0.416289592760181, 'F5': 0.42081447963800905, 'F#5': 0.4253393665158371, 'G-5': 0.4298642533936652, 'G5': 0.4343891402714932, 'G#5': 0.43891402714932126, 'A-5': 0.4434389140271493, 'A5': 0.4479638009049774, 'A#5': 0.45248868778280543, 'B-5': 0.45701357466063347, 'B5': 0.46153846153846156, 'C6': 0.4660633484162896, 'C#6': 0.47058823529411764, 'D-6': 0.4751131221719457, 'D6': 0.4796380090497738, 'D#6': 0.4841628959276018, 'E-6': 0.48868778280542985, 'E6': 0.49321266968325794, 'F6': 0.497737556561086, 'F#6': 0.502262443438914, 'G-6': 0.5067873303167421, 'G6': 0.5113122171945701, 'G#6': 0.5158371040723982, 'A-6': 0.5203619909502263, 'A6': 0.5248868778280543, 'A#6': 0.5294117647058824, 'B-6': 0.5339366515837104, 'B6': 0.5384615384615384, 'C7': 0.5429864253393665, 'C#7': 0.5475113122171946, 'D-7': 0.5520361990950227, 'D7': 0.5565610859728507, 'D#7': 0.5610859728506787, 'E-7': 0.5656108597285068, 'E7': 0.5701357466063348, 'F7': 0.5746606334841629, 'F#7': 0.579185520361991, 'G-7': 0.583710407239819, 'G7': 0.5882352941176471, 'G#7': 0.5927601809954751, 'A-7': 0.5972850678733032, 'A7': 0.6018099547511312, 'A#7': 0.6063348416289592, 'B-7': 0.6108597285067874, 'B7': 0.6153846153846154, 'C8': 0.6199095022624435, 'C#8': 0.6244343891402715, 'D-8': 0.6289592760180995, 'D8': 0.6334841628959276, 'D#8': 0.6380090497737556, 'E-8': 0.6425339366515838, 'E8': 0.6470588235294118, 'F8': 0.6515837104072398, 'F#8': 0.6561085972850679, 'G-8': 0.6606334841628959, 'G8': 0.665158371040724, 'G#8': 0.669683257918552, 'A-8': 0.6742081447963801, 'A8': 0.6787330316742082, 'A#8': 0.6832579185520362, 'B-8': 0.6877828054298643, 'B8': 0.6923076923076923, 'C9': 0.6968325791855203, 'C#9': 0.7013574660633484, 'D-9': 0.7058823529411765, 'D9': 0.7104072398190046, 'D#9': 0.7149321266968326, 'E-9': 0.7194570135746606, 'E9': 0.7239819004524887, 'F9': 0.7285067873303167, 'F#9': 0.7330316742081447, 'G-9': 0.7375565610859729, 'G9': 0.7420814479638009, 'G#9': 0.746606334841629, 'A-9': 0.751131221719457, 'A9': 0.755656108597285, 'A#9': 0.7601809954751131, 'B-9': 0.7647058823529411, 'B9': 0.7692307692307693, 'C10': 0.7737556561085973, 'C#10': 0.7782805429864253, 'D-10': 0.7828054298642534, 'D10': 0.7873303167420814, 'D#10': 0.7918552036199095, 'E-10': 0.7963800904977375, 'E10': 0.8009049773755657, 'F10': 0.8054298642533937, 'F#10': 0.8099547511312217, 'G-10': 0.8144796380090498, 'G10': 0.8190045248868778, 'G#10': 0.8235294117647058, 'A-10': 0.8280542986425339, 'A10': 0.832579185520362, 'A#10': 0.8371040723981901, 'B-10': 0.8416289592760181, 'B10': 0.8461538461538461, 'C11': 0.8506787330316742, 'C#11': 0.8552036199095022, 'D-11': 0.8597285067873304, 'D11': 0.8642533936651584, 'D#11': 0.8687782805429864, 'E-11': 0.8733031674208145, 'E11': 0.8778280542986425, 'F11': 0.8823529411764706, 'F#11': 0.8868778280542986, 'G-11': 0.8914027149321267, 'G11': 0.8959276018099548, 'G#11': 0.9004524886877828, 'A-11': 0.9049773755656109, 'A11': 0.9095022624434389, 'A#11': 0.9140271493212669, 'B-11': 0.918552036199095, 'B11': 0.9230769230769231, 'C12': 0.9276018099547512, 'C#12': 0.9321266968325792, 'D-12': 0.9366515837104072, 'D12': 0.9411764705882353, 'D#12': 0.9457013574660633, 'E-12': 0.9502262443438914, 'E12': 0.9547511312217195, 'F12': 0.9592760180995475, 'F#12': 0.9638009049773756, 'G-12': 0.9683257918552036, 'G12': 0.9728506787330317, 'G#12': 0.9773755656108597, 'A-12': 0.9819004524886877, 'A12': 0.9864253393665159, 'A#12': 0.9909502262443439, 'B-12': 0.995475113122172, 'B12': 1.0}\n",
    "    return list(note_to_float.keys())[list(note_to_float.values()).index(value)]\n",
    "\n",
    "def arrToNoteName(arr):\n",
    "    notes = ['rest', 'C6', 'C#6', 'D-6', 'D6', 'D#6', 'E-6', 'E6', 'F6', 'F#6', 'G-6', 'G6', 'G#6', 'A-6', 'A6', 'A#6', 'B-6', 'B6', 'C7', 'C#7', 'D-7', 'D7', 'D#7', 'E-7', 'E7', 'F7', 'F#7', 'G-7', 'G7', 'G#7', 'A-7', 'A7', 'A#7', 'B-7', 'B7', 'C8', 'C#8', 'D-8', 'D8', 'D#8', 'E-8', 'E8', 'F8', 'F#8', 'G-8', 'G8', 'G#8', 'A-8', 'A8', 'A#8', 'B-8', 'B8', 'C9']\n",
    "    return notes[arr.index(1)]\n",
    "    \n",
    "def getDurationFromArray(arr):\n",
    "    duration_list = [0.0, 0.25, 0.5, 0.75, 1.0, 1.25, 1.5, 1.75, 2.0, 2.25, 2.5, 2.75, 3.0, 3.25, 3.5, 3.75, 4.0, 4.25, 4.5, 4.75, 5.0, 5.25, 5.5, 5.75, 6.0, 6.25, 6.5, 6.75, 7.0, 7.25, 7.5, 7.75, 8.0, 8.25, 8.5, 8.75, 9.0, 9.25, 9.5, 9.75, 10.0, 10.25, 10.5, 10.75, 11.0, 11.25, 11.5, 11.75, 12.0, 12.25, 12.5, 12.75, 13.0]\n",
    "    return duration_list[arr.index(1)]"
   ]
  },
  {
   "cell_type": "code",
   "execution_count": 91,
   "metadata": {},
   "outputs": [
    {
     "name": "stdout",
     "output_type": "stream",
     "text": [
      "rm: cannot remove './output/*': No such file or directory\n"
     ]
    }
   ],
   "source": [
    "!rm ./output/*"
   ]
  },
  {
   "cell_type": "code",
   "execution_count": null,
   "metadata": {},
   "outputs": [],
   "source": [
    "numpyToMidi('./numpyRepresentation/')"
   ]
  },
  {
   "cell_type": "markdown",
   "metadata": {},
   "source": [
    "## Main"
   ]
  },
  {
   "cell_type": "code",
   "execution_count": 15,
   "metadata": {
    "scrolled": true
   },
   "outputs": [
    {
     "name": "stdout",
     "output_type": "stream",
     "text": [
      "Parsing ./data/Pokemon - Lavender town.mid\n",
      "Parsing ./data/Pokemon - Farewell, Pikachu!.mid\n",
      "Parsing ./data/Pokemon - Littleroot Town.mid\n",
      "Parsing ./data/Digimon - Butterfly (Piano Version).mid\n"
     ]
    },
    {
     "name": "stderr",
     "output_type": "stream",
     "text": [
      "meter: WARNING: Found a messed up beam pair <music21.beam.Beams <music21.beam.Beam 1/start>/<music21.beam.Beam 2/partial/right>>, <music21.beam.Beams <music21.beam.Beam 1/stop>/<music21.beam.Beam 2/stop>>, at index 4 of \n",
      "[None, <music21.beam.Beams <music21.beam.Beam 1/start>/<music21.beam.Beam 2/start>>, <music21.beam.Beams <music21.beam.Beam 1/stop>/<music21.beam.Beam 2/stop>>, None, <music21.beam.Beams <music21.beam.Beam 1/start>/<music21.beam.Beam 2/partial/right>>, <music21.beam.Beams <music21.beam.Beam 1/stop>/<music21.beam.Beam 2/stop>>]\n"
     ]
    },
    {
     "name": "stdout",
     "output_type": "stream",
     "text": [
      "Saving Pokemon - Lavender town0.npy\n",
      " ✔️ : Pokemon - Lavender town0.npy was saved\n",
      "Parsing ./data/Pokemon - Lugias Song.mid\n",
      "Parsing ./data/Pokemon - Oracion.mid\n",
      "Saving Pokemon - Lugias Song0.npy\n",
      " ✔️ : Pokemon - Lugias Song0.npy was saved\n",
      "Parsing ./data/Pokemon - Pallet Town.mid\n",
      "Saving Pokemon - Oracion0.npy\n",
      " ✔️ : Pokemon - Oracion0.npy was saved\n",
      "Parsing ./data/Pokemon - Pkmn Elite 4.mid\n",
      "Saving Pokemon - Littleroot Town0.npy\n",
      " ✔️ : Pokemon - Littleroot Town0.npy was saved\n",
      "Parsing ./data/Pokemon - pokecentre theme.mid\n",
      "Saving Pokemon - Pkmn Elite 40.npy\n",
      " ✔️ : Pokemon - Pkmn Elite 40.npy was saved\n",
      "Parsing ./data/Pokemon - Pokemon Center Theme.mid\n",
      "Saving Pokemon - pokecentre theme0.npy\n",
      " ✔️ : Pokemon - pokecentre theme0.npy was saved\n",
      "Parsing ./data/Pokemon - Pokemon Center.mid\n",
      "Parsing ./data/Pokemon - Pokemon Johto - Opening.mid\n",
      "Parsing ./data/Pokemon - The Ghost at Maiden's Peak.mid\n",
      "Saving Pokemon - Pokemon Center Theme0.npy\n",
      " ✔️ : Pokemon - Pokemon Center Theme0.npy was saved\n",
      "Saving Pokemon - Pokemon Center Theme1.npy\n",
      " ✔️ : Pokemon - Pokemon Center Theme1.npy was saved\n",
      "Saving Pokemon - Pokemon Center Theme2.npy\n",
      " ✔️ : Pokemon - Pokemon Center Theme2.npy was saved\n",
      "Parsing ./data/Pokemon Black & White - Village Bridge.mid\n",
      "Parsing ./data/Pokemon Black 2White 2 - Cave of Being.mid\n",
      "Saving Digimon - Butterfly (Piano Version)0.npy\n",
      " ✔️ : Digimon - Butterfly (Piano Version)0.npy was saved\n",
      "Saving Digimon - Butterfly (Piano Version)1.npy\n",
      " ✔️ : Digimon - Butterfly (Piano Version)1.npy was saved\n",
      "Parsing ./data/Pokemon Black 2White 2 - Join Avenue  Greeting.mid\n",
      "Parsing ./data/Pokemon Black 2White 2 - Ns Room.mid\n",
      "Parsing ./data/Pokemon BlackWhite - Skyarrow Bridge.mid\n",
      "Parsing ./data/Pokemon BlackWhite - Striaton City.mid\n",
      "Saving Pokemon Black & White - Village Bridge0.npy\n",
      " ✔️ : Pokemon Black & White - Village Bridge0.npy was saved\n",
      "Parsing ./data/Pokemon BlackWhite - Surfing.mid\n",
      "Parsing ./data/Pokemon BlackWhite - Undella Town FallWinterSpring.mid\n",
      "Parsing ./data/Pokemon BlackWhite - Undella Town Summer.mid\n",
      "Parsing ./data/Pokemon BlackWhite - Village Bridge.mid\n",
      "Parsing ./data/Pokemon BlackWhite - White Forest.mid\n",
      "Parsing ./data/Pokemon Channel - Pokepad.mid\n",
      "Parsing ./data/Pokemon Colosseum - Miror B Battle.mid\n",
      "Parsing ./data/Pokemon Colosseum - Outskirt Stand.mid\n",
      "Saving Pokemon Colosseum - Outskirt Stand0.npy\n",
      " ✔️ : Pokemon Colosseum - Outskirt Stand0.npy was saved\n",
      "Parsing ./data/Pokemon Colosseum - Pyrite Town.mid\n",
      "Parsing ./data/Pokemon Colosseum - Relic Forest in Danger.mid\n",
      "Parsing ./data/Pokemon Colosseum - Relic Forest.mid\n",
      "Parsing ./data/Pokemon RedBlueYellow - Route 12.mid\n"
     ]
    },
    {
     "name": "stderr",
     "output_type": "stream",
     "text": [
      "meter: WARNING: Found a messed up beam pair <music21.beam.Beams <music21.beam.Beam 1/start>/<music21.beam.Beam 2/partial/right>>, <music21.beam.Beams <music21.beam.Beam 1/stop>/<music21.beam.Beam 2/stop>>, at index 1 of \n",
      "[None, <music21.beam.Beams <music21.beam.Beam 1/start>/<music21.beam.Beam 2/partial/right>>, <music21.beam.Beams <music21.beam.Beam 1/stop>/<music21.beam.Beam 2/stop>>]\n"
     ]
    },
    {
     "name": "stdout",
     "output_type": "stream",
     "text": [
      "Parsing ./data/Pokemon RedBlueYellow - Route 24.mid\n",
      "Parsing ./data/Pokemon RedBlueYellow - Route 3.mid\n",
      "Parsing ./data/Pokemon RedBlueYellow - Show Me Around.mid\n",
      "Parsing ./data/Pokemon RedBlueYellow - Silph Co.mid\n",
      "Parsing ./data/Pokemon RedBlueYellow - Surf Theme.mid\n",
      "Parsing ./data/Pokemon RedBlueYellow - SS Anne.mid\n",
      "Parsing ./data/Pokemon RedBlueYellow - Team Rocket Hideout.mid\n",
      "Parsing ./data/Pokemon RedBlueYellow - Title Theme.mid\n",
      "Parsing ./data/Pokemon RedBlueYellow - Trainer Battle.mid\n",
      "Parsing ./data/Pokemon RedBlueYellow - Vermillion City.mid\n",
      "Parsing ./data/Pokemon RedBlueYellow - Viridian City.mid\n",
      "Parsing ./data/Pokemon RedBlueYellow - Viridian Forest.mid\n",
      "Parsing ./data/Pokemon RedBlueYellow - Wild Pokemon Battle.mid\n",
      "Parsing ./data/Pokemon RubySapphireEmerald - Abandoned Ship.mid\n",
      "Parsing ./data/Pokemon RubySapphireEmerald - Battle Tower.mid\n",
      "Parsing ./data/Pokemon RubySapphireEmerald - Champion Battle.mid\n",
      "Parsing ./data/Pokemon Black 2White 2 - THE END.mid\n",
      "Parsing ./data/Pokemon BlackWhite - Accumula Town.mid\n",
      "Parsing ./data/Pokemon BlackWhite - An Unwavering Heart.mid\n",
      "Parsing ./data/Pokemon BlackWhite - Battle CherenBianca.mid\n",
      "Parsing ./data/Pokemon BlackWhite - Battle Elite Four.mid\n",
      "Parsing ./data/Pokemon BlackWhite - Battle Legendary Pokemon.mid\n",
      "Parsing ./data/Pokemon BlackWhite - Battle Team Plasma.mid\n",
      "Parsing ./data/Pokemon BlackWhite - Battle Wild Pokemon.mid\n",
      "Parsing ./data/Pokemon BlackWhite - Bicycle.mid\n",
      "Parsing ./data/Pokemon BlackWhite - Castelia City.mid\n"
     ]
    },
    {
     "name": "stderr",
     "output_type": "stream",
     "text": [
      "meter: WARNING: Found a messed up beam pair <music21.beam.Beams <music21.beam.Beam 1/start>/<music21.beam.Beam 2/partial/right>>, <music21.beam.Beams <music21.beam.Beam 1/stop>/<music21.beam.Beam 2/stop>>, at index 6 of \n",
      "[None, None, <music21.beam.Beams <music21.beam.Beam 1/start>/<music21.beam.Beam 2/start>>, <music21.beam.Beams <music21.beam.Beam 1/continue>/<music21.beam.Beam 2/continue>>, <music21.beam.Beams <music21.beam.Beam 1/stop>/<music21.beam.Beam 2/stop>>, None, <music21.beam.Beams <music21.beam.Beam 1/start>/<music21.beam.Beam 2/partial/right>>, <music21.beam.Beams <music21.beam.Beam 1/stop>/<music21.beam.Beam 2/stop>>]\n",
      "meter: WARNING: Found a messed up beam pair <music21.beam.Beams <music21.beam.Beam 1/start>/<music21.beam.Beam 2/partial/right>>, <music21.beam.Beams <music21.beam.Beam 1/stop>/<music21.beam.Beam 2/stop>>, at index 6 of \n",
      "[None, None, <music21.beam.Beams <music21.beam.Beam 1/start>/<music21.beam.Beam 2/start>>, <music21.beam.Beams <music21.beam.Beam 1/continue>/<music21.beam.Beam 2/continue>>, <music21.beam.Beams <music21.beam.Beam 1/stop>/<music21.beam.Beam 2/stop>>, None, <music21.beam.Beams <music21.beam.Beam 1/start>/<music21.beam.Beam 2/partial/right>>, <music21.beam.Beams <music21.beam.Beam 1/stop>/<music21.beam.Beam 2/stop>>]\n"
     ]
    },
    {
     "name": "stdout",
     "output_type": "stream",
     "text": [
      "Parsing ./data/Pokemon BlackWhite - Champion Alder.mid\n",
      "Parsing ./data/Pokemon BlackWhite - Crisis in Battle.mid\n",
      "Parsing ./data/Pokemon BlackWhite - Dragonspiral Tower.mid\n",
      "Parsing ./data/Pokemon BlackWhite - Driftveil City.mid\n",
      "Parsing ./data/Pokemon BlackWhite - Ending Onward to Our Own Futures.mid\n",
      "Parsing ./data/Pokemon BlackWhite - Icirrus City.mid\n",
      "Parsing ./data/Pokemon GoldSilverCrystal - Union Cave.mid\n"
     ]
    },
    {
     "name": "stderr",
     "output_type": "stream",
     "text": [
      "meter: WARNING: Found a messed up beam pair <music21.beam.Beams <music21.beam.Beam 1/start>/<music21.beam.Beam 2/partial/right>>, <music21.beam.Beams <music21.beam.Beam 1/stop>/<music21.beam.Beam 2/stop>>, at index 3 of \n",
      "[<music21.beam.Beams <music21.beam.Beam 1/start>>, <music21.beam.Beams <music21.beam.Beam 1/continue>>, <music21.beam.Beams <music21.beam.Beam 1/stop>>, <music21.beam.Beams <music21.beam.Beam 1/start>/<music21.beam.Beam 2/partial/right>>, <music21.beam.Beams <music21.beam.Beam 1/stop>/<music21.beam.Beam 2/stop>>]\n",
      "meter: WARNING: Found a messed up beam pair <music21.beam.Beams <music21.beam.Beam 1/start>/<music21.beam.Beam 2/partial/right>>, <music21.beam.Beams <music21.beam.Beam 1/stop>/<music21.beam.Beam 2/stop>>, at index 3 of \n",
      "[<music21.beam.Beams <music21.beam.Beam 1/start>>, <music21.beam.Beams <music21.beam.Beam 1/continue>>, <music21.beam.Beams <music21.beam.Beam 1/stop>>, <music21.beam.Beams <music21.beam.Beam 1/start>/<music21.beam.Beam 2/partial/right>>, <music21.beam.Beams <music21.beam.Beam 1/stop>/<music21.beam.Beam 2/stop>>]\n",
      "meter: WARNING: Found a messed up beam pair <music21.beam.Beams <music21.beam.Beam 1/start>/<music21.beam.Beam 2/partial/right>>, <music21.beam.Beams <music21.beam.Beam 1/stop>/<music21.beam.Beam 2/stop>>, at index 3 of \n",
      "[<music21.beam.Beams <music21.beam.Beam 1/start>>, <music21.beam.Beams <music21.beam.Beam 1/continue>>, <music21.beam.Beams <music21.beam.Beam 1/stop>>, <music21.beam.Beams <music21.beam.Beam 1/start>/<music21.beam.Beam 2/partial/right>>, <music21.beam.Beams <music21.beam.Beam 1/stop>/<music21.beam.Beam 2/stop>>]\n",
      "meter: WARNING: Found a messed up beam pair <music21.beam.Beams <music21.beam.Beam 1/start>/<music21.beam.Beam 2/partial/right>>, <music21.beam.Beams <music21.beam.Beam 1/stop>/<music21.beam.Beam 2/stop>>, at index 1 of \n",
      "[None, <music21.beam.Beams <music21.beam.Beam 1/start>/<music21.beam.Beam 2/partial/right>>, <music21.beam.Beams <music21.beam.Beam 1/stop>/<music21.beam.Beam 2/stop>>]\n",
      "meter: WARNING: Found a messed up beam pair <music21.beam.Beams <music21.beam.Beam 1/start>/<music21.beam.Beam 2/partial/right>>, <music21.beam.Beams <music21.beam.Beam 1/stop>/<music21.beam.Beam 2/stop>>, at index 3 of \n",
      "[<music21.beam.Beams <music21.beam.Beam 1/start>>, <music21.beam.Beams <music21.beam.Beam 1/continue>>, <music21.beam.Beams <music21.beam.Beam 1/stop>>, <music21.beam.Beams <music21.beam.Beam 1/start>/<music21.beam.Beam 2/partial/right>>, <music21.beam.Beams <music21.beam.Beam 1/stop>/<music21.beam.Beam 2/stop>>]\n",
      "meter: WARNING: Found a messed up beam pair <music21.beam.Beams <music21.beam.Beam 1/start>/<music21.beam.Beam 2/partial/right>>, <music21.beam.Beams <music21.beam.Beam 1/stop>/<music21.beam.Beam 2/stop>>, at index 3 of \n",
      "[<music21.beam.Beams <music21.beam.Beam 1/start>>, <music21.beam.Beams <music21.beam.Beam 1/continue>>, <music21.beam.Beams <music21.beam.Beam 1/stop>>, <music21.beam.Beams <music21.beam.Beam 1/start>/<music21.beam.Beam 2/partial/right>>, <music21.beam.Beams <music21.beam.Beam 1/stop>/<music21.beam.Beam 2/stop>>]\n",
      "meter: WARNING: Found a messed up beam pair <music21.beam.Beams <music21.beam.Beam 1/start>/<music21.beam.Beam 2/partial/right>>, <music21.beam.Beams <music21.beam.Beam 1/stop>/<music21.beam.Beam 2/stop>>, at index 3 of \n",
      "[<music21.beam.Beams <music21.beam.Beam 1/start>>, <music21.beam.Beams <music21.beam.Beam 1/continue>>, <music21.beam.Beams <music21.beam.Beam 1/stop>>, <music21.beam.Beams <music21.beam.Beam 1/start>/<music21.beam.Beam 2/partial/right>>, <music21.beam.Beams <music21.beam.Beam 1/stop>/<music21.beam.Beam 2/stop>>]\n"
     ]
    },
    {
     "name": "stdout",
     "output_type": "stream",
     "text": [
      "Parsing ./data/Pokemon GoldSilverCrystal - Victory Road.mid\n",
      "Parsing ./data/Pokemon GoldSilverCrystal - Violet CityOlivine City.mid\n",
      "Parsing ./data/Pokemon HeartGoldSoulSilver - Cerulean City.mid\n",
      "Parsing ./data/Pokemon HeartGoldSoulSilver - Cinnabar Island.mid\n"
     ]
    },
    {
     "name": "stderr",
     "output_type": "stream",
     "text": [
      "meter: WARNING: Found a messed up beam pair <music21.beam.Beams <music21.beam.Beam 1/start>/<music21.beam.Beam 2/partial/right>>, <music21.beam.Beams <music21.beam.Beam 1/stop>/<music21.beam.Beam 2/stop>>, at index 6 of \n",
      "[<music21.beam.Beams <music21.beam.Beam 1/start>/<music21.beam.Beam 2/start>>, <music21.beam.Beams <music21.beam.Beam 1/continue>/<music21.beam.Beam 2/continue>>, <music21.beam.Beams <music21.beam.Beam 1/stop>/<music21.beam.Beam 2/stop>>, None, None, None, <music21.beam.Beams <music21.beam.Beam 1/start>/<music21.beam.Beam 2/partial/right>>, <music21.beam.Beams <music21.beam.Beam 1/stop>/<music21.beam.Beam 2/stop>>]\n",
      "meter: WARNING: Found a messed up beam pair <music21.beam.Beams <music21.beam.Beam 1/start>/<music21.beam.Beam 2/partial/right>>, <music21.beam.Beams <music21.beam.Beam 1/stop>/<music21.beam.Beam 2/stop>>, at index 6 of \n",
      "[<music21.beam.Beams <music21.beam.Beam 1/start>/<music21.beam.Beam 2/start>>, <music21.beam.Beams <music21.beam.Beam 1/continue>/<music21.beam.Beam 2/continue>>, <music21.beam.Beams <music21.beam.Beam 1/stop>/<music21.beam.Beam 2/stop>>, None, None, None, <music21.beam.Beams <music21.beam.Beam 1/start>/<music21.beam.Beam 2/partial/right>>, <music21.beam.Beams <music21.beam.Beam 1/stop>/<music21.beam.Beam 2/stop>>]\n"
     ]
    },
    {
     "name": "stdout",
     "output_type": "stream",
     "text": [
      "Parsing ./data/Pokemon HeartGoldSoulSilver - Game Corner.mid\n",
      "Parsing ./data/Pokemon HeartGoldSoulSilver - Indigo Plateau.mid\n",
      "Saving Pokemon HeartGoldSoulSilver - Cerulean City0.npy\n",
      " ✔️ : Pokemon HeartGoldSoulSilver - Cerulean City0.npy was saved\n",
      "Parsing ./data/Pokemon HeartGoldSoulSilver - Instructions.mid\n",
      "Parsing ./data/Pokemon HeartGoldSoulSilver - Lyras Theme.mid\n",
      "Parsing ./data/Pokemon HeartGoldSoulSilver - New Bark Town.mid\n",
      "Parsing ./data/Pokemon HeartGoldSoulSilver - Pokemaniac Encounter.mid\n",
      "Parsing ./data/Pokemon XD Gale of Darkness - Mt Battle Lobby.mid\n",
      "Parsing ./data/Pokemon XD Gale of Darkness - The Hexagon Bros.mid\n"
     ]
    },
    {
     "name": "stderr",
     "output_type": "stream",
     "text": [
      "meter: WARNING: Found a messed up beam pair <music21.beam.Beams <music21.beam.Beam 1/start>/<music21.beam.Beam 2/partial/right>>, <music21.beam.Beams <music21.beam.Beam 1/stop>/<music21.beam.Beam 2/stop>>, at index 4 of \n",
      "[None, None, <music21.beam.Beams <music21.beam.Beam 1/start>>, <music21.beam.Beams <music21.beam.Beam 1/stop>>, <music21.beam.Beams <music21.beam.Beam 1/start>/<music21.beam.Beam 2/partial/right>>, <music21.beam.Beams <music21.beam.Beam 1/stop>/<music21.beam.Beam 2/stop>>]\n",
      "meter: WARNING: Found a messed up beam pair <music21.beam.Beams <music21.beam.Beam 1/start>/<music21.beam.Beam 2/partial/right>>, <music21.beam.Beams <music21.beam.Beam 1/stop>/<music21.beam.Beam 2/stop>>, at index 4 of \n",
      "[None, None, <music21.beam.Beams <music21.beam.Beam 1/start>>, <music21.beam.Beams <music21.beam.Beam 1/stop>>, <music21.beam.Beams <music21.beam.Beam 1/start>/<music21.beam.Beam 2/partial/right>>, <music21.beam.Beams <music21.beam.Beam 1/stop>/<music21.beam.Beam 2/stop>>]\n",
      "meter: WARNING: Found a messed up beam pair <music21.beam.Beams <music21.beam.Beam 1/start>/<music21.beam.Beam 2/partial/right>>, <music21.beam.Beams <music21.beam.Beam 1/stop>/<music21.beam.Beam 2/stop>>, at index 4 of \n",
      "[None, None, <music21.beam.Beams <music21.beam.Beam 1/start>>, <music21.beam.Beams <music21.beam.Beam 1/stop>>, <music21.beam.Beams <music21.beam.Beam 1/start>/<music21.beam.Beam 2/partial/right>>, <music21.beam.Beams <music21.beam.Beam 1/stop>/<music21.beam.Beam 2/stop>>]\n",
      "meter: WARNING: Found a messed up beam pair <music21.beam.Beams <music21.beam.Beam 1/start>/<music21.beam.Beam 2/partial/right>>, <music21.beam.Beams <music21.beam.Beam 1/stop>/<music21.beam.Beam 2/stop>>, at index 4 of \n",
      "[None, None, <music21.beam.Beams <music21.beam.Beam 1/start>>, <music21.beam.Beams <music21.beam.Beam 1/stop>>, <music21.beam.Beams <music21.beam.Beam 1/start>/<music21.beam.Beam 2/partial/right>>, <music21.beam.Beams <music21.beam.Beam 1/stop>/<music21.beam.Beam 2/stop>>]\n",
      "meter: WARNING: Found a messed up beam pair <music21.beam.Beams <music21.beam.Beam 1/start>/<music21.beam.Beam 2/partial/right>>, <music21.beam.Beams <music21.beam.Beam 1/stop>/<music21.beam.Beam 2/stop>>, at index 4 of \n",
      "[None, None, <music21.beam.Beams <music21.beam.Beam 1/start>>, <music21.beam.Beams <music21.beam.Beam 1/stop>>, <music21.beam.Beams <music21.beam.Beam 1/start>/<music21.beam.Beam 2/partial/right>>, <music21.beam.Beams <music21.beam.Beam 1/stop>/<music21.beam.Beam 2/stop>>]\n",
      "meter: WARNING: Found a messed up beam pair <music21.beam.Beams <music21.beam.Beam 1/start>/<music21.beam.Beam 2/partial/right>>, <music21.beam.Beams <music21.beam.Beam 1/stop>/<music21.beam.Beam 2/stop>>, at index 4 of \n",
      "[None, None, <music21.beam.Beams <music21.beam.Beam 1/start>>, <music21.beam.Beams <music21.beam.Beam 1/stop>>, <music21.beam.Beams <music21.beam.Beam 1/start>/<music21.beam.Beam 2/partial/right>>, <music21.beam.Beams <music21.beam.Beam 1/stop>/<music21.beam.Beam 2/stop>>]\n"
     ]
    },
    {
     "name": "stdout",
     "output_type": "stream",
     "text": [
      "Parsing ./data/Pokemon XY - Battle Wild Pokemon.mid\n",
      "Parsing ./data/Pokemon XY - Bicycle.mid\n",
      "Parsing ./data/Pokemon XY - Emmas Theme.mid\n",
      "Parsing ./data/Pokemon XY - FIN.mid\n",
      "Parsing ./data/Pokemon XY - Route 4567.mid\n",
      "Parsing ./data/Pokemon XY - The Sycamore Pokemon Lab.mid\n",
      "Parsing ./data/Pokemon XY - Together with Shauna.mid\n",
      "Parsing ./data/Pokemon Yellow - Lavender Town (Fixed).mid\n",
      "Saving Pokemon Yellow - Lavender Town (Fixed)0.npy\n",
      " ✔️ : Pokemon Yellow - Lavender Town (Fixed)0.npy was saved\n",
      "Saving Pokemon Yellow - Lavender Town (Fixed)1.npy\n",
      " ✔️ : Pokemon Yellow - Lavender Town (Fixed)1.npy was saved\n",
      "Parsing ./data/Pokemon.mid\n",
      "Parsing ./data/pokemon2.mid\n",
      "Parsing ./data/pokemon3.mid\n",
      "Parsing ./data/pokemon5.mid\n",
      "Parsing ./data/Zelda - Ocarina of Time - Song of Time.mid\n",
      "Saving Zelda - Ocarina of Time - Song of Time0.npy\n",
      " ✔️ : Zelda - Ocarina of Time - Song of Time0.npy was saved\n",
      "Parsing ./data/Pokemon Black 2White 2 - Ns Theme.mid\n",
      "Parsing ./data/Pokemon BlackWhite - Lacunosa Town.mid\n",
      "Parsing ./data/Pokemon BlackWhite - Route 6.mid\n",
      "Parsing ./data/Pokemon Colosseum - Semifinal Battle.mid\n",
      "Saving pokemon20.npy\n",
      " ✔️ : pokemon20.npy was saved\n",
      "Saving pokemon21.npy\n",
      " ✔️ : pokemon21.npy was saved\n",
      "Saving pokemon22.npy\n",
      " ✔️ : pokemon22.npy was saved\n",
      "Saving pokemon23.npy\n",
      " ✔️ : pokemon23.npy was saved\n",
      "Saving pokemon24.npy\n",
      " ✔️ : pokemon24.npy was saved\n",
      "Saving pokemon25.npy\n",
      " ✔️ : pokemon25.npy was saved\n",
      "Saving pokemon26.npy\n",
      " ✔️ : pokemon26.npy was saved\n",
      "Saving pokemon27.npy\n",
      " ✔️ : pokemon27.npy was saved\n",
      "Parsing ./data/Pokemon DiamondPearlPlatinum - Mystery Gift.mid\n",
      "Saving pokemon50.npy\n",
      " ✔️ : pokemon50.npy was saved\n",
      "Saving pokemon51.npy\n",
      " ✔️ : pokemon51.npy was saved\n",
      "Saving pokemon52.npy\n",
      " ✔️ : pokemon52.npy was saved\n",
      "Saving pokemon53.npy\n",
      " ✔️ : pokemon53.npy was saved\n",
      "Saving pokemon54.npy\n",
      " ✔️ : pokemon54.npy was saved\n",
      "Saving pokemon55.npy\n",
      " ✔️ : pokemon55.npy was saved\n",
      "Saving pokemon56.npy\n",
      " ✔️ : pokemon56.npy was saved\n",
      "Saving pokemon57.npy\n",
      " ✔️ : pokemon57.npy was saved\n",
      "Saving pokemon58.npy\n",
      " ✔️ : pokemon58.npy was saved\n",
      "Saving pokemon59.npy\n",
      " ✔️ : pokemon59.npy was saved\n",
      "Saving pokemon510.npy\n",
      " ✔️ : pokemon510.npy was saved\n",
      "Saving pokemon511.npy\n",
      " ✔️ : pokemon511.npy was saved\n",
      "Saving pokemon512.npy\n",
      " ✔️ : pokemon512.npy was saved\n",
      "Parsing ./data/Pokemon DiamondPearlPlatinum - Sandgem Town Day.mid\n",
      "Parsing ./data/Pokemon GoldSilverCrystal - Bicycle.mid\n"
     ]
    },
    {
     "name": "stderr",
     "output_type": "stream",
     "text": [
      "meter: WARNING: Found a messed up beam pair <music21.beam.Beams <music21.beam.Beam 1/start>/<music21.beam.Beam 2/partial/right>>, <music21.beam.Beams <music21.beam.Beam 1/stop>/<music21.beam.Beam 2/stop>>, at index 2 of \n",
      "[<music21.beam.Beams <music21.beam.Beam 1/start>>, <music21.beam.Beams <music21.beam.Beam 1/stop>>, <music21.beam.Beams <music21.beam.Beam 1/start>/<music21.beam.Beam 2/partial/right>>, <music21.beam.Beams <music21.beam.Beam 1/stop>/<music21.beam.Beam 2/stop>>]\n",
      "meter: WARNING: Found a messed up beam pair <music21.beam.Beams <music21.beam.Beam 1/start>/<music21.beam.Beam 2/partial/right>>, <music21.beam.Beams <music21.beam.Beam 1/stop>/<music21.beam.Beam 2/stop>>, at index 2 of \n",
      "[<music21.beam.Beams <music21.beam.Beam 1/start>>, <music21.beam.Beams <music21.beam.Beam 1/stop>>, <music21.beam.Beams <music21.beam.Beam 1/start>/<music21.beam.Beam 2/partial/right>>, <music21.beam.Beams <music21.beam.Beam 1/stop>/<music21.beam.Beam 2/stop>>]\n"
     ]
    },
    {
     "name": "stdout",
     "output_type": "stream",
     "text": [
      "Parsing ./data/Pokemon GoldSilverCrystal - Pokemon March.mid\n",
      "Parsing ./data/Pokemon GoldSilverCrystal - Title.mid\n",
      "Saving Pokemon Colosseum - Semifinal Battle0.npy\n",
      " ✔️ : Pokemon Colosseum - Semifinal Battle0.npy was saved\n",
      "Saving Pokemon Colosseum - Semifinal Battle1.npy\n",
      " ✔️ : Pokemon Colosseum - Semifinal Battle1.npy was saved\n",
      "Saving Pokemon Colosseum - Semifinal Battle2.npy\n",
      " ✔️ : Pokemon Colosseum - Semifinal Battle2.npy was saved\n",
      "Saving Pokemon Colosseum - Semifinal Battle3.npy\n",
      " ✔️ : Pokemon Colosseum - Semifinal Battle3.npy was saved\n",
      "Parsing ./data/Pokemon HeartGoldSoulSilver - Pokemon Center.mid\n",
      "Parsing ./data/Pokemon Mystery Dungeon BlueRed Rescue Team - Questionnaire.mid\n",
      "Parsing ./data/Pokemon Mystery Dungeon Explorers of TimeDarknessSky - Goodnight.mid\n",
      "Parsing ./data/Pokemon Mystery Dungeon Explorers of TimeDarknessSky - The Gatekeepers.mid\n",
      "Parsing ./data/Pokemon Pinball - Red Field Theme.mid\n",
      "Parsing ./data/Pokemon RedBlueYellow - Gym.mid\n",
      "Parsing ./data/Pokemon RedBlueYellow - Route 1.mid\n",
      "Parsing ./data/Pokemon RubySapphireEmerald - Desert.mid\n",
      "Parsing ./data/Pokemon RubySapphireEmerald - Pokemart.mid\n",
      "Parsing ./data/Pokemon X and Y - Calem and Serena.mid\n",
      "Parsing ./data/Pokemon RedBlueYellow - Hall of Fame.mid\n",
      "Parsing ./data/Pokemon RedBlueYellow - Indigo Plateau.mid\n",
      "Parsing ./data/Pokemon RedBlueYellow - Intro 1.mid\n",
      "Parsing ./data/Pokemon RedBlueYellow - Intro 2.mid\n",
      "Parsing ./data/Pokemon RedBlueYellow - Jigglypuffs Song.mid\n",
      "Parsing ./data/Pokemon RedBlueYellow - Lavender Town.mid\n",
      "Parsing ./data/Pokemon RedBlueYellow - Oaks Lab.mid\n",
      "Parsing ./data/Pokemon RedBlueYellow - Mt Moon.mid\n",
      "Parsing ./data/Pokemon RedBlueYellow - Opening Yellow.mid\n",
      "Parsing ./data/Pokemon RedBlueYellow - Pallet Town.mid\n",
      "Parsing ./data/Pokemon RedBlueYellow - Pokemon Center.mid\n",
      "Parsing ./data/Pokemon RedBlueYellow - Pokemon Tower.mid\n",
      "Parsing ./data/Pokemon RedBlueYellow - Printer Error.mid\n",
      "Saving Pokemon RedBlueYellow - Printer Error0.npy\n",
      " ✔️ : Pokemon RedBlueYellow - Printer Error0.npy was saved\n",
      "Parsing ./data/Pokemon BlackWhite - Mistralton City.mid\n",
      "Parsing ./data/Pokemon BlackWhite - Musical Hall.mid\n",
      "Parsing ./data/Pokemon BlackWhite - N the Pokemon Child.mid\n",
      "Parsing ./data/Pokemon BlackWhite - Nacrene City.mid\n",
      "Parsing ./data/Pokemon BlackWhite - Ns Castle.mid\n",
      "Parsing ./data/Pokemon BlackWhite - Ns Farewell.mid\n",
      "Parsing ./data/Pokemon BlackWhite - Nuvema Town.mid\n",
      "Parsing ./data/Pokemon BlackWhite - Opelucid City White.mid\n",
      "Parsing ./data/Pokemon BlackWhite - Pokemon League.mid\n"
     ]
    },
    {
     "name": "stderr",
     "output_type": "stream",
     "text": [
      "meter: WARNING: Found a messed up beam pair <music21.beam.Beams <music21.beam.Beam 1/start>/<music21.beam.Beam 2/partial/right>>, <music21.beam.Beams <music21.beam.Beam 1/stop>/<music21.beam.Beam 2/stop>>, at index 1 of \n",
      "[None, <music21.beam.Beams <music21.beam.Beam 1/start>/<music21.beam.Beam 2/partial/right>>, <music21.beam.Beams <music21.beam.Beam 1/stop>/<music21.beam.Beam 2/stop>>]\n",
      "meter: WARNING: Found a messed up beam pair <music21.beam.Beams <music21.beam.Beam 1/start>/<music21.beam.Beam 2/partial/right>>, <music21.beam.Beams <music21.beam.Beam 1/stop>/<music21.beam.Beam 2/stop>>, at index 1 of \n",
      "[None, <music21.beam.Beams <music21.beam.Beam 1/start>/<music21.beam.Beam 2/partial/right>>, <music21.beam.Beams <music21.beam.Beam 1/stop>/<music21.beam.Beam 2/stop>>]\n",
      "meter: WARNING: Found a messed up beam pair <music21.beam.Beams <music21.beam.Beam 1/start>/<music21.beam.Beam 2/partial/right>>, <music21.beam.Beams <music21.beam.Beam 1/stop>/<music21.beam.Beam 2/stop>>, at index 1 of \n",
      "[None, <music21.beam.Beams <music21.beam.Beam 1/start>/<music21.beam.Beam 2/partial/right>>, <music21.beam.Beams <music21.beam.Beam 1/stop>/<music21.beam.Beam 2/stop>>]\n",
      "meter: WARNING: Found a messed up beam pair <music21.beam.Beams <music21.beam.Beam 1/start>/<music21.beam.Beam 2/partial/right>>, <music21.beam.Beams <music21.beam.Beam 1/stop>/<music21.beam.Beam 2/stop>>, at index 1 of \n",
      "[None, <music21.beam.Beams <music21.beam.Beam 1/start>/<music21.beam.Beam 2/partial/right>>, <music21.beam.Beams <music21.beam.Beam 1/stop>/<music21.beam.Beam 2/stop>>]\n",
      "meter: WARNING: Found a messed up beam pair <music21.beam.Beams <music21.beam.Beam 1/start>/<music21.beam.Beam 2/partial/right>>, <music21.beam.Beams <music21.beam.Beam 1/stop>/<music21.beam.Beam 2/stop>>, at index 1 of \n",
      "[None, <music21.beam.Beams <music21.beam.Beam 1/start>/<music21.beam.Beam 2/partial/right>>, <music21.beam.Beams <music21.beam.Beam 1/stop>/<music21.beam.Beam 2/stop>>]\n",
      "meter: WARNING: Found a messed up beam pair <music21.beam.Beams <music21.beam.Beam 1/start>/<music21.beam.Beam 2/partial/right>>, <music21.beam.Beams <music21.beam.Beam 1/stop>/<music21.beam.Beam 2/stop>>, at index 1 of \n",
      "[None, <music21.beam.Beams <music21.beam.Beam 1/start>/<music21.beam.Beam 2/partial/right>>, <music21.beam.Beams <music21.beam.Beam 1/stop>/<music21.beam.Beam 2/stop>>]\n",
      "meter: WARNING: Found a messed up beam pair <music21.beam.Beams <music21.beam.Beam 1/start>/<music21.beam.Beam 2/partial/right>>, <music21.beam.Beams <music21.beam.Beam 1/stop>/<music21.beam.Beam 2/stop>>, at index 1 of \n",
      "[None, <music21.beam.Beams <music21.beam.Beam 1/start>/<music21.beam.Beam 2/partial/right>>, <music21.beam.Beams <music21.beam.Beam 1/stop>/<music21.beam.Beam 2/stop>>]\n",
      "meter: WARNING: Found a messed up beam pair <music21.beam.Beams <music21.beam.Beam 1/start>/<music21.beam.Beam 2/partial/right>>, <music21.beam.Beams <music21.beam.Beam 1/stop>/<music21.beam.Beam 2/stop>>, at index 1 of \n",
      "[None, <music21.beam.Beams <music21.beam.Beam 1/start>/<music21.beam.Beam 2/partial/right>>, <music21.beam.Beams <music21.beam.Beam 1/stop>/<music21.beam.Beam 2/stop>>]\n"
     ]
    },
    {
     "name": "stdout",
     "output_type": "stream",
     "text": [
      "Parsing ./data/Pokemon BlackWhite - Relic Song.mid\n"
     ]
    },
    {
     "name": "stderr",
     "output_type": "stream",
     "text": [
      "meter: WARNING: Found a messed up beam pair <music21.beam.Beams <music21.beam.Beam 1/start>/<music21.beam.Beam 2/partial/right>>, <music21.beam.Beams <music21.beam.Beam 1/stop>/<music21.beam.Beam 2/stop>>, at index 2 of \n",
      "[None, None, <music21.beam.Beams <music21.beam.Beam 1/start>/<music21.beam.Beam 2/partial/right>>, <music21.beam.Beams <music21.beam.Beam 1/stop>/<music21.beam.Beam 2/stop>>]\n",
      "meter: WARNING: Found a messed up beam pair <music21.beam.Beams <music21.beam.Beam 1/start>/<music21.beam.Beam 2/partial/right>>, <music21.beam.Beams <music21.beam.Beam 1/stop>/<music21.beam.Beam 2/stop>>, at index 3 of \n",
      "[None, None, None, <music21.beam.Beams <music21.beam.Beam 1/start>/<music21.beam.Beam 2/partial/right>>, <music21.beam.Beams <music21.beam.Beam 1/stop>/<music21.beam.Beam 2/stop>>]\n"
     ]
    },
    {
     "name": "stdout",
     "output_type": "stream",
     "text": [
      "Parsing ./data/Pokemon BlackWhite - Route 10.mid\n",
      "Parsing ./data/Pokemon BlackWhite - Route 3.mid\n",
      "Saving Pokemon0.npy\n",
      " ✔️ : Pokemon0.npy was saved\n",
      "Saving Pokemon1.npy\n",
      " ✔️ : Pokemon1.npy was saved\n",
      "Saving Pokemon2.npy\n",
      " ✔️ : Pokemon2.npy was saved\n",
      "Saving Pokemon3.npy\n",
      " ✔️ : Pokemon3.npy was saved\n",
      "Saving Pokemon4.npy\n",
      " ✔️ : Pokemon4.npy was saved\n",
      "Saving Pokemon5.npy\n",
      " ✔️ : Pokemon5.npy was saved\n",
      "Saving Pokemon6.npy\n",
      " ✔️ : Pokemon6.npy was saved\n",
      "Saving Pokemon7.npy\n",
      " ✔️ : Pokemon7.npy was saved\n",
      "Saving Pokemon8.npy\n",
      " ✔️ : Pokemon8.npy was saved\n",
      "Saving Pokemon9.npy\n",
      " ✔️ : Pokemon9.npy was saved\n",
      "Saving Pokemon10.npy\n",
      " ✔️ : Pokemon10.npy was saved\n",
      "Saving Pokemon11.npy\n",
      " ✔️ : Pokemon11.npy was saved\n",
      "Saving Pokemon12.npy\n",
      " ✔️ : Pokemon12.npy was saved\n",
      "Saving Pokemon13.npy\n",
      " ✔️ : Pokemon13.npy was saved\n",
      "Saving Pokemon14.npy\n",
      " ✔️ : Pokemon14.npy was saved\n",
      "Saving Pokemon15.npy\n",
      " ✔️ : Pokemon15.npy was saved\n",
      "Parsing ./data/Pokemon BlackWhite - Route 4.mid\n",
      "Parsing ./data/Pokemon GoldSilverCrystal - Bug Catching Contest.mid\n",
      "Parsing ./data/Pokemon GoldSilverCrystal - Burned Tower.mid\n",
      "Parsing ./data/Pokemon GoldSilverCrystal - Champion Battle.mid\n",
      "Parsing ./data/Pokemon GoldSilverCrystal - Cherrygrove CityMahogany Town.mid\n",
      "Parsing ./data/Pokemon GoldSilverCrystal - Dance Theatre.mid\n",
      "Parsing ./data/Pokemon GoldSilverCrystal - Dark Cave.mid\n",
      "Parsing ./data/Pokemon GoldSilverCrystal - Dragons Den.mid\n",
      "Parsing ./data/Pokemon GoldSilverCrystal - Ecruteak CityCianwood City.mid\n",
      "Parsing ./data/Pokemon GoldSilverCrystal - Girl Trainer Confrontation.mid\n",
      "Parsing ./data/Pokemon GoldSilverCrystal - Goldenrod City.mid\n",
      "Parsing ./data/Pokemon GoldSilverCrystal - Gym Leader Defeated.mid\n",
      "Parsing ./data/Pokemon GoldSilverCrystal - Gym.mid\n",
      "Parsing ./data/Pokemon GoldSilverCrystal - Indigo Plateau.mid\n"
     ]
    },
    {
     "name": "stderr",
     "output_type": "stream",
     "text": [
      "meter: WARNING: Found a messed up beam pair <music21.beam.Beams <music21.beam.Beam 1/start>/<music21.beam.Beam 2/partial/right>>, <music21.beam.Beams <music21.beam.Beam 1/stop>/<music21.beam.Beam 2/stop>>, at index 2 of \n",
      "[None, None, <music21.beam.Beams <music21.beam.Beam 1/start>/<music21.beam.Beam 2/partial/right>>, <music21.beam.Beams <music21.beam.Beam 1/stop>/<music21.beam.Beam 2/stop>>]\n"
     ]
    },
    {
     "name": "stdout",
     "output_type": "stream",
     "text": [
      "Parsing ./data/Pokemon GoldSilverCrystal - Johto Gym Leader Battle.mid\n",
      "Parsing ./data/Pokemon GoldSilverCrystal - Johto Wild Pokemon Battle.mid\n",
      "Parsing ./data/Pokemon GoldSilverCrystal - Kanto Gym Leader Battle.mid\n",
      "Parsing ./data/Pokemon GoldSilverCrystal - Lavender Town.mid\n",
      "Parsing ./data/Pokemon GoldSilverCrystal - Menu.mid\n",
      "Parsing ./data/Pokemon GoldSilverCrystal - National Park.mid\n",
      "Parsing ./data/Pokemon GoldSilverCrystal - New Bark Town.mid\n",
      "Parsing ./data/Pokemon GoldSilverCrystal - Olivine Lighthouse.mid\n",
      "Parsing ./data/Pokemon GoldSilverCrystal - Pokemon Lullaby.mid\n",
      "Parsing ./data/Pokemon RubySapphireEmerald - Dewford Town.mid\n",
      "Parsing ./data/Pokemon RubySapphireEmerald - Elite 4 Battle.mid\n",
      "Parsing ./data/Pokemon RubySapphireEmerald - Ending Theme.mid\n",
      "Parsing ./data/Pokemon RubySapphireEmerald - Evergrande City.mid\n",
      "Parsing ./data/Pokemon RubySapphireEmerald - Fallarbor Town.mid\n",
      "Parsing ./data/Pokemon RubySapphireEmerald - Fortree City.mid\n",
      "Parsing ./data/Pokemon RubySapphireEmerald - Heavy Rain.mid\n",
      "Parsing ./data/Pokemon RubySapphireEmerald - Lilycove Museum.mid\n",
      "Parsing ./data/Pokemon RubySapphireEmerald - Lilycove City.mid\n",
      "Parsing ./data/Pokemon RubySapphireEmerald - Littleroot Town.mid\n",
      "Parsing ./data/Pokemon RubySapphireEmerald - Mt Pyre Peak.mid\n",
      "Parsing ./data/Pokemon RubySapphireEmerald - Mt Pyre.mid\n",
      "Parsing ./data/Pokemon RubySapphireEmerald - Oceanic Museum.mid\n",
      "Parsing ./data/Pokemon RubySapphireEmerald - Oldale Town.mid\n",
      "Parsing ./data/Pokemon RubySapphireEmerald - Petalburg City.mid\n"
     ]
    },
    {
     "name": "stderr",
     "output_type": "stream",
     "text": [
      "meter: WARNING: Found a messed up beam pair <music21.beam.Beams <music21.beam.Beam 1/start>/<music21.beam.Beam 2/partial/right>>, <music21.beam.Beams <music21.beam.Beam 1/stop>/<music21.beam.Beam 2/stop>>, at index 4 of \n",
      "[None, <music21.beam.Beams <music21.beam.Beam 1/start>>, <music21.beam.Beams <music21.beam.Beam 1/stop>/<music21.beam.Beam 2/partial/left>>, None, <music21.beam.Beams <music21.beam.Beam 1/start>/<music21.beam.Beam 2/partial/right>>, <music21.beam.Beams <music21.beam.Beam 1/stop>/<music21.beam.Beam 2/stop>>]\n",
      "meter: WARNING: Found a messed up beam pair <music21.beam.Beams <music21.beam.Beam 1/start>/<music21.beam.Beam 2/partial/right>>, <music21.beam.Beams <music21.beam.Beam 1/stop>/<music21.beam.Beam 2/stop>>, at index 4 of \n",
      "[None, <music21.beam.Beams <music21.beam.Beam 1/start>>, <music21.beam.Beams <music21.beam.Beam 1/stop>/<music21.beam.Beam 2/partial/left>>, None, <music21.beam.Beams <music21.beam.Beam 1/start>/<music21.beam.Beam 2/partial/right>>, <music21.beam.Beams <music21.beam.Beam 1/stop>/<music21.beam.Beam 2/stop>>]\n"
     ]
    },
    {
     "name": "stdout",
     "output_type": "stream",
     "text": [
      "Parsing ./data/Pokemon GoldSilverCrystal - Professor Elms Lab.mid\n",
      "Parsing ./data/Pokemon GoldSilverCrystal - Professor Oaks Theme.mid\n",
      "Parsing ./data/Pokemon GoldSilverCrystal - Route 27.mid\n",
      "Parsing ./data/Pokemon GoldSilverCrystal - Rival Battle.mid\n",
      "Parsing ./data/Pokemon GoldSilverCrystal - Route 29.mid\n",
      "Parsing ./data/Pokemon GoldSilverCrystal - Route 32.mid\n",
      "Parsing ./data/Pokemon GoldSilverCrystal - Route 38.mid\n",
      "Parsing ./data/Pokemon GoldSilverCrystal - Route 42.mid\n",
      "Parsing ./data/Pokemon GoldSilverCrystal - Saffron City.mid\n",
      "Parsing ./data/Pokemon GoldSilverCrystal - Show Me Around.mid\n",
      "Parsing ./data/Pokemon GoldSilverCrystal - Sprout Tower.mid\n",
      "Parsing ./data/Pokemon GoldSilverCrystal - Staff Credits.mid\n",
      "Parsing ./data/Pokemon GoldSilverCrystal - Surf.mid\n",
      "Parsing ./data/Pokemon GoldSilverCrystal - Team RocketRadio Tower Takeover.mid\n",
      "Parsing ./data/Pokemon GoldSilverCrystal - Tin Tower.mid\n"
     ]
    },
    {
     "name": "stderr",
     "output_type": "stream",
     "text": [
      "meter: WARNING: Found a messed up beam pair <music21.beam.Beams <music21.beam.Beam 1/start>/<music21.beam.Beam 2/partial/right>>, <music21.beam.Beams <music21.beam.Beam 1/stop>/<music21.beam.Beam 2/stop>>, at index 5 of \n",
      "[<music21.beam.Beams <music21.beam.Beam 1/start>/<music21.beam.Beam 2/start>>, <music21.beam.Beams <music21.beam.Beam 1/stop>/<music21.beam.Beam 2/stop>>, <music21.beam.Beams <music21.beam.Beam 1/start>/<music21.beam.Beam 2/start>>, <music21.beam.Beams <music21.beam.Beam 1/stop>/<music21.beam.Beam 2/stop>>, None, <music21.beam.Beams <music21.beam.Beam 1/start>/<music21.beam.Beam 2/partial/right>>, <music21.beam.Beams <music21.beam.Beam 1/stop>/<music21.beam.Beam 2/stop>>]\n",
      "meter: WARNING: Found a messed up beam pair <music21.beam.Beams <music21.beam.Beam 1/start>/<music21.beam.Beam 2/partial/right>>, <music21.beam.Beams <music21.beam.Beam 1/stop>/<music21.beam.Beam 2/stop>>, at index 5 of \n",
      "[<music21.beam.Beams <music21.beam.Beam 1/start>/<music21.beam.Beam 2/start>>, <music21.beam.Beams <music21.beam.Beam 1/stop>/<music21.beam.Beam 2/stop>>, <music21.beam.Beams <music21.beam.Beam 1/start>/<music21.beam.Beam 2/start>>, <music21.beam.Beams <music21.beam.Beam 1/stop>/<music21.beam.Beam 2/stop>>, None, <music21.beam.Beams <music21.beam.Beam 1/start>/<music21.beam.Beam 2/partial/right>>, <music21.beam.Beams <music21.beam.Beam 1/stop>/<music21.beam.Beam 2/stop>>]\n",
      "meter: WARNING: Found a messed up beam pair <music21.beam.Beams <music21.beam.Beam 1/start>/<music21.beam.Beam 2/partial/right>>, <music21.beam.Beams <music21.beam.Beam 1/stop>/<music21.beam.Beam 2/stop>>, at index 3 of \n",
      "[None, None, None, <music21.beam.Beams <music21.beam.Beam 1/start>/<music21.beam.Beam 2/partial/right>>, <music21.beam.Beams <music21.beam.Beam 1/stop>/<music21.beam.Beam 2/stop>>]\n"
     ]
    },
    {
     "name": "stdout",
     "output_type": "stream",
     "text": [
      "Parsing ./data/Pokemon Colosseum - The Under.mid\n"
     ]
    },
    {
     "name": "stderr",
     "output_type": "stream",
     "text": [
      "meter: WARNING: Found a messed up beam pair <music21.beam.Beams <music21.beam.Beam 1/start>/<music21.beam.Beam 2/partial/right>>, <music21.beam.Beams <music21.beam.Beam 1/stop>/<music21.beam.Beam 2/stop>>, at index 3 of \n",
      "[None, None, None, <music21.beam.Beams <music21.beam.Beam 1/start>/<music21.beam.Beam 2/partial/right>>, <music21.beam.Beams <music21.beam.Beam 1/stop>/<music21.beam.Beam 2/stop>>]\n",
      "meter: WARNING: Found a messed up beam pair <music21.beam.Beams <music21.beam.Beam 1/start>/<music21.beam.Beam 2/partial/right>>, <music21.beam.Beams <music21.beam.Beam 1/stop>/<music21.beam.Beam 2/stop>>, at index 5 of \n",
      "[<music21.beam.Beams <music21.beam.Beam 1/start>>, <music21.beam.Beams <music21.beam.Beam 1/stop>>, <music21.beam.Beams <music21.beam.Beam 1/start>>, <music21.beam.Beams <music21.beam.Beam 1/stop>/<music21.beam.Beam 2/partial/left>>, None, <music21.beam.Beams <music21.beam.Beam 1/start>/<music21.beam.Beam 2/partial/right>>, <music21.beam.Beams <music21.beam.Beam 1/stop>/<music21.beam.Beam 2/stop>>]\n",
      "meter: WARNING: Found a messed up beam pair <music21.beam.Beams <music21.beam.Beam 1/start>/<music21.beam.Beam 2/partial/right>>, <music21.beam.Beams <music21.beam.Beam 1/stop>/<music21.beam.Beam 2/stop>>, at index 4 of \n",
      "[<music21.beam.Beams <music21.beam.Beam 1/start>>, <music21.beam.Beams <music21.beam.Beam 1/stop>>, None, None, <music21.beam.Beams <music21.beam.Beam 1/start>/<music21.beam.Beam 2/partial/right>>, <music21.beam.Beams <music21.beam.Beam 1/stop>/<music21.beam.Beam 2/stop>>]\n",
      "meter: WARNING: Found a messed up beam pair <music21.beam.Beams <music21.beam.Beam 1/start>/<music21.beam.Beam 2/partial/right>>, <music21.beam.Beams <music21.beam.Beam 1/stop>/<music21.beam.Beam 2/stop>>, at index 4 of \n",
      "[None, <music21.beam.Beams <music21.beam.Beam 1/start>>, <music21.beam.Beams <music21.beam.Beam 1/stop>>, None, <music21.beam.Beams <music21.beam.Beam 1/start>/<music21.beam.Beam 2/partial/right>>, <music21.beam.Beams <music21.beam.Beam 1/stop>/<music21.beam.Beam 2/stop>>]\n",
      "meter: WARNING: Found a messed up beam pair <music21.beam.Beams <music21.beam.Beam 1/start>/<music21.beam.Beam 2/partial/right>>, <music21.beam.Beams <music21.beam.Beam 1/stop>/<music21.beam.Beam 2/stop>>, at index 4 of \n",
      "[<music21.beam.Beams <music21.beam.Beam 1/start>>, <music21.beam.Beams <music21.beam.Beam 1/stop>>, None, None, <music21.beam.Beams <music21.beam.Beam 1/start>/<music21.beam.Beam 2/partial/right>>, <music21.beam.Beams <music21.beam.Beam 1/stop>/<music21.beam.Beam 2/stop>>]\n"
     ]
    },
    {
     "name": "stdout",
     "output_type": "stream",
     "text": [
      "Parsing ./data/Pokemon DiamondPearlPlatinum - Approaching Champion Cynthia.mid\n",
      "Parsing ./data/Pokemon DiamondPearlPlatinum - Azelf Mesprit and Uxie Battle.mid\n",
      "Parsing ./data/Pokemon DiamondPearlPlatinum - Battle Champion.mid\n",
      "Parsing ./data/Pokemon DiamondPearlPlatinum - Battle Rival.mid\n",
      "Parsing ./data/Pokemon DiamondPearlPlatinum - Battle Team Galactic Admin.mid\n",
      "Parsing ./data/Pokemon DiamondPearlPlatinum - Battle Trainer.mid\n",
      "Parsing ./data/Pokemon DiamondPearlPlatinum - Battle Wild Pokemon.mid\n",
      "Parsing ./data/Pokemon DiamondPearlPlatinum - Canalave City.mid\n",
      "Parsing ./data/Pokemon DiamondPearlPlatinum - Cyrus  Team Galactic Boss Battle.mid\n",
      "Parsing ./data/Pokemon DiamondPearlPlatinum - DialgaPalkia Appear.mid\n",
      "Parsing ./data/Pokemon DiamondPearlPlatinum - Elite Four Battle.mid\n",
      "Parsing ./data/Pokemon DiamondPearlPlatinum - Eterna City.mid\n",
      "Parsing ./data/Pokemon DiamondPearlPlatinum - Floaroma Town.mid\n",
      "Parsing ./data/Pokemon DiamondPearlPlatinum - Game Corner.mid\n",
      "Parsing ./data/Pokemon DiamondPearlPlatinum - Hearthome City.mid\n",
      "Parsing ./data/Pokemon DiamondPearlPlatinum - Jubilife City Day.mid\n",
      "Parsing ./data/Pokemon DiamondPearlPlatinum - Lake Caverns.mid\n",
      "Parsing ./data/Pokemon DiamondPearlPlatinum - Mt Coronet.mid\n",
      "Parsing ./data/Pokemon Ranger - Ranger Base.mid\n",
      "Parsing ./data/Pokemon RedBlueYellow - Celadon City.mid\n",
      "Parsing ./data/Pokemon RedBlueYellow - Cerulean City.mid\n"
     ]
    },
    {
     "name": "stderr",
     "output_type": "stream",
     "text": [
      "meter: WARNING: Found a messed up beam pair <music21.beam.Beams <music21.beam.Beam 1/start>/<music21.beam.Beam 2/partial/right>>, <music21.beam.Beams <music21.beam.Beam 1/stop>/<music21.beam.Beam 2/stop>>, at index 1 of \n",
      "[None, <music21.beam.Beams <music21.beam.Beam 1/start>/<music21.beam.Beam 2/partial/right>>, <music21.beam.Beams <music21.beam.Beam 1/stop>/<music21.beam.Beam 2/stop>>]\n"
     ]
    },
    {
     "name": "stdout",
     "output_type": "stream",
     "text": [
      "Parsing ./data/Pokemon RedBlueYellow - Champion Battle.mid\n",
      "Parsing ./data/Pokemon RedBlueYellow - Cinnabar Island.mid\n",
      "Parsing ./data/Pokemon RedBlueYellow - Cycling.mid\n",
      "Parsing ./data/Pokemon RedBlueYellow - Elite Four.mid\n",
      "Parsing ./data/Pokemon RedBlueYellow - Ending Theme.mid\n",
      "Parsing ./data/Pokemon RedBlueYellow - Evolution.mid\n",
      "Parsing ./data/Pokemon RedBlueYellow - Game Corner Theme.mid\n",
      "Parsing ./data/Pokemon RedBlueYellow - Gym Leader Battle.mid\n",
      "Parsing ./data/Pokemon RubySapphireEmerald - Pokemon Contest.mid\n"
     ]
    },
    {
     "name": "stderr",
     "output_type": "stream",
     "text": [
      "meter: WARNING: Found a messed up beam pair <music21.beam.Beams <music21.beam.Beam 1/start>/<music21.beam.Beam 2/partial/right>>, <music21.beam.Beams <music21.beam.Beam 1/stop>/<music21.beam.Beam 2/stop>>, at index 4 of \n",
      "[None, <music21.beam.Beams <music21.beam.Beam 1/start>/<music21.beam.Beam 2/start>>, <music21.beam.Beams <music21.beam.Beam 1/stop>/<music21.beam.Beam 2/stop>>, None, <music21.beam.Beams <music21.beam.Beam 1/start>/<music21.beam.Beam 2/partial/right>>, <music21.beam.Beams <music21.beam.Beam 1/stop>/<music21.beam.Beam 2/stop>>]\n",
      "meter: WARNING: Found a messed up beam pair <music21.beam.Beams <music21.beam.Beam 1/start>/<music21.beam.Beam 2/partial/right>>, <music21.beam.Beams <music21.beam.Beam 1/stop>/<music21.beam.Beam 2/stop>>, at index 4 of \n",
      "[None, <music21.beam.Beams <music21.beam.Beam 1/start>/<music21.beam.Beam 2/start>>, <music21.beam.Beams <music21.beam.Beam 1/stop>/<music21.beam.Beam 2/stop>>, None, <music21.beam.Beams <music21.beam.Beam 1/start>/<music21.beam.Beam 2/partial/right>>, <music21.beam.Beams <music21.beam.Beam 1/stop>/<music21.beam.Beam 2/stop>>]\n"
     ]
    },
    {
     "name": "stdout",
     "output_type": "stream",
     "text": [
      "Parsing ./data/Pokemon RubySapphireEmerald - Recovery.mid\n",
      "Parsing ./data/Pokemon RubySapphireEmerald - Route 101.mid\n",
      "Parsing ./data/Pokemon RubySapphireEmerald - Rival Battle.mid\n",
      "Parsing ./data/Pokemon RubySapphireEmerald - Route 104.mid\n",
      "Parsing ./data/Pokemon RubySapphireEmerald - Route 110.mid\n",
      "Parsing ./data/Pokemon RubySapphireEmerald - Route 111 Desert.mid\n",
      "Parsing ./data/Pokemon RubySapphireEmerald - Route 120.mid\n",
      "Parsing ./data/Pokemon RubySapphireEmerald - Slateport City.mid\n",
      "Parsing ./data/Pokemon RubySapphireEmerald - Sootopolis City.mid\n",
      "Parsing ./data/Pokemon RubySapphireEmerald - Surfing.mid\n"
     ]
    },
    {
     "name": "stderr",
     "output_type": "stream",
     "text": [
      "meter: WARNING: Found a messed up beam pair <music21.beam.Beams <music21.beam.Beam 1/start>/<music21.beam.Beam 2/partial/right>>, <music21.beam.Beams <music21.beam.Beam 1/stop>/<music21.beam.Beam 2/stop>>, at index 3 of \n",
      "[<music21.beam.Beams <music21.beam.Beam 1/start>>, <music21.beam.Beams <music21.beam.Beam 1/stop>>, None, <music21.beam.Beams <music21.beam.Beam 1/start>/<music21.beam.Beam 2/partial/right>>, <music21.beam.Beams <music21.beam.Beam 1/stop>/<music21.beam.Beam 2/stop>>]\n"
     ]
    },
    {
     "name": "stdout",
     "output_type": "stream",
     "text": [
      "Parsing ./data/Pokemon RubySapphireEmerald - Trainers School.mid\n",
      "Parsing ./data/Pokemon RubySapphireEmerald - Trick House.mid\n",
      "Parsing ./data/Pokemon RubySapphireEmerald - Verdanturf Town.mid\n"
     ]
    },
    {
     "name": "stderr",
     "output_type": "stream",
     "text": [
      "meter: WARNING: Found a messed up beam pair <music21.beam.Beams <music21.beam.Beam 1/start>/<music21.beam.Beam 2/partial/right>>, <music21.beam.Beams <music21.beam.Beam 1/stop>/<music21.beam.Beam 2/stop>>, at index 1 of \n",
      "[None, <music21.beam.Beams <music21.beam.Beam 1/start>/<music21.beam.Beam 2/partial/right>>, <music21.beam.Beams <music21.beam.Beam 1/stop>/<music21.beam.Beam 2/stop>>]\n",
      "meter: WARNING: Found a messed up beam pair <music21.beam.Beams <music21.beam.Beam 1/start>/<music21.beam.Beam 2/partial/right>>, <music21.beam.Beams <music21.beam.Beam 1/stop>/<music21.beam.Beam 2/stop>>, at index 1 of \n",
      "[None, <music21.beam.Beams <music21.beam.Beam 1/start>/<music21.beam.Beam 2/partial/right>>, <music21.beam.Beams <music21.beam.Beam 1/stop>/<music21.beam.Beam 2/stop>>]\n",
      "meter: WARNING: Found a messed up beam pair <music21.beam.Beams <music21.beam.Beam 1/start>/<music21.beam.Beam 2/partial/right>>, <music21.beam.Beams <music21.beam.Beam 1/stop>/<music21.beam.Beam 2/stop>>, at index 2 of \n",
      "[None, None, <music21.beam.Beams <music21.beam.Beam 1/start>/<music21.beam.Beam 2/partial/right>>, <music21.beam.Beams <music21.beam.Beam 1/stop>/<music21.beam.Beam 2/stop>>]\n",
      "meter: WARNING: Found a messed up beam pair <music21.beam.Beams <music21.beam.Beam 1/start>/<music21.beam.Beam 2/partial/right>>, <music21.beam.Beams <music21.beam.Beam 1/stop>/<music21.beam.Beam 2/stop>>, at index 2 of \n",
      "[None, None, <music21.beam.Beams <music21.beam.Beam 1/start>/<music21.beam.Beam 2/partial/right>>, <music21.beam.Beams <music21.beam.Beam 1/stop>/<music21.beam.Beam 2/stop>>]\n",
      "meter: WARNING: Found a messed up beam pair <music21.beam.Beams <music21.beam.Beam 1/start>/<music21.beam.Beam 2/partial/right>>, <music21.beam.Beams <music21.beam.Beam 1/stop>/<music21.beam.Beam 2/stop>>, at index 1 of \n",
      "[None, <music21.beam.Beams <music21.beam.Beam 1/start>/<music21.beam.Beam 2/partial/right>>, <music21.beam.Beams <music21.beam.Beam 1/stop>/<music21.beam.Beam 2/stop>>]\n"
     ]
    },
    {
     "name": "stdout",
     "output_type": "stream",
     "text": [
      "Parsing ./data/Pokemon RubySapphireEmerald - Wild Pokemon Battle.mid\n",
      "Parsing ./data/Pokemon RubySapphireEmerald - Wild Pokemon Caught or Fainted.mid\n",
      "Parsing ./data/Pokemon Snap - A Mysterious Sighting.mid\n",
      "Parsing ./data/Pokemon Snap - Snapshot Lullaby.mid\n",
      "Parsing ./data/Pokemon Trading Card Game - Title Screen.mid\n",
      "Parsing ./data/Pokemon DiamondPearlPlatinum - Old Chateau.mid\n",
      "Parsing ./data/Pokemon DiamondPearlPlatinum - Poketch Addition.mid\n",
      "Parsing ./data/Pokemon DiamondPearlPlatinum - Pokemon League Day.mid\n",
      "Parsing ./data/Pokemon DiamondPearlPlatinum - Research Lab.mid\n",
      "Parsing ./data/Pokemon DiamondPearlPlatinum - Route 202.mid\n",
      "Parsing ./data/Pokemon DiamondPearlPlatinum - Route 205 Night.mid\n",
      "Parsing ./data/Pokemon DiamondPearlPlatinum - Route 205.mid\n",
      "Parsing ./data/Pokemon DiamondPearlPlatinum - Route 209.mid\n",
      "Parsing ./data/Pokemon DiamondPearlPlatinum - Route 225 Night.mid\n",
      "Parsing ./data/Pokemon HeartGoldSoulSilver - PokeWalker Synchronisation.mid\n",
      "Parsing ./data/Pokemon DiamondPearlPlatinum - Route 228 Night.mid\n",
      "Parsing ./data/Pokemon HeartGoldSoulSilver - Route 4748.mid\n",
      "Parsing ./data/Pokemon HeartGoldSoulSilver - Safari Zone Gate.mid\n",
      "Parsing ./data/Pokemon HeartGoldSoulSilver - Team Rocket Hideout.mid\n",
      "Parsing ./data/Pokemon HeartGoldSoulSilver - Title.mid\n",
      "Parsing ./data/Pokemon HeartGoldSoulSilver - Viridian Forest.mid\n",
      "Parsing ./data/Pokemon Mystery Dungeon - Red Rescue Team - Pokemon Square.mid\n",
      "Parsing ./data/Pokemon Mystery Dungeon BlueRed Rescue Team - Escape Through the Snow  Snow Refugees.mid\n",
      "Parsing ./data/Pokemon Mystery Dungeon BlueRed Rescue Team - Friend Area  Swamp.mid\n",
      "Parsing ./data/Pokemon Mystery Dungeon BlueRed Rescue Team - Great Canyon.mid\n",
      "Parsing ./data/Pokemon Mystery Dungeon BlueRed Rescue Team - Monster House.mid\n"
     ]
    },
    {
     "name": "stderr",
     "output_type": "stream",
     "text": [
      "meter: WARNING: Found a messed up beam pair <music21.beam.Beams <music21.beam.Beam 1/start>/<music21.beam.Beam 2/partial/right>>, <music21.beam.Beams <music21.beam.Beam 1/stop>/<music21.beam.Beam 2/stop>>, at index 7 of \n",
      "[<music21.beam.Beams <music21.beam.Beam 1/start>/<music21.beam.Beam 2/start>>, <music21.beam.Beams <music21.beam.Beam 1/stop>/<music21.beam.Beam 2/stop>>, <music21.beam.Beams <music21.beam.Beam 1/start>/<music21.beam.Beam 2/start>>, <music21.beam.Beams <music21.beam.Beam 1/stop>/<music21.beam.Beam 2/stop>>, None, None, None, <music21.beam.Beams <music21.beam.Beam 1/start>/<music21.beam.Beam 2/partial/right>>, <music21.beam.Beams <music21.beam.Beam 1/stop>/<music21.beam.Beam 2/stop>>]\n",
      "meter: WARNING: Found a messed up beam pair <music21.beam.Beams <music21.beam.Beam 1/start>/<music21.beam.Beam 2/partial/right>>, <music21.beam.Beams <music21.beam.Beam 1/stop>/<music21.beam.Beam 2/stop>>, at index 6 of \n",
      "[<music21.beam.Beams <music21.beam.Beam 1/start>/<music21.beam.Beam 2/start>>, <music21.beam.Beams <music21.beam.Beam 1/stop>/<music21.beam.Beam 2/stop>>, <music21.beam.Beams <music21.beam.Beam 1/start>>, <music21.beam.Beams <music21.beam.Beam 1/stop>/<music21.beam.Beam 2/partial/left>>, None, None, <music21.beam.Beams <music21.beam.Beam 1/start>/<music21.beam.Beam 2/partial/right>>, <music21.beam.Beams <music21.beam.Beam 1/stop>/<music21.beam.Beam 2/stop>>]\n",
      "meter: WARNING: Found a messed up beam pair <music21.beam.Beams <music21.beam.Beam 1/start>/<music21.beam.Beam 2/partial/right>>, <music21.beam.Beams <music21.beam.Beam 1/stop>/<music21.beam.Beam 2/stop>>, at index 6 of \n",
      "[<music21.beam.Beams <music21.beam.Beam 1/start>/<music21.beam.Beam 2/start>>, <music21.beam.Beams <music21.beam.Beam 1/stop>/<music21.beam.Beam 2/stop>>, <music21.beam.Beams <music21.beam.Beam 1/start>>, <music21.beam.Beams <music21.beam.Beam 1/stop>/<music21.beam.Beam 2/partial/left>>, None, None, <music21.beam.Beams <music21.beam.Beam 1/start>/<music21.beam.Beam 2/partial/right>>, <music21.beam.Beams <music21.beam.Beam 1/stop>/<music21.beam.Beam 2/stop>>]\n",
      "meter: WARNING: Found a messed up beam pair <music21.beam.Beams <music21.beam.Beam 1/start>/<music21.beam.Beam 2/partial/right>>, <music21.beam.Beams <music21.beam.Beam 1/stop>/<music21.beam.Beam 2/stop>>, at index 6 of \n",
      "[<music21.beam.Beams <music21.beam.Beam 1/start>/<music21.beam.Beam 2/start>>, <music21.beam.Beams <music21.beam.Beam 1/stop>/<music21.beam.Beam 2/stop>>, None, None, None, None, <music21.beam.Beams <music21.beam.Beam 1/start>/<music21.beam.Beam 2/partial/right>>, <music21.beam.Beams <music21.beam.Beam 1/stop>/<music21.beam.Beam 2/stop>>]\n",
      "meter: WARNING: Found a messed up beam pair <music21.beam.Beams <music21.beam.Beam 1/start>/<music21.beam.Beam 2/partial/right>>, <music21.beam.Beams <music21.beam.Beam 1/stop>/<music21.beam.Beam 2/stop>>, at index 6 of \n",
      "[<music21.beam.Beams <music21.beam.Beam 1/start>/<music21.beam.Beam 2/start>>, <music21.beam.Beams <music21.beam.Beam 1/stop>/<music21.beam.Beam 2/stop>>, <music21.beam.Beams <music21.beam.Beam 1/start>>, <music21.beam.Beams <music21.beam.Beam 1/stop>/<music21.beam.Beam 2/partial/left>>, None, None, <music21.beam.Beams <music21.beam.Beam 1/start>/<music21.beam.Beam 2/partial/right>>, <music21.beam.Beams <music21.beam.Beam 1/stop>/<music21.beam.Beam 2/stop>>]\n",
      "meter: WARNING: Found a messed up beam pair <music21.beam.Beams <music21.beam.Beam 1/start>/<music21.beam.Beam 2/partial/right>>, <music21.beam.Beams <music21.beam.Beam 1/stop>/<music21.beam.Beam 2/stop>>, at index 6 of \n",
      "[<music21.beam.Beams <music21.beam.Beam 1/start>/<music21.beam.Beam 2/start>>, <music21.beam.Beams <music21.beam.Beam 1/stop>/<music21.beam.Beam 2/stop>>, <music21.beam.Beams <music21.beam.Beam 1/start>>, <music21.beam.Beams <music21.beam.Beam 1/stop>/<music21.beam.Beam 2/partial/left>>, None, None, <music21.beam.Beams <music21.beam.Beam 1/start>/<music21.beam.Beam 2/partial/right>>, <music21.beam.Beams <music21.beam.Beam 1/stop>/<music21.beam.Beam 2/stop>>]\n",
      "meter: WARNING: Found a messed up beam pair <music21.beam.Beams <music21.beam.Beam 1/start>/<music21.beam.Beam 2/partial/right>>, <music21.beam.Beams <music21.beam.Beam 1/stop>/<music21.beam.Beam 2/stop>>, at index 6 of \n",
      "[<music21.beam.Beams <music21.beam.Beam 1/start>/<music21.beam.Beam 2/start>>, <music21.beam.Beams <music21.beam.Beam 1/stop>/<music21.beam.Beam 2/stop>>, None, None, None, None, <music21.beam.Beams <music21.beam.Beam 1/start>/<music21.beam.Beam 2/partial/right>>, <music21.beam.Beams <music21.beam.Beam 1/stop>/<music21.beam.Beam 2/stop>>]\n"
     ]
    },
    {
     "name": "stdout",
     "output_type": "stream",
     "text": [
      "Parsing ./data/Pokemon Mystery Dungeon BlueRed Rescue Team - Parting.mid\n",
      "Parsing ./data/Pokemon DiamondPearlPlatinum - Spear Pillar.mid\n",
      "Parsing ./data/Pokemon DiamondPearlPlatinum - Stark Mountain.mid\n",
      "Parsing ./data/Pokemon DiamondPearlPlatinum - Team Galactic Grunt Battle.mid\n",
      "Parsing ./data/Pokemon DiamondPearlPlatinum - Torn WorldDistortion World.mid\n",
      "Parsing ./data/Pokemon DiamondPearlPlatinum - Twinleaf Town Day.mid\n",
      "Parsing ./data/Pokemon DiamondPearlPlatinum - Veilstone City.mid\n",
      "Parsing ./data/Pokemon DiamondPearlPlatinum - Villa  Twinleaf Music Box.mid\n",
      "Parsing ./data/Pokemon DiamondPearlPlatinum - WiFi Lobby.mid\n",
      "Parsing ./data/Pokemon Gold, Silver, Crystal - Cinnabar Island (HGSS Version).mid\n",
      "Parsing ./data/Pokemon Gold, Silver, Crystal - S.S. Aqua .mid\n",
      "Parsing ./data/Pokemon GoldSilverCrystal - Azalea TownBlackthorn City.mid\n",
      "Parsing ./data/Pokemon Mystery Dungeon BlueRed Rescue Team - Rescue Team Base.mid\n",
      "Parsing ./data/Pokemon Mystery Dungeon BlueRed Rescue Team - Sinister Woods.mid\n",
      "Parsing ./data/Pokemon Mystery Dungeon BlueRed Rescue Team - Sky Tower.mid\n",
      "Parsing ./data/Pokemon Mystery Dungeon BlueRed Rescue Team - Tiny Woods.mid\n",
      "Parsing ./data/Pokemon Mystery Dungeon BlueRed Rescue Team - Title Screen.mid\n"
     ]
    },
    {
     "name": "stderr",
     "output_type": "stream",
     "text": [
      "meter: WARNING: Found a messed up beam pair <music21.beam.Beams <music21.beam.Beam 1/start>/<music21.beam.Beam 2/partial/right>>, <music21.beam.Beams <music21.beam.Beam 1/stop>/<music21.beam.Beam 2/stop>>, at index 12 of \n",
      "[<music21.beam.Beams <music21.beam.Beam 1/start>/<music21.beam.Beam 2/start>>, <music21.beam.Beams <music21.beam.Beam 1/continue>/<music21.beam.Beam 2/continue>>, <music21.beam.Beams <music21.beam.Beam 1/stop>/<music21.beam.Beam 2/stop>>, <music21.beam.Beams <music21.beam.Beam 1/start>/<music21.beam.Beam 2/start>>, <music21.beam.Beams <music21.beam.Beam 1/continue>/<music21.beam.Beam 2/stop>>, <music21.beam.Beams <music21.beam.Beam 1/continue>/<music21.beam.Beam 2/start>>, <music21.beam.Beams <music21.beam.Beam 1/stop>/<music21.beam.Beam 2/stop>>, <music21.beam.Beams <music21.beam.Beam 1/start>/<music21.beam.Beam 2/start>>, <music21.beam.Beams <music21.beam.Beam 1/stop>/<music21.beam.Beam 2/stop>>, None, None, None, <music21.beam.Beams <music21.beam.Beam 1/start>/<music21.beam.Beam 2/partial/right>>, <music21.beam.Beams <music21.beam.Beam 1/stop>/<music21.beam.Beam 2/stop>>]\n",
      "meter: WARNING: Found a messed up beam pair <music21.beam.Beams <music21.beam.Beam 1/start>/<music21.beam.Beam 2/partial/right>>, <music21.beam.Beams <music21.beam.Beam 1/stop>/<music21.beam.Beam 2/stop>>, at index 12 of \n",
      "[<music21.beam.Beams <music21.beam.Beam 1/start>/<music21.beam.Beam 2/start>>, <music21.beam.Beams <music21.beam.Beam 1/continue>/<music21.beam.Beam 2/continue>>, <music21.beam.Beams <music21.beam.Beam 1/stop>/<music21.beam.Beam 2/stop>>, <music21.beam.Beams <music21.beam.Beam 1/start>/<music21.beam.Beam 2/start>>, <music21.beam.Beams <music21.beam.Beam 1/continue>/<music21.beam.Beam 2/stop>>, <music21.beam.Beams <music21.beam.Beam 1/continue>/<music21.beam.Beam 2/start>>, <music21.beam.Beams <music21.beam.Beam 1/stop>/<music21.beam.Beam 2/stop>>, <music21.beam.Beams <music21.beam.Beam 1/start>/<music21.beam.Beam 2/start>>, <music21.beam.Beams <music21.beam.Beam 1/stop>/<music21.beam.Beam 2/stop>>, None, None, None, <music21.beam.Beams <music21.beam.Beam 1/start>/<music21.beam.Beam 2/partial/right>>, <music21.beam.Beams <music21.beam.Beam 1/stop>/<music21.beam.Beam 2/stop>>]\n"
     ]
    },
    {
     "name": "stdout",
     "output_type": "stream",
     "text": [
      "Parsing ./data/Pokemon Mystery Dungeon Explorers of TimeDarknessSky - A Sinister Smell Team Skulls Theme.mid\n",
      "Parsing ./data/Pokemon Mystery Dungeon Explorers of TimeDarknessSky - A Wish For Peace.mid\n",
      "Parsing ./data/Pokemon Mystery Dungeon Explorers of TimeDarknessSky - Aegis Cave.mid\n",
      "Parsing ./data/Pokemon Mystery Dungeon Explorers of TimeDarknessSky - Amp Plains.mid\n"
     ]
    },
    {
     "name": "stderr",
     "output_type": "stream",
     "text": [
      "meter: WARNING: Found a messed up beam pair <music21.beam.Beams <music21.beam.Beam 1/start>/<music21.beam.Beam 2/partial/right>>, <music21.beam.Beams <music21.beam.Beam 1/stop>/<music21.beam.Beam 2/stop>>, at index 11 of \n",
      "[None, None, None, None, None, None, None, None, None, None, None, <music21.beam.Beams <music21.beam.Beam 1/start>/<music21.beam.Beam 2/partial/right>>, <music21.beam.Beams <music21.beam.Beam 1/stop>/<music21.beam.Beam 2/stop>>]\n",
      "meter: WARNING: Found a messed up beam pair <music21.beam.Beams <music21.beam.Beam 1/start>/<music21.beam.Beam 2/partial/right>>, <music21.beam.Beams <music21.beam.Beam 1/stop>/<music21.beam.Beam 2/stop>>, at index 27 of \n",
      "[None, None, None, None, None, None, None, None, None, None, None, None, None, None, None, None, None, None, None, None, None, None, None, None, None, None, None, <music21.beam.Beams <music21.beam.Beam 1/start>/<music21.beam.Beam 2/partial/right>>, <music21.beam.Beams <music21.beam.Beam 1/stop>/<music21.beam.Beam 2/stop>>]\n"
     ]
    },
    {
     "name": "stdout",
     "output_type": "stream",
     "text": [
      "Parsing ./data/Pokemon Mystery Dungeon Explorers of TimeDarknessSky - Apple Woods.mid\n",
      "Parsing ./data/Pokemon Mystery Dungeon Explorers of TimeDarknessSky - At the End of the Day.mid\n",
      "Parsing ./data/Pokemon Mystery Dungeon Explorers of TimeDarknessSky - Defend Globe.mid\n",
      "Parsing ./data/Pokemon Mystery Dungeon Explorers of TimeDarknessSky - Drenched Bluff.mid\n",
      "Parsing ./data/Pokemon Mystery Dungeon Explorers of TimeDarknessSky - Dusk Forest.mid\n",
      "Parsing ./data/Pokemon Mystery Dungeon Explorers of TimeDarknessSky - Ending Theme.mid\n",
      "Parsing ./data/Pokemon Mystery Dungeon Explorers of TimeDarknessSky - Epilogue Theme.mid\n",
      "Parsing ./data/Pokemon Mystery Dungeon Explorers of TimeDarknessSky - Foggy Forest.mid\n",
      "Parsing ./data/Pokemon Mystery Dungeon Explorers of TimeDarknessSky - Guildmaster Wigglytuff.mid\n",
      "Parsing ./data/Pokemon Mystery Dungeon Explorers of TimeDarknessSky - Heartwarming.mid\n"
     ]
    },
    {
     "name": "stderr",
     "output_type": "stream",
     "text": [
      "meter: WARNING: Found a messed up beam pair <music21.beam.Beams <music21.beam.Beam 1/start>/<music21.beam.Beam 2/partial/right>>, <music21.beam.Beams <music21.beam.Beam 1/stop>/<music21.beam.Beam 2/stop>>, at index 8 of \n",
      "[None, None, None, <music21.beam.Beams <music21.beam.Beam 1/start>/<music21.beam.Beam 2/start>>, <music21.beam.Beams <music21.beam.Beam 1/stop>/<music21.beam.Beam 2/continue>>, <music21.beam.Beams <music21.beam.Beam 1/partial/left>/<music21.beam.Beam 2/stop>>, None, None, <music21.beam.Beams <music21.beam.Beam 1/start>/<music21.beam.Beam 2/partial/right>>, <music21.beam.Beams <music21.beam.Beam 1/stop>/<music21.beam.Beam 2/stop>>]\n",
      "meter: WARNING: Found a messed up beam pair <music21.beam.Beams <music21.beam.Beam 1/start>/<music21.beam.Beam 2/partial/right>>, <music21.beam.Beams <music21.beam.Beam 1/stop>/<music21.beam.Beam 2/stop>>, at index 8 of \n",
      "[None, None, None, <music21.beam.Beams <music21.beam.Beam 1/start>/<music21.beam.Beam 2/start>>, <music21.beam.Beams <music21.beam.Beam 1/stop>/<music21.beam.Beam 2/continue>>, <music21.beam.Beams <music21.beam.Beam 1/partial/left>/<music21.beam.Beam 2/stop>>, None, None, <music21.beam.Beams <music21.beam.Beam 1/start>/<music21.beam.Beam 2/partial/right>>, <music21.beam.Beams <music21.beam.Beam 1/stop>/<music21.beam.Beam 2/stop>>]\n",
      "meter: WARNING: Found a messed up beam pair <music21.beam.Beams <music21.beam.Beam 1/start>/<music21.beam.Beam 2/partial/right>>, <music21.beam.Beams <music21.beam.Beam 1/stop>/<music21.beam.Beam 2/stop>>, at index 8 of \n",
      "[None, None, None, <music21.beam.Beams <music21.beam.Beam 1/start>/<music21.beam.Beam 2/start>>, <music21.beam.Beams <music21.beam.Beam 1/stop>/<music21.beam.Beam 2/continue>>, <music21.beam.Beams <music21.beam.Beam 1/partial/left>/<music21.beam.Beam 2/stop>>, None, None, <music21.beam.Beams <music21.beam.Beam 1/start>/<music21.beam.Beam 2/partial/right>>, <music21.beam.Beams <music21.beam.Beam 1/stop>/<music21.beam.Beam 2/stop>>]\n",
      "meter: WARNING: Found a messed up beam pair <music21.beam.Beams <music21.beam.Beam 1/start>/<music21.beam.Beam 2/partial/right>>, <music21.beam.Beams <music21.beam.Beam 1/stop>/<music21.beam.Beam 2/stop>>, at index 8 of \n",
      "[None, None, None, <music21.beam.Beams <music21.beam.Beam 1/start>/<music21.beam.Beam 2/start>>, <music21.beam.Beams <music21.beam.Beam 1/stop>/<music21.beam.Beam 2/continue>>, <music21.beam.Beams <music21.beam.Beam 1/partial/left>/<music21.beam.Beam 2/stop>>, None, None, <music21.beam.Beams <music21.beam.Beam 1/start>/<music21.beam.Beam 2/partial/right>>, <music21.beam.Beams <music21.beam.Beam 1/stop>/<music21.beam.Beam 2/stop>>]\n",
      "meter: WARNING: Found a messed up beam pair <music21.beam.Beams <music21.beam.Beam 1/start>/<music21.beam.Beam 2/partial/right>>, <music21.beam.Beams <music21.beam.Beam 1/stop>/<music21.beam.Beam 2/stop>>, at index 6 of \n",
      "[<music21.beam.Beams <music21.beam.Beam 1/start>>, <music21.beam.Beams <music21.beam.Beam 1/stop>>, <music21.beam.Beams <music21.beam.Beam 1/start>>, <music21.beam.Beams <music21.beam.Beam 1/stop>>, <music21.beam.Beams <music21.beam.Beam 1/start>>, <music21.beam.Beams <music21.beam.Beam 1/stop>>, <music21.beam.Beams <music21.beam.Beam 1/start>/<music21.beam.Beam 2/partial/right>>, <music21.beam.Beams <music21.beam.Beam 1/stop>/<music21.beam.Beam 2/stop>>]\n"
     ]
    },
    {
     "name": "stdout",
     "output_type": "stream",
     "text": [
      "Parsing ./data/Pokemon Mystery Dungeon Explorers of TimeDarknessSky - Hidden Highland.mid\n"
     ]
    },
    {
     "name": "stderr",
     "output_type": "stream",
     "text": [
      "meter: WARNING: Found a messed up beam pair <music21.beam.Beams <music21.beam.Beam 1/start>/<music21.beam.Beam 2/partial/right>>, <music21.beam.Beams <music21.beam.Beam 1/stop>/<music21.beam.Beam 2/stop>>, at index 6 of \n",
      "[<music21.beam.Beams <music21.beam.Beam 1/start>>, <music21.beam.Beams <music21.beam.Beam 1/stop>>, <music21.beam.Beams <music21.beam.Beam 1/start>>, <music21.beam.Beams <music21.beam.Beam 1/stop>>, <music21.beam.Beams <music21.beam.Beam 1/start>>, <music21.beam.Beams <music21.beam.Beam 1/stop>>, <music21.beam.Beams <music21.beam.Beam 1/start>/<music21.beam.Beam 2/partial/right>>, <music21.beam.Beams <music21.beam.Beam 1/stop>/<music21.beam.Beam 2/stop>>]\n",
      "meter: WARNING: Found a messed up beam pair <music21.beam.Beams <music21.beam.Beam 1/start>/<music21.beam.Beam 2/partial/right>>, <music21.beam.Beams <music21.beam.Beam 1/stop>/<music21.beam.Beam 2/stop>>, at index 3 of \n",
      "[None, <music21.beam.Beams <music21.beam.Beam 1/start>>, <music21.beam.Beams <music21.beam.Beam 1/stop>>, <music21.beam.Beams <music21.beam.Beam 1/start>/<music21.beam.Beam 2/partial/right>>, <music21.beam.Beams <music21.beam.Beam 1/stop>/<music21.beam.Beam 2/stop>>]\n",
      "meter: WARNING: Found a messed up beam pair <music21.beam.Beams <music21.beam.Beam 1/start>/<music21.beam.Beam 2/partial/right>>, <music21.beam.Beams <music21.beam.Beam 1/stop>/<music21.beam.Beam 2/stop>>, at index 3 of \n",
      "[None, <music21.beam.Beams <music21.beam.Beam 1/start>>, <music21.beam.Beams <music21.beam.Beam 1/stop>>, <music21.beam.Beams <music21.beam.Beam 1/start>/<music21.beam.Beam 2/partial/right>>, <music21.beam.Beams <music21.beam.Beam 1/stop>/<music21.beam.Beam 2/stop>>]\n"
     ]
    },
    {
     "name": "stdout",
     "output_type": "stream",
     "text": [
      "Parsing ./data/Pokemon Mystery Dungeon Explorers of TimeDarknessSky - Hidden Land.mid\n",
      "Parsing ./data/Pokemon Mystery Dungeon Explorers of TimeDarknessSky - I Dont Want to Say Goodbye.mid\n",
      "Parsing ./data/Pokemon Mystery Dungeon Explorers of TimeDarknessSky - In the Hands of Fate.mid\n",
      "Parsing ./data/Pokemon Mystery Dungeon Explorers of TimeDarknessSky - Lower Brine Cave.mid\n",
      "Parsing ./data/Pokemon Mystery Dungeon Explorers of TimeDarknessSky - Oh No.mid\n",
      "Parsing ./data/Pokemon Mystery Dungeon Explorers of TimeDarknessSky - Palkias Onslaught.mid\n",
      "Parsing ./data/Pokemon Mystery Dungeon Explorers of TimeDarknessSky - Pelippers Island.mid\n",
      "Parsing ./data/Pokemon Mystery Dungeon Explorers of TimeDarknessSky - Sealed Ruin Pit.mid\n",
      "Parsing ./data/Pokemon Mystery Dungeon Explorers of TimeDarknessSky - Sky Peak Final Pass.mid\n",
      "Parsing ./data/Pokemon Mystery Dungeon Explorers of TimeDarknessSky - Spacial Cliffs.mid\n",
      "Parsing ./data/Pokemon Mystery Dungeon Explorers of TimeDarknessSky - Spindas Cafe.mid\n",
      "Parsing ./data/Pokemon Mystery Dungeon Explorers of TimeDarknessSky - Steam Cave.mid\n",
      "Parsing ./data/Pokemon Mystery Dungeon Explorers of TimeDarknessSky - Team Charms Theme.mid\n",
      "Parsing ./data/Pokemon Mystery Dungeon Explorers of TimeDarknessSky - Temporal Tower.mid\n",
      "Parsing ./data/Pokemon Mystery Dungeon Explorers of TimeDarknessSky - Time Gear Remix.mid\n",
      "Parsing ./data/Pokemon Mystery Dungeon Explorers of TimeDarknessSky - Title Theme.mid\n",
      "Parsing ./data/Pokemon Mystery Dungeon Gates to Infinity - Desperation Light Arrangement.mid\n",
      "Parsing ./data/Pokemon Mystery Dungeon Gates to Infinity - File Select.mid\n",
      "Parsing ./data/Pokemon Omega RubyAlpha Sapphire - Leaders Theme Team MagmaTeam Aqua.mid\n",
      "Parsing ./data/Pokemon Omega RubyAlpha Sapphire - Strains of a New Beginning Theme of rs.mid\n",
      "Parsing ./data/Pokemon Omega RubyAlpha Sapphire - The Lament of Falling Stars.mid\n",
      "Parsing ./data/Pokemon Omega RubyAlpha Sapphire - Trainers Eyes Meet Poke Fan.mid\n"
     ]
    },
    {
     "name": "stderr",
     "output_type": "stream",
     "text": [
      "meter: WARNING: Found a messed up beam pair <music21.beam.Beams <music21.beam.Beam 1/start>/<music21.beam.Beam 2/partial/right>>, <music21.beam.Beams <music21.beam.Beam 1/stop>/<music21.beam.Beam 2/stop>>, at index 4 of \n",
      "[None, <music21.beam.Beams <music21.beam.Beam 1/start>/<music21.beam.Beam 2/start>>, <music21.beam.Beams <music21.beam.Beam 1/stop>/<music21.beam.Beam 2/stop>>, None, <music21.beam.Beams <music21.beam.Beam 1/start>/<music21.beam.Beam 2/partial/right>>, <music21.beam.Beams <music21.beam.Beam 1/stop>/<music21.beam.Beam 2/stop>>]\n",
      "meter: WARNING: Found a messed up beam pair <music21.beam.Beams <music21.beam.Beam 1/start>/<music21.beam.Beam 2/partial/right>>, <music21.beam.Beams <music21.beam.Beam 1/stop>/<music21.beam.Beam 2/stop>>, at index 4 of \n",
      "[None, <music21.beam.Beams <music21.beam.Beam 1/start>/<music21.beam.Beam 2/start>>, <music21.beam.Beams <music21.beam.Beam 1/stop>/<music21.beam.Beam 2/stop>>, None, <music21.beam.Beams <music21.beam.Beam 1/start>/<music21.beam.Beam 2/partial/right>>, <music21.beam.Beams <music21.beam.Beam 1/stop>/<music21.beam.Beam 2/stop>>]\n",
      "meter: WARNING: Found a messed up beam pair <music21.beam.Beams <music21.beam.Beam 1/start>/<music21.beam.Beam 2/partial/right>>, <music21.beam.Beams <music21.beam.Beam 1/stop>/<music21.beam.Beam 2/stop>>, at index 4 of \n",
      "[None, <music21.beam.Beams <music21.beam.Beam 1/start>/<music21.beam.Beam 2/start>>, <music21.beam.Beams <music21.beam.Beam 1/stop>/<music21.beam.Beam 2/stop>>, None, <music21.beam.Beams <music21.beam.Beam 1/start>/<music21.beam.Beam 2/partial/right>>, <music21.beam.Beams <music21.beam.Beam 1/stop>/<music21.beam.Beam 2/stop>>]\n",
      "meter: WARNING: Found a messed up beam pair <music21.beam.Beams <music21.beam.Beam 1/start>/<music21.beam.Beam 2/partial/right>>, <music21.beam.Beams <music21.beam.Beam 1/stop>/<music21.beam.Beam 2/stop>>, at index 4 of \n",
      "[None, <music21.beam.Beams <music21.beam.Beam 1/start>/<music21.beam.Beam 2/start>>, <music21.beam.Beams <music21.beam.Beam 1/stop>/<music21.beam.Beam 2/stop>>, None, <music21.beam.Beams <music21.beam.Beam 1/start>/<music21.beam.Beam 2/partial/right>>, <music21.beam.Beams <music21.beam.Beam 1/stop>/<music21.beam.Beam 2/stop>>]\n"
     ]
    },
    {
     "name": "stdout",
     "output_type": "stream",
     "text": [
      "Parsing ./data/Pokemon Pinball - Field Select.mid\n",
      "Parsing ./data/Pokemon Pinball - Catch Em and Evolution Mode in Red Field.mid\n",
      "Parsing ./data/Pokemon Pinball - Pokedex.mid\n",
      "Parsing ./data/test/Zelda - Ocarina of Time - Song of Time.mid\n",
      "Saving Zelda - Ocarina of Time - Song of Time0.npy\n",
      " ✔️ : Zelda - Ocarina of Time - Song of Time0.npy was saved\n",
      "Finished\n",
      "Finished\n",
      "Finished\n",
      "Finished\n"
     ]
    }
   ],
   "source": [
    "createDataset(\"./data/\")\n",
    "\n",
    "# ABCDEFGHIJKMNOPQRSTUVWXY\n",
    "# createDataset(f\"./gdrive/My Drive/training_data/130000MIDI/130000MIDI/A/\")"
   ]
  }
 ],
 "metadata": {
  "kernelspec": {
   "display_name": "Python 3",
   "language": "python",
   "name": "python3"
  },
  "language_info": {
   "codemirror_mode": {
    "name": "ipython",
    "version": 3
   },
   "file_extension": ".py",
   "mimetype": "text/x-python",
   "name": "python",
   "nbconvert_exporter": "python",
   "pygments_lexer": "ipython3",
   "version": "3.6.6"
  }
 },
 "nbformat": 4,
 "nbformat_minor": 2
}
